{
  "nbformat": 4,
  "nbformat_minor": 0,
  "metadata": {
    "colab": {
      "provenance": [],
      "machine_shape": "hm"
    },
    "kernelspec": {
      "name": "python3",
      "display_name": "Python 3"
    },
    "language_info": {
      "name": "python"
    }
  },
  "cells": [
    {
      "cell_type": "markdown",
      "source": [
        "Import libraries"
      ],
      "metadata": {
        "id": "OvTTZrBLb_1y"
      }
    },
    {
      "cell_type": "code",
      "execution_count": 1,
      "metadata": {
        "id": "xRE_2yQubWe3"
      },
      "outputs": [],
      "source": [
        "import os\n",
        "import pandas as pd\n",
        "import re"
      ]
    },
    {
      "cell_type": "markdown",
      "source": [
        "Def line parsing function"
      ],
      "metadata": {
        "id": "jsqjATcBchh4"
      }
    },
    {
      "cell_type": "code",
      "source": [
        "def parse_line(line):\n",
        "    parts = line.strip()[1:-1].split(', ', 2)\n",
        "    if len(parts) < 3:\n",
        "        return None, None, [], []\n",
        "    timestamp = float(parts[0])\n",
        "    exchange = parts[1].strip('\\'')\n",
        "    bid_ask_data = parts[2][1:-1]\n",
        "    bid_data = re.findall(r'\\[\\'bid\\', \\[\\[(.*?)\\]\\]\\]', bid_ask_data)\n",
        "    bid = [list(map(int, pair.split(', '))) for pair in bid_data[0].split('], [')] if bid_data else []\n",
        "    ask_data = re.findall(r'\\[\\'ask\\', \\[\\[(.*?)\\]\\]\\]', bid_ask_data)\n",
        "    ask = [list(map(int, pair.split(', '))) for pair in ask_data[0].split('], [')] if ask_data else []\n",
        "    return timestamp, exchange, bid, ask"
      ],
      "metadata": {
        "id": "xSSoZUZebfef"
      },
      "execution_count": 2,
      "outputs": []
    },
    {
      "cell_type": "markdown",
      "source": [
        "Process file chunk function"
      ],
      "metadata": {
        "id": "V-w_qErbcll9"
      }
    },
    {
      "cell_type": "code",
      "source": [
        "def process_file_chunk(file_chunk):\n",
        "    data = []\n",
        "    for line in file_chunk:\n",
        "        parsed_line = parse_line(line)\n",
        "        if parsed_line[0] is not None:  # check that the line was parsed successfully\n",
        "            timestamp, exchange, bid, ask = parsed_line\n",
        "            data.append({'Timestamp': timestamp, 'Exchange': exchange, 'Bid': bid, 'Ask': ask})\n",
        "    return data"
      ],
      "metadata": {
        "id": "pIZbhXuabfp8"
      },
      "execution_count": 3,
      "outputs": []
    },
    {
      "cell_type": "markdown",
      "source": [
        "Iterative file processing with chunking"
      ],
      "metadata": {
        "id": "UZAosQ31crMs"
      }
    },
    {
      "cell_type": "code",
      "source": [
        "def process_files(directory, chunk_size=10000):\n",
        "    for filename in os.listdir(directory):\n",
        "        if filename.endswith(\".txt\"):\n",
        "            file_path = os.path.join(directory, filename)\n",
        "            with open(file_path, 'r') as file:\n",
        "                chunk = []\n",
        "                for line in file:\n",
        "                    chunk.append(line)\n",
        "                    if len(chunk) >= chunk_size:\n",
        "                        yield process_file_chunk(chunk)\n",
        "                        chunk = []  # reset chunk for the next iteration\n",
        "                if chunk:  # process any remaining lines\n",
        "                    yield process_file_chunk(chunk)\n",
        "\n",
        "directory = 'data/lob/'\n",
        "chunk_size = 5000  # might need to adjust here if it crashes!\n",
        "\n",
        "# empty df\n",
        "df = pd.DataFrame()\n",
        "\n",
        "for file_chunk in process_files(directory, chunk_size=chunk_size):\n",
        "    chunk_df = pd.DataFrame(file_chunk)\n",
        "    # could process chunks here?\n",
        "    df = pd.concat([df, chunk_df], ignore_index=True)\n",
        "\n"
      ],
      "metadata": {
        "id": "pWZnA5bvbfrU"
      },
      "execution_count": 4,
      "outputs": []
    },
    {
      "cell_type": "code",
      "source": [
        "df.head()"
      ],
      "metadata": {
        "colab": {
          "base_uri": "https://localhost:8080/",
          "height": 206
        },
        "id": "3tx9A5fj2cMP",
        "outputId": "ada60a62-5313-4493-a77a-ecabbf85cbeb"
      },
      "execution_count": 5,
      "outputs": [
        {
          "output_type": "execute_result",
          "data": {
            "text/plain": [
              "   Timestamp Exchange                  Bid Ask\n",
              "0      0.000    Exch0                   []  []\n",
              "1      0.496    Exch0            [[63, 4]]  []\n",
              "2      0.527    Exch0  [[115, 4], [63, 4]]  []\n",
              "3      0.713    Exch0  [[115, 2], [63, 4]]  []\n",
              "4      0.744    Exch0  [[115, 2], [70, 4]]  []"
            ],
            "text/html": [
              "\n",
              "  <div id=\"df-132a0904-2666-43c6-8caf-687359fefe85\" class=\"colab-df-container\">\n",
              "    <div>\n",
              "<style scoped>\n",
              "    .dataframe tbody tr th:only-of-type {\n",
              "        vertical-align: middle;\n",
              "    }\n",
              "\n",
              "    .dataframe tbody tr th {\n",
              "        vertical-align: top;\n",
              "    }\n",
              "\n",
              "    .dataframe thead th {\n",
              "        text-align: right;\n",
              "    }\n",
              "</style>\n",
              "<table border=\"1\" class=\"dataframe\">\n",
              "  <thead>\n",
              "    <tr style=\"text-align: right;\">\n",
              "      <th></th>\n",
              "      <th>Timestamp</th>\n",
              "      <th>Exchange</th>\n",
              "      <th>Bid</th>\n",
              "      <th>Ask</th>\n",
              "    </tr>\n",
              "  </thead>\n",
              "  <tbody>\n",
              "    <tr>\n",
              "      <th>0</th>\n",
              "      <td>0.000</td>\n",
              "      <td>Exch0</td>\n",
              "      <td>[]</td>\n",
              "      <td>[]</td>\n",
              "    </tr>\n",
              "    <tr>\n",
              "      <th>1</th>\n",
              "      <td>0.496</td>\n",
              "      <td>Exch0</td>\n",
              "      <td>[[63, 4]]</td>\n",
              "      <td>[]</td>\n",
              "    </tr>\n",
              "    <tr>\n",
              "      <th>2</th>\n",
              "      <td>0.527</td>\n",
              "      <td>Exch0</td>\n",
              "      <td>[[115, 4], [63, 4]]</td>\n",
              "      <td>[]</td>\n",
              "    </tr>\n",
              "    <tr>\n",
              "      <th>3</th>\n",
              "      <td>0.713</td>\n",
              "      <td>Exch0</td>\n",
              "      <td>[[115, 2], [63, 4]]</td>\n",
              "      <td>[]</td>\n",
              "    </tr>\n",
              "    <tr>\n",
              "      <th>4</th>\n",
              "      <td>0.744</td>\n",
              "      <td>Exch0</td>\n",
              "      <td>[[115, 2], [70, 4]]</td>\n",
              "      <td>[]</td>\n",
              "    </tr>\n",
              "  </tbody>\n",
              "</table>\n",
              "</div>\n",
              "    <div class=\"colab-df-buttons\">\n",
              "\n",
              "  <div class=\"colab-df-container\">\n",
              "    <button class=\"colab-df-convert\" onclick=\"convertToInteractive('df-132a0904-2666-43c6-8caf-687359fefe85')\"\n",
              "            title=\"Convert this dataframe to an interactive table.\"\n",
              "            style=\"display:none;\">\n",
              "\n",
              "  <svg xmlns=\"http://www.w3.org/2000/svg\" height=\"24px\" viewBox=\"0 -960 960 960\">\n",
              "    <path d=\"M120-120v-720h720v720H120Zm60-500h600v-160H180v160Zm220 220h160v-160H400v160Zm0 220h160v-160H400v160ZM180-400h160v-160H180v160Zm440 0h160v-160H620v160ZM180-180h160v-160H180v160Zm440 0h160v-160H620v160Z\"/>\n",
              "  </svg>\n",
              "    </button>\n",
              "\n",
              "  <style>\n",
              "    .colab-df-container {\n",
              "      display:flex;\n",
              "      gap: 12px;\n",
              "    }\n",
              "\n",
              "    .colab-df-convert {\n",
              "      background-color: #E8F0FE;\n",
              "      border: none;\n",
              "      border-radius: 50%;\n",
              "      cursor: pointer;\n",
              "      display: none;\n",
              "      fill: #1967D2;\n",
              "      height: 32px;\n",
              "      padding: 0 0 0 0;\n",
              "      width: 32px;\n",
              "    }\n",
              "\n",
              "    .colab-df-convert:hover {\n",
              "      background-color: #E2EBFA;\n",
              "      box-shadow: 0px 1px 2px rgba(60, 64, 67, 0.3), 0px 1px 3px 1px rgba(60, 64, 67, 0.15);\n",
              "      fill: #174EA6;\n",
              "    }\n",
              "\n",
              "    .colab-df-buttons div {\n",
              "      margin-bottom: 4px;\n",
              "    }\n",
              "\n",
              "    [theme=dark] .colab-df-convert {\n",
              "      background-color: #3B4455;\n",
              "      fill: #D2E3FC;\n",
              "    }\n",
              "\n",
              "    [theme=dark] .colab-df-convert:hover {\n",
              "      background-color: #434B5C;\n",
              "      box-shadow: 0px 1px 3px 1px rgba(0, 0, 0, 0.15);\n",
              "      filter: drop-shadow(0px 1px 2px rgba(0, 0, 0, 0.3));\n",
              "      fill: #FFFFFF;\n",
              "    }\n",
              "  </style>\n",
              "\n",
              "    <script>\n",
              "      const buttonEl =\n",
              "        document.querySelector('#df-132a0904-2666-43c6-8caf-687359fefe85 button.colab-df-convert');\n",
              "      buttonEl.style.display =\n",
              "        google.colab.kernel.accessAllowed ? 'block' : 'none';\n",
              "\n",
              "      async function convertToInteractive(key) {\n",
              "        const element = document.querySelector('#df-132a0904-2666-43c6-8caf-687359fefe85');\n",
              "        const dataTable =\n",
              "          await google.colab.kernel.invokeFunction('convertToInteractive',\n",
              "                                                    [key], {});\n",
              "        if (!dataTable) return;\n",
              "\n",
              "        const docLinkHtml = 'Like what you see? Visit the ' +\n",
              "          '<a target=\"_blank\" href=https://colab.research.google.com/notebooks/data_table.ipynb>data table notebook</a>'\n",
              "          + ' to learn more about interactive tables.';\n",
              "        element.innerHTML = '';\n",
              "        dataTable['output_type'] = 'display_data';\n",
              "        await google.colab.output.renderOutput(dataTable, element);\n",
              "        const docLink = document.createElement('div');\n",
              "        docLink.innerHTML = docLinkHtml;\n",
              "        element.appendChild(docLink);\n",
              "      }\n",
              "    </script>\n",
              "  </div>\n",
              "\n",
              "\n",
              "<div id=\"df-aeb8e787-af2f-4b8e-840a-98fc924adb33\">\n",
              "  <button class=\"colab-df-quickchart\" onclick=\"quickchart('df-aeb8e787-af2f-4b8e-840a-98fc924adb33')\"\n",
              "            title=\"Suggest charts\"\n",
              "            style=\"display:none;\">\n",
              "\n",
              "<svg xmlns=\"http://www.w3.org/2000/svg\" height=\"24px\"viewBox=\"0 0 24 24\"\n",
              "     width=\"24px\">\n",
              "    <g>\n",
              "        <path d=\"M19 3H5c-1.1 0-2 .9-2 2v14c0 1.1.9 2 2 2h14c1.1 0 2-.9 2-2V5c0-1.1-.9-2-2-2zM9 17H7v-7h2v7zm4 0h-2V7h2v10zm4 0h-2v-4h2v4z\"/>\n",
              "    </g>\n",
              "</svg>\n",
              "  </button>\n",
              "\n",
              "<style>\n",
              "  .colab-df-quickchart {\n",
              "      --bg-color: #E8F0FE;\n",
              "      --fill-color: #1967D2;\n",
              "      --hover-bg-color: #E2EBFA;\n",
              "      --hover-fill-color: #174EA6;\n",
              "      --disabled-fill-color: #AAA;\n",
              "      --disabled-bg-color: #DDD;\n",
              "  }\n",
              "\n",
              "  [theme=dark] .colab-df-quickchart {\n",
              "      --bg-color: #3B4455;\n",
              "      --fill-color: #D2E3FC;\n",
              "      --hover-bg-color: #434B5C;\n",
              "      --hover-fill-color: #FFFFFF;\n",
              "      --disabled-bg-color: #3B4455;\n",
              "      --disabled-fill-color: #666;\n",
              "  }\n",
              "\n",
              "  .colab-df-quickchart {\n",
              "    background-color: var(--bg-color);\n",
              "    border: none;\n",
              "    border-radius: 50%;\n",
              "    cursor: pointer;\n",
              "    display: none;\n",
              "    fill: var(--fill-color);\n",
              "    height: 32px;\n",
              "    padding: 0;\n",
              "    width: 32px;\n",
              "  }\n",
              "\n",
              "  .colab-df-quickchart:hover {\n",
              "    background-color: var(--hover-bg-color);\n",
              "    box-shadow: 0 1px 2px rgba(60, 64, 67, 0.3), 0 1px 3px 1px rgba(60, 64, 67, 0.15);\n",
              "    fill: var(--button-hover-fill-color);\n",
              "  }\n",
              "\n",
              "  .colab-df-quickchart-complete:disabled,\n",
              "  .colab-df-quickchart-complete:disabled:hover {\n",
              "    background-color: var(--disabled-bg-color);\n",
              "    fill: var(--disabled-fill-color);\n",
              "    box-shadow: none;\n",
              "  }\n",
              "\n",
              "  .colab-df-spinner {\n",
              "    border: 2px solid var(--fill-color);\n",
              "    border-color: transparent;\n",
              "    border-bottom-color: var(--fill-color);\n",
              "    animation:\n",
              "      spin 1s steps(1) infinite;\n",
              "  }\n",
              "\n",
              "  @keyframes spin {\n",
              "    0% {\n",
              "      border-color: transparent;\n",
              "      border-bottom-color: var(--fill-color);\n",
              "      border-left-color: var(--fill-color);\n",
              "    }\n",
              "    20% {\n",
              "      border-color: transparent;\n",
              "      border-left-color: var(--fill-color);\n",
              "      border-top-color: var(--fill-color);\n",
              "    }\n",
              "    30% {\n",
              "      border-color: transparent;\n",
              "      border-left-color: var(--fill-color);\n",
              "      border-top-color: var(--fill-color);\n",
              "      border-right-color: var(--fill-color);\n",
              "    }\n",
              "    40% {\n",
              "      border-color: transparent;\n",
              "      border-right-color: var(--fill-color);\n",
              "      border-top-color: var(--fill-color);\n",
              "    }\n",
              "    60% {\n",
              "      border-color: transparent;\n",
              "      border-right-color: var(--fill-color);\n",
              "    }\n",
              "    80% {\n",
              "      border-color: transparent;\n",
              "      border-right-color: var(--fill-color);\n",
              "      border-bottom-color: var(--fill-color);\n",
              "    }\n",
              "    90% {\n",
              "      border-color: transparent;\n",
              "      border-bottom-color: var(--fill-color);\n",
              "    }\n",
              "  }\n",
              "</style>\n",
              "\n",
              "  <script>\n",
              "    async function quickchart(key) {\n",
              "      const quickchartButtonEl =\n",
              "        document.querySelector('#' + key + ' button');\n",
              "      quickchartButtonEl.disabled = true;  // To prevent multiple clicks.\n",
              "      quickchartButtonEl.classList.add('colab-df-spinner');\n",
              "      try {\n",
              "        const charts = await google.colab.kernel.invokeFunction(\n",
              "            'suggestCharts', [key], {});\n",
              "      } catch (error) {\n",
              "        console.error('Error during call to suggestCharts:', error);\n",
              "      }\n",
              "      quickchartButtonEl.classList.remove('colab-df-spinner');\n",
              "      quickchartButtonEl.classList.add('colab-df-quickchart-complete');\n",
              "    }\n",
              "    (() => {\n",
              "      let quickchartButtonEl =\n",
              "        document.querySelector('#df-aeb8e787-af2f-4b8e-840a-98fc924adb33 button');\n",
              "      quickchartButtonEl.style.display =\n",
              "        google.colab.kernel.accessAllowed ? 'block' : 'none';\n",
              "    })();\n",
              "  </script>\n",
              "</div>\n",
              "    </div>\n",
              "  </div>\n"
            ],
            "application/vnd.google.colaboratory.intrinsic+json": {
              "type": "dataframe",
              "variable_name": "df"
            }
          },
          "metadata": {},
          "execution_count": 5
        }
      ]
    },
    {
      "cell_type": "code",
      "source": [
        "df.to_csv(\"full_lob.csv\", index=False)"
      ],
      "metadata": {
        "id": "2hWFLSsY2zHv",
        "colab": {
          "base_uri": "https://localhost:8080/",
          "height": 141
        },
        "outputId": "71bc72f1-b766-49dd-a7e7-5bd1c9c43b5e"
      },
      "execution_count": 1,
      "outputs": [
        {
          "output_type": "error",
          "ename": "NameError",
          "evalue": "name 'df' is not defined",
          "traceback": [
            "\u001b[0;31m---------------------------------------------------------------------------\u001b[0m",
            "\u001b[0;31mNameError\u001b[0m                                 Traceback (most recent call last)",
            "\u001b[0;32m<ipython-input-1-4b4e06968dc5>\u001b[0m in \u001b[0;36m<cell line: 1>\u001b[0;34m()\u001b[0m\n\u001b[0;32m----> 1\u001b[0;31m \u001b[0mdf\u001b[0m\u001b[0;34m.\u001b[0m\u001b[0mto_csv\u001b[0m\u001b[0;34m(\u001b[0m\u001b[0;34m\"full_lob.csv\"\u001b[0m\u001b[0;34m,\u001b[0m \u001b[0mindex\u001b[0m\u001b[0;34m=\u001b[0m\u001b[0;32mFalse\u001b[0m\u001b[0;34m)\u001b[0m\u001b[0;34m\u001b[0m\u001b[0;34m\u001b[0m\u001b[0m\n\u001b[0m",
            "\u001b[0;31mNameError\u001b[0m: name 'df' is not defined"
          ]
        }
      ]
    },
    {
      "cell_type": "code",
      "source": [
        "import os\n",
        "import pandas as pd\n",
        "import re\n",
        "\n",
        "data = []\n",
        "\n",
        "def parse_line(line):\n",
        "    # trim and split\n",
        "    parts = line.strip()[1:-1].split(', ', 2)\n",
        "    if len(parts) < 3:\n",
        "        #if not enough parts, return a default or error\n",
        "        return None, None, [], []\n",
        "    # extracting values\n",
        "    timestamp = float(parts[0])\n",
        "    exchange = parts[1].strip('\\'')\n",
        "    # extracting bid and ask values\n",
        "    bid_ask_data = parts[2][1:-1]\n",
        "    bid_data = re.findall(r'\\[\\'bid\\', \\[\\[(.*?)\\]\\]\\]', bid_ask_data)\n",
        "    bid = [list(map(int, pair.split(', '))) for pair in bid_data[0].split('], [')] if bid_data else []\n",
        "    ask_data = re.findall(r'\\[\\'ask\\', \\[\\[(.*?)\\]\\]\\]', bid_ask_data)\n",
        "    ask = [list(map(int, pair.split(', '))) for pair in ask_data[0].split('], [')] if ask_data else []\n",
        "    return timestamp, exchange, bid, ask\n",
        "\n",
        "directory = 'data/lob/'\n",
        "\n",
        "for filename in os.listdir(directory):\n",
        "    if filename.endswith(\".txt\"):\n",
        "        with open(os.path.join(directory, filename), 'r') as file:\n",
        "            for line in file:\n",
        "                timestamp, exchange, bid, ask = parse_line(line)\n",
        "                # add  data to list\n",
        "                data.append({'Timestamp': timestamp, 'Exchange': exchange, 'Bid': bid, 'Ask': ask, 'File': filename})\n",
        "\n",
        "# create dataframe from list\n",
        "df = pd.DataFrame(data)\n",
        "\n",
        "df"
      ],
      "metadata": {
        "id": "6Ju7kziR7vTh"
      },
      "execution_count": null,
      "outputs": []
    },
    {
      "cell_type": "markdown",
      "source": [
        "Separate bid and ask columns into rows"
      ],
      "metadata": {
        "id": "Pb28Ubzm8QKn"
      }
    },
    {
      "cell_type": "code",
      "source": [
        "# Columns to melt\n",
        "columns_to_melt = ['Bid', 'Ask']\n",
        "\n",
        "# Melt the specified columns\n",
        "melted_df = df.melt(id_vars=['Timestamp', 'Exchange', 'File'] value_vars=columns_to_melt,\n",
        "                    var_name='Order Type', value_name='Value')\n",
        "\n",
        "melted_df"
      ],
      "metadata": {
        "id": "bLEv_1Orb2v6",
        "colab": {
          "base_uri": "https://localhost:8080/",
          "height": 356
        },
        "outputId": "206c4fc9-76d3-4de3-a484-8766ea7d79aa"
      },
      "execution_count": null,
      "outputs": [
        {
          "output_type": "error",
          "ename": "KeyError",
          "evalue": "\"The following 'id_vars' are not present in the DataFrame: ['File']\"",
          "traceback": [
            "\u001b[0;31m---------------------------------------------------------------------------\u001b[0m",
            "\u001b[0;31mKeyError\u001b[0m                                  Traceback (most recent call last)",
            "\u001b[0;32m<ipython-input-5-5a52efdb5dba>\u001b[0m in \u001b[0;36m<cell line: 5>\u001b[0;34m()\u001b[0m\n\u001b[1;32m      3\u001b[0m \u001b[0;34m\u001b[0m\u001b[0m\n\u001b[1;32m      4\u001b[0m \u001b[0;31m# Melt the specified columns\u001b[0m\u001b[0;34m\u001b[0m\u001b[0;34m\u001b[0m\u001b[0m\n\u001b[0;32m----> 5\u001b[0;31m melted_df = df.melt(id_vars=['Timestamp', 'Exchange', 'File'], value_vars=columns_to_melt,\n\u001b[0m\u001b[1;32m      6\u001b[0m                     var_name='Order Type', value_name='Value')\n\u001b[1;32m      7\u001b[0m \u001b[0;34m\u001b[0m\u001b[0m\n",
            "\u001b[0;32m/usr/local/lib/python3.10/dist-packages/pandas/core/frame.py\u001b[0m in \u001b[0;36mmelt\u001b[0;34m(self, id_vars, value_vars, var_name, value_name, col_level, ignore_index)\u001b[0m\n\u001b[1;32m   9125\u001b[0m     ) -> DataFrame:\n\u001b[1;32m   9126\u001b[0m \u001b[0;34m\u001b[0m\u001b[0m\n\u001b[0;32m-> 9127\u001b[0;31m         return melt(\n\u001b[0m\u001b[1;32m   9128\u001b[0m             \u001b[0mself\u001b[0m\u001b[0;34m,\u001b[0m\u001b[0;34m\u001b[0m\u001b[0;34m\u001b[0m\u001b[0m\n\u001b[1;32m   9129\u001b[0m             \u001b[0mid_vars\u001b[0m\u001b[0;34m=\u001b[0m\u001b[0mid_vars\u001b[0m\u001b[0;34m,\u001b[0m\u001b[0;34m\u001b[0m\u001b[0;34m\u001b[0m\u001b[0m\n",
            "\u001b[0;32m/usr/local/lib/python3.10/dist-packages/pandas/core/reshape/melt.py\u001b[0m in \u001b[0;36mmelt\u001b[0;34m(frame, id_vars, value_vars, var_name, value_name, col_level, ignore_index)\u001b[0m\n\u001b[1;32m     75\u001b[0m             \u001b[0mmissing\u001b[0m \u001b[0;34m=\u001b[0m \u001b[0mIndex\u001b[0m\u001b[0;34m(\u001b[0m\u001b[0mcom\u001b[0m\u001b[0;34m.\u001b[0m\u001b[0mflatten\u001b[0m\u001b[0;34m(\u001b[0m\u001b[0mid_vars\u001b[0m\u001b[0;34m)\u001b[0m\u001b[0;34m)\u001b[0m\u001b[0;34m.\u001b[0m\u001b[0mdifference\u001b[0m\u001b[0;34m(\u001b[0m\u001b[0mcols\u001b[0m\u001b[0;34m)\u001b[0m\u001b[0;34m\u001b[0m\u001b[0;34m\u001b[0m\u001b[0m\n\u001b[1;32m     76\u001b[0m             \u001b[0;32mif\u001b[0m \u001b[0;32mnot\u001b[0m \u001b[0mmissing\u001b[0m\u001b[0;34m.\u001b[0m\u001b[0mempty\u001b[0m\u001b[0;34m:\u001b[0m\u001b[0;34m\u001b[0m\u001b[0;34m\u001b[0m\u001b[0m\n\u001b[0;32m---> 77\u001b[0;31m                 raise KeyError(\n\u001b[0m\u001b[1;32m     78\u001b[0m                     \u001b[0;34m\"The following 'id_vars' are not present \"\u001b[0m\u001b[0;34m\u001b[0m\u001b[0;34m\u001b[0m\u001b[0m\n\u001b[1;32m     79\u001b[0m                     \u001b[0;34mf\"in the DataFrame: {list(missing)}\"\u001b[0m\u001b[0;34m\u001b[0m\u001b[0;34m\u001b[0m\u001b[0m\n",
            "\u001b[0;31mKeyError\u001b[0m: \"The following 'id_vars' are not present in the DataFrame: ['File']\""
          ]
        }
      ]
    },
    {
      "cell_type": "markdown",
      "source": [
        "Reshape df to show one bid and ask per row"
      ],
      "metadata": {
        "id": "eDKBgrgh8Yh-"
      }
    },
    {
      "cell_type": "code",
      "source": [
        "df = melted_df.explode('Value')\n",
        "\n",
        "df"
      ],
      "metadata": {
        "id": "pFQR-K-Qb2y9"
      },
      "execution_count": null,
      "outputs": []
    },
    {
      "cell_type": "markdown",
      "source": [
        "separate price and quantity from values column"
      ],
      "metadata": {
        "id": "OjVhI8FB8c8M"
      }
    },
    {
      "cell_type": "code",
      "source": [
        "df[['Price', 'Quantity']] = pd.DataFrame(df['Value'].apply(lambda x: x if isinstance(x, list) else []).tolist(), index=df.index)\n",
        "df.drop(columns=['Value'], inplace=True)\n",
        "df"
      ],
      "metadata": {
        "id": "eazZwwo2b214"
      },
      "execution_count": null,
      "outputs": []
    },
    {
      "cell_type": "markdown",
      "source": [
        "Extract de from file column and store it as datetime in date column"
      ],
      "metadata": {
        "id": "CIw0mlP78htD"
      }
    },
    {
      "cell_type": "code",
      "source": [
        "# Extract date from 'File' column and add it as a new column\n",
        "df['Date'] = df['File'].str.extract(r'(\\d{4}-\\d{2}-\\d{2})')\n",
        "# Convert the 'Date' column to datetime type\n",
        "df['Date'] = pd.to_datetime(df['Date'])\n",
        "df.drop(columns=['File'], inplace=True)\n",
        "df"
      ],
      "metadata": {
        "id": "Op5S1_Q-b24u"
      },
      "execution_count": null,
      "outputs": []
    },
    {
      "cell_type": "markdown",
      "source": [
        "save to csv"
      ],
      "metadata": {
        "id": "D0j-6ySx9U-8"
      }
    },
    {
      "cell_type": "code",
      "source": [
        "df.to_csv(\"full_lob.csv\", index=False)"
      ],
      "metadata": {
        "id": "qD-N9rV_b29h"
      },
      "execution_count": null,
      "outputs": []
    }
  ]
}