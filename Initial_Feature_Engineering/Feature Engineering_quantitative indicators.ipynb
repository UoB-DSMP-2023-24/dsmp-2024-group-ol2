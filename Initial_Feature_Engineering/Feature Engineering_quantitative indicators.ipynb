{
 "cells": [
  {
   "cell_type": "markdown",
   "id": "0772a287",
   "metadata": {},
   "source": [
    "## Features_quantitative indicators"
   ]
  },
  {
   "cell_type": "markdown",
   "id": "5c526892",
   "metadata": {},
   "source": [
    "## Features\n",
    "- autocorrelation\n",
    "- order book imbalance"
   ]
  },
  {
   "cell_type": "markdown",
   "id": "1124347f",
   "metadata": {},
   "source": [
    "__Load data__"
   ]
  },
  {
   "cell_type": "markdown",
   "id": "55a68957",
   "metadata": {},
   "source": [
    "__Data Source:__ lob_sample_data.parquet"
   ]
  },
  {
   "cell_type": "code",
   "execution_count": 1,
   "id": "f2c94e6a",
   "metadata": {},
   "outputs": [],
   "source": [
    "import pandas as pd\n",
    "\n",
    "df = pd.read_parquet('lob_sample_data.parquet', engine='pyarrow')"
   ]
  },
  {
   "cell_type": "code",
   "execution_count": 2,
   "id": "dfe70754",
   "metadata": {},
   "outputs": [
    {
     "data": {
      "text/html": [
       "<div>\n",
       "<style scoped>\n",
       "    .dataframe tbody tr th:only-of-type {\n",
       "        vertical-align: middle;\n",
       "    }\n",
       "\n",
       "    .dataframe tbody tr th {\n",
       "        vertical-align: top;\n",
       "    }\n",
       "\n",
       "    .dataframe thead th {\n",
       "        text-align: right;\n",
       "    }\n",
       "</style>\n",
       "<table border=\"1\" class=\"dataframe\">\n",
       "  <thead>\n",
       "    <tr style=\"text-align: right;\">\n",
       "      <th></th>\n",
       "      <th>Timestamp</th>\n",
       "      <th>Exchange</th>\n",
       "      <th>Bid</th>\n",
       "      <th>Ask</th>\n",
       "      <th>Date</th>\n",
       "      <th>Mid_Price</th>\n",
       "    </tr>\n",
       "  </thead>\n",
       "  <tbody>\n",
       "    <tr>\n",
       "      <th>0</th>\n",
       "      <td>0.000</td>\n",
       "      <td>Exch0</td>\n",
       "      <td>[]</td>\n",
       "      <td>[]</td>\n",
       "      <td>2025-01-02</td>\n",
       "      <td>NaN</td>\n",
       "    </tr>\n",
       "    <tr>\n",
       "      <th>1</th>\n",
       "      <td>0.279</td>\n",
       "      <td>Exch0</td>\n",
       "      <td>[[1, 6]]</td>\n",
       "      <td>[]</td>\n",
       "      <td>2025-01-02</td>\n",
       "      <td>NaN</td>\n",
       "    </tr>\n",
       "    <tr>\n",
       "      <th>2</th>\n",
       "      <td>1.333</td>\n",
       "      <td>Exch0</td>\n",
       "      <td>[[1, 6]]</td>\n",
       "      <td>[[800, 1]]</td>\n",
       "      <td>2025-01-02</td>\n",
       "      <td>400.5</td>\n",
       "    </tr>\n",
       "    <tr>\n",
       "      <th>3</th>\n",
       "      <td>1.581</td>\n",
       "      <td>Exch0</td>\n",
       "      <td>[[1, 6]]</td>\n",
       "      <td>[[799, 1]]</td>\n",
       "      <td>2025-01-02</td>\n",
       "      <td>400.0</td>\n",
       "    </tr>\n",
       "    <tr>\n",
       "      <th>4</th>\n",
       "      <td>1.643</td>\n",
       "      <td>Exch0</td>\n",
       "      <td>[[1, 6]]</td>\n",
       "      <td>[[798, 1]]</td>\n",
       "      <td>2025-01-02</td>\n",
       "      <td>399.5</td>\n",
       "    </tr>\n",
       "  </tbody>\n",
       "</table>\n",
       "</div>"
      ],
      "text/plain": [
       "   Timestamp Exchange       Bid         Ask        Date  Mid_Price\n",
       "0      0.000    Exch0        []          []  2025-01-02        NaN\n",
       "1      0.279    Exch0  [[1, 6]]          []  2025-01-02        NaN\n",
       "2      1.333    Exch0  [[1, 6]]  [[800, 1]]  2025-01-02      400.5\n",
       "3      1.581    Exch0  [[1, 6]]  [[799, 1]]  2025-01-02      400.0\n",
       "4      1.643    Exch0  [[1, 6]]  [[798, 1]]  2025-01-02      399.5"
      ]
     },
     "execution_count": 2,
     "metadata": {},
     "output_type": "execute_result"
    }
   ],
   "source": [
    "df.head()"
   ]
  },
  {
   "cell_type": "code",
   "execution_count": 3,
   "id": "3305c523",
   "metadata": {},
   "outputs": [],
   "source": [
    "import ast\n",
    "\n",
    "#convert string to lists\n",
    "df['Bid'] = df['Bid'].apply(ast.literal_eval)\n",
    "df['Ask'] = df['Ask'].apply(ast.literal_eval)"
   ]
  },
  {
   "cell_type": "code",
   "execution_count": 4,
   "id": "64766239",
   "metadata": {},
   "outputs": [],
   "source": [
    "#drop missing rows in mid price\n",
    "df = df.dropna(subset=['Mid_Price'])"
   ]
  },
  {
   "cell_type": "markdown",
   "id": "36990cca",
   "metadata": {},
   "source": [
    "__Autocorrelation__"
   ]
  },
  {
   "cell_type": "markdown",
   "id": "3424f7c7",
   "metadata": {},
   "source": [
    "Autocorrelation measures the similarity between observations as a function of the time lag between them. It can capture momentum or mean-reversion effects.\n",
    "\n",
    "defined as\n",
    "\n",
    "$$\n",
    "\\rho_k = \\frac{\\sum_{t=1}^{T-k}(y_t - \\bar{y})(y_{t+k} - \\bar{y})}{\\sum_{t=1}^{T}(y_t - \\bar{y})^2}\n",
    "$$\n",
    "\n",
    "where-\n",
    "- $y_t$ is the observation at time $t$\n",
    "- $\\bar{y}$ is the mean of the observations\n",
    "- $T$ is the total number of observations\n",
    "\n",
    "A model can learn from the cyclic patterns or the persistence of trends in price movements."
   ]
  },
  {
   "cell_type": "code",
   "execution_count": null,
   "id": "a0a518e8",
   "metadata": {},
   "outputs": [],
   "source": [
    "#calculate  for different lags\n",
    "for lag in [10, 20]:  #we can adjust these\n",
    "    df[f'Autocorr_Lag_{lag}'] = df['Mid_Price'].rolling(window=lag+1).apply(lambda x: x.autocorr(lag), raw=False)\n",
    "    \n",
    "#this isn't quite working-need to revisit"
   ]
  },
  {
   "cell_type": "markdown",
   "id": "6c6005e5",
   "metadata": {},
   "source": [
    "__Order book imbalance__"
   ]
  },
  {
   "cell_type": "markdown",
   "id": "bbefcf4a",
   "metadata": {},
   "source": [
    "Order book imbalance reflects the proportion of buy to sell orders and can indicate potential price movements based on supply and demand dynamics.\n",
    "\n",
    "calc as:\n",
    "\n",
    "$$\n",
    "\\text{Imbalance} = \\frac{Q_{\\text{bid}} - Q_{\\text{ask}}}{Q_{\\text{bid}} + Q_{\\text{ask}}}\n",
    "$$\n",
    "\n",
    "where:\n",
    "- $Q_{\\text{bid}}$ is the total quantity of buy orders,\n",
    "- $Q_{\\text{ask}}$ is the total quantity of sell orders.\n",
    "\n",
    "Positive imbalance suggests a predominance of buy orders, which could indicate upward pressure on prices, while a negative imbalance suggests the opposite."
   ]
  },
  {
   "cell_type": "code",
   "execution_count": 7,
   "id": "19926f3e",
   "metadata": {},
   "outputs": [],
   "source": [
    "import pandas as pd\n",
    "import numpy as np\n",
    "\n",
    "#calc total quantity\n",
    "def total_quantity(price_qty_list):\n",
    "    if not price_qty_list:\n",
    "        return 0\n",
    "    total_qty = sum(qty for _, qty in price_qty_list)\n",
    "    return total_qty\n",
    "\n",
    "#calc total bid ask quantities\n",
    "df['Total_Bid_Qty'] = df['Bid'].apply(total_quantity)\n",
    "df['Total_Ask_Qty'] = df['Ask'].apply(total_quantity)\n",
    "\n",
    "#calc order book imbalance\n",
    "df['Order_Book_Imbalance'] = (df['Total_Bid_Qty'] - df['Total_Ask_Qty']) / (df['Total_Bid_Qty'] + df['Total_Ask_Qty'])"
   ]
  },
  {
   "cell_type": "code",
   "execution_count": null,
   "id": "b86b9697",
   "metadata": {},
   "outputs": [],
   "source": []
  }
 ],
 "metadata": {
  "kernelspec": {
   "display_name": "Python 3 (ipykernel)",
   "language": "python",
   "name": "python3"
  },
  "language_info": {
   "codemirror_mode": {
    "name": "ipython",
    "version": 3
   },
   "file_extension": ".py",
   "mimetype": "text/x-python",
   "name": "python",
   "nbconvert_exporter": "python",
   "pygments_lexer": "ipython3",
   "version": "3.9.12"
  }
 },
 "nbformat": 4,
 "nbformat_minor": 5
}
