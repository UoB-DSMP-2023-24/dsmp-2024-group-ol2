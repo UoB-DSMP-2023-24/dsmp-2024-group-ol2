{
 "cells": [
  {
   "cell_type": "markdown",
   "id": "183ca52e",
   "metadata": {},
   "source": [
    "## Feature Engineering_Momentum"
   ]
  },
  {
   "cell_type": "markdown",
   "id": "a8872039",
   "metadata": {},
   "source": [
    "## Features\n",
    "\n",
    "- RSI\n",
    "- Stochastic RSI\n",
    "- Awesome oscillator\n",
    "- Accelerator oscillator"
   ]
  },
  {
   "cell_type": "markdown",
   "id": "ab8e5b9d",
   "metadata": {},
   "source": [
    "__Load data__"
   ]
  },
  {
   "cell_type": "markdown",
   "id": "5f7be84f",
   "metadata": {},
   "source": [
    "__Data Source:__ lob_sample_data.parquet"
   ]
  },
  {
   "cell_type": "code",
   "execution_count": 2,
   "id": "ffe13245",
   "metadata": {},
   "outputs": [],
   "source": [
    "import pandas as pd\n",
    "\n",
    "df = pd.read_parquet('lob_sample_data.parquet', engine='pyarrow')"
   ]
  },
  {
   "cell_type": "code",
   "execution_count": 3,
   "id": "3e30b143",
   "metadata": {},
   "outputs": [
    {
     "data": {
      "text/html": [
       "<div>\n",
       "<style scoped>\n",
       "    .dataframe tbody tr th:only-of-type {\n",
       "        vertical-align: middle;\n",
       "    }\n",
       "\n",
       "    .dataframe tbody tr th {\n",
       "        vertical-align: top;\n",
       "    }\n",
       "\n",
       "    .dataframe thead th {\n",
       "        text-align: right;\n",
       "    }\n",
       "</style>\n",
       "<table border=\"1\" class=\"dataframe\">\n",
       "  <thead>\n",
       "    <tr style=\"text-align: right;\">\n",
       "      <th></th>\n",
       "      <th>Timestamp</th>\n",
       "      <th>Exchange</th>\n",
       "      <th>Bid</th>\n",
       "      <th>Ask</th>\n",
       "      <th>Date</th>\n",
       "      <th>Mid_Price</th>\n",
       "    </tr>\n",
       "  </thead>\n",
       "  <tbody>\n",
       "    <tr>\n",
       "      <th>0</th>\n",
       "      <td>0.000</td>\n",
       "      <td>Exch0</td>\n",
       "      <td>[]</td>\n",
       "      <td>[]</td>\n",
       "      <td>2025-01-02</td>\n",
       "      <td>NaN</td>\n",
       "    </tr>\n",
       "    <tr>\n",
       "      <th>1</th>\n",
       "      <td>0.279</td>\n",
       "      <td>Exch0</td>\n",
       "      <td>[[1, 6]]</td>\n",
       "      <td>[]</td>\n",
       "      <td>2025-01-02</td>\n",
       "      <td>NaN</td>\n",
       "    </tr>\n",
       "    <tr>\n",
       "      <th>2</th>\n",
       "      <td>1.333</td>\n",
       "      <td>Exch0</td>\n",
       "      <td>[[1, 6]]</td>\n",
       "      <td>[[800, 1]]</td>\n",
       "      <td>2025-01-02</td>\n",
       "      <td>400.5</td>\n",
       "    </tr>\n",
       "    <tr>\n",
       "      <th>3</th>\n",
       "      <td>1.581</td>\n",
       "      <td>Exch0</td>\n",
       "      <td>[[1, 6]]</td>\n",
       "      <td>[[799, 1]]</td>\n",
       "      <td>2025-01-02</td>\n",
       "      <td>400.0</td>\n",
       "    </tr>\n",
       "    <tr>\n",
       "      <th>4</th>\n",
       "      <td>1.643</td>\n",
       "      <td>Exch0</td>\n",
       "      <td>[[1, 6]]</td>\n",
       "      <td>[[798, 1]]</td>\n",
       "      <td>2025-01-02</td>\n",
       "      <td>399.5</td>\n",
       "    </tr>\n",
       "  </tbody>\n",
       "</table>\n",
       "</div>"
      ],
      "text/plain": [
       "   Timestamp Exchange       Bid         Ask        Date  Mid_Price\n",
       "0      0.000    Exch0        []          []  2025-01-02        NaN\n",
       "1      0.279    Exch0  [[1, 6]]          []  2025-01-02        NaN\n",
       "2      1.333    Exch0  [[1, 6]]  [[800, 1]]  2025-01-02      400.5\n",
       "3      1.581    Exch0  [[1, 6]]  [[799, 1]]  2025-01-02      400.0\n",
       "4      1.643    Exch0  [[1, 6]]  [[798, 1]]  2025-01-02      399.5"
      ]
     },
     "execution_count": 3,
     "metadata": {},
     "output_type": "execute_result"
    }
   ],
   "source": [
    "df.head()"
   ]
  },
  {
   "cell_type": "code",
   "execution_count": 4,
   "id": "fd73f120",
   "metadata": {},
   "outputs": [],
   "source": [
    "import ast\n",
    "\n",
    "#convert string to lists\n",
    "df['Bid'] = df['Bid'].apply(ast.literal_eval)\n",
    "df['Ask'] = df['Ask'].apply(ast.literal_eval)"
   ]
  },
  {
   "cell_type": "code",
   "execution_count": 5,
   "id": "4b203fe8",
   "metadata": {},
   "outputs": [],
   "source": [
    "#drop missing rows in mid price\n",
    "df = df.dropna(subset=['Mid_Price'])"
   ]
  },
  {
   "cell_type": "markdown",
   "id": "165efe46",
   "metadata": {},
   "source": [
    "__RSI__"
   ]
  },
  {
   "cell_type": "markdown",
   "id": "ba523c58",
   "metadata": {},
   "source": [
    "RSI (relative strength index)-popular- overbought and oversold conditions-calculates with avg gain, avg loss and relative strength. You need to check direction not just value to understand trend. \n",
    "\n",
    "- above 70- overbought\n",
    "- below 30- oversold\n",
    "- 50-70- a strong bullish trend\n",
    "- 30-50 -a moderate bullish trend\n",
    "- 50-30- a strong bearish trend\n",
    "- 70-40- a moderate bearish trend"
   ]
  },
  {
   "cell_type": "code",
   "execution_count": 6,
   "id": "9d4065e9",
   "metadata": {},
   "outputs": [],
   "source": [
    "#rsi\n",
    "delta = df['Mid_Price'].diff()\n",
    "gain = (delta.where(delta > 0, 0)).rolling(window=20).mean()\n",
    "loss = (-delta.where(delta < 0, 0)).rolling(window=20).mean()\n",
    "RS = gain / loss\n",
    "\n",
    "df['RSI'] = 100 - (100 / (1 + RS))"
   ]
  },
  {
   "cell_type": "markdown",
   "id": "eb3e481f",
   "metadata": {},
   "source": [
    "__Stochastic RSI__"
   ]
  },
  {
   "cell_type": "markdown",
   "id": "64d234c6",
   "metadata": {},
   "source": [
    "The Stochastic RSI is an indicator used to identify overbought and oversold conditions by measuring the level of the RSI relative to its high and low range over a specific period. It is derived from the RSI but provides more sensitivity and a higher frequency of trading signals by applying the stochastic oscillator formula to RSI values.\n",
    "\n",
    "$$ \\text{StochRSI} = \\frac{\\text{RSI} - \\text{Min(RSI, n)}}{\\text{Max(RSI, n)} - \\text{Min(RSI, n)}} $$\n",
    "\n",
    "where:\n",
    "- $\\text{RSI}$ is the current value of the Relative Strength Index,\n",
    "- $\\text{Min(RSI, n)}$ is the minimum RSI value over the last $n$ periods,\n",
    "- $\\text{Max(RSI, n)}$ is the maximum RSI value over the last $n$ periods,\n",
    "- $n$ is the specified period over which the highs and lows are calculated."
   ]
  },
  {
   "cell_type": "code",
   "execution_count": 7,
   "id": "0fcff05d",
   "metadata": {},
   "outputs": [],
   "source": [
    "#min and max RSI values over window\n",
    "min_rsi = df['RSI'].rolling(window=20).min()\n",
    "max_rsi = df['RSI'].rolling(window=20).max()\n",
    "\n",
    "#calc Stochastic RSI\n",
    "df['Stochastic_RSI'] = (df['RSI'] - min_rsi) / (max_rsi - min_rsi)"
   ]
  },
  {
   "cell_type": "code",
   "execution_count": 10,
   "id": "7722f8fd",
   "metadata": {},
   "outputs": [],
   "source": [
    "#scale to 0-100 range (better for interpretation and comparison to other oscillators)\n",
    "df['Stochastic_RSI'] = df['Stochastic_RSI'] * 100"
   ]
  },
  {
   "cell_type": "markdown",
   "id": "d4940fd3",
   "metadata": {},
   "source": [
    "__Awesome oscillator__"
   ]
  },
  {
   "cell_type": "markdown",
   "id": "6c156d64",
   "metadata": {},
   "source": [
    "The awesome oscillator is a market momentum indicator that compares the recent market momentum, with the momentum over a broader timeframe, by calculating the difference between a 34 period and a 5 period simple moving averages (SMA) of the median prices (or mid prices when median prices are not available).\n",
    "Calc by-\n",
    "\n",
    "$$\n",
    "AO = SMA_{5} - SMA_{34}\n",
    "$$\n",
    "\n",
    "where\n",
    "- $SMA_{5}$ is the 5-period simple moving average of the mid-prices.\n",
    "- $SMA_{34}$ is the 34-period simple moving average of the mid-prices.\n",
    "\n",
    "The AO serves to detect changes in the market's momentum and potentially signal upcoming market reversals."
   ]
  },
  {
   "cell_type": "code",
   "execution_count": 11,
   "id": "4e12b70a",
   "metadata": {},
   "outputs": [],
   "source": [
    "#calculate sma for 34 and 5 periods\n",
    "sma_34 = df['Mid_Price'].rolling(window=34, min_periods=1).mean()\n",
    "sma_5 = df['Mid_Price'].rolling(window=5, min_periods=1).mean()\n",
    "\n",
    "#calc ao\n",
    "df['Awesome_Oscillator'] = sma_5 - sma_34"
   ]
  },
  {
   "cell_type": "markdown",
   "id": "6880bd45",
   "metadata": {},
   "source": [
    "__Accelerator oscillator__"
   ]
  },
  {
   "cell_type": "markdown",
   "id": "e815ca2e",
   "metadata": {},
   "source": [
    "The accelerator oscillator measures the acceleration or deceleration of the current market driving force, essentially indicating whether the market force is increasing or decreasing.\n",
    "\n",
    "Its calculated as the difference between the 5-period simple moving average of the awesome oscillator, and the ao itself:\n",
    "\n",
    "$$\n",
    "AC = AO - SMA_{5}(AO)\n",
    "$$\n",
    "\n",
    "where-\n",
    "- $AO$ is the awesome oscillator.\n",
    "- $SMA_{5}(AO)$ is the 5-period simple moving average of the awesome oscillator values.\n",
    "\n",
    "It can be used to confirm ao signals or predict possible reversals."
   ]
  },
  {
   "cell_type": "code",
   "execution_count": 12,
   "id": "3c6bdf83",
   "metadata": {},
   "outputs": [],
   "source": [
    "#calc acc oscilator\n",
    "ao_sma_5 = df['Awesome_Oscillator'].rolling(window=5, min_periods=1).mean()\n",
    "df['Accelerator_Oscillator'] = df['Awesome_Oscillator'] - ao_sma_5"
   ]
  },
  {
   "cell_type": "code",
   "execution_count": null,
   "id": "1943c038",
   "metadata": {},
   "outputs": [],
   "source": []
  }
 ],
 "metadata": {
  "kernelspec": {
   "display_name": "Python 3 (ipykernel)",
   "language": "python",
   "name": "python3"
  },
  "language_info": {
   "codemirror_mode": {
    "name": "ipython",
    "version": 3
   },
   "file_extension": ".py",
   "mimetype": "text/x-python",
   "name": "python",
   "nbconvert_exporter": "python",
   "pygments_lexer": "ipython3",
   "version": "3.9.12"
  }
 },
 "nbformat": 4,
 "nbformat_minor": 5
}
