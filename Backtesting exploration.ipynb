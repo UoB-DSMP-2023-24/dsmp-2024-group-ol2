{
 "cells": [
  {
   "cell_type": "code",
   "execution_count": null,
   "id": "dc360f5e",
   "metadata": {},
   "outputs": [],
   "source": [
    "#adjusting code learnt on udemy course"
   ]
  },
  {
   "cell_type": "code",
   "execution_count": 16,
   "id": "baba8161",
   "metadata": {},
   "outputs": [],
   "source": [
    "#load tape data \n",
    "import pandas as pd\n",
    "\n",
    "tape = pd.read_csv('tape.csv')"
   ]
  },
  {
   "cell_type": "code",
   "execution_count": 17,
   "id": "fd06d07c",
   "metadata": {},
   "outputs": [
    {
     "data": {
      "text/html": [
       "<div>\n",
       "<style scoped>\n",
       "    .dataframe tbody tr th:only-of-type {\n",
       "        vertical-align: middle;\n",
       "    }\n",
       "\n",
       "    .dataframe tbody tr th {\n",
       "        vertical-align: top;\n",
       "    }\n",
       "\n",
       "    .dataframe thead th {\n",
       "        text-align: right;\n",
       "    }\n",
       "</style>\n",
       "<table border=\"1\" class=\"dataframe\">\n",
       "  <thead>\n",
       "    <tr style=\"text-align: right;\">\n",
       "      <th></th>\n",
       "      <th>Time</th>\n",
       "      <th>Price</th>\n",
       "      <th>Quantity</th>\n",
       "      <th>Date</th>\n",
       "      <th>Normalised_Price</th>\n",
       "      <th>Standardised_Price</th>\n",
       "      <th>TimeDelta</th>\n",
       "    </tr>\n",
       "  </thead>\n",
       "  <tbody>\n",
       "    <tr>\n",
       "      <th>0</th>\n",
       "      <td>11.067</td>\n",
       "      <td>269</td>\n",
       "      <td>1</td>\n",
       "      <td>2025-01-02</td>\n",
       "      <td>0.578947</td>\n",
       "      <td>0.855046</td>\n",
       "      <td>0 days 11:04:01.200000</td>\n",
       "    </tr>\n",
       "    <tr>\n",
       "      <th>1</th>\n",
       "      <td>11.222</td>\n",
       "      <td>267</td>\n",
       "      <td>2</td>\n",
       "      <td>2025-01-02</td>\n",
       "      <td>0.572368</td>\n",
       "      <td>0.830077</td>\n",
       "      <td>0 days 11:13:19.200000</td>\n",
       "    </tr>\n",
       "    <tr>\n",
       "      <th>2</th>\n",
       "      <td>12.338</td>\n",
       "      <td>270</td>\n",
       "      <td>2</td>\n",
       "      <td>2025-01-02</td>\n",
       "      <td>0.582237</td>\n",
       "      <td>0.867531</td>\n",
       "      <td>0 days 12:20:16.800000</td>\n",
       "    </tr>\n",
       "    <tr>\n",
       "      <th>3</th>\n",
       "      <td>13.733</td>\n",
       "      <td>267</td>\n",
       "      <td>3</td>\n",
       "      <td>2025-01-02</td>\n",
       "      <td>0.572368</td>\n",
       "      <td>0.830077</td>\n",
       "      <td>0 days 13:43:58.800000</td>\n",
       "    </tr>\n",
       "    <tr>\n",
       "      <th>4</th>\n",
       "      <td>18.321</td>\n",
       "      <td>265</td>\n",
       "      <td>2</td>\n",
       "      <td>2025-01-02</td>\n",
       "      <td>0.565789</td>\n",
       "      <td>0.805109</td>\n",
       "      <td>0 days 18:19:15.600000</td>\n",
       "    </tr>\n",
       "  </tbody>\n",
       "</table>\n",
       "</div>"
      ],
      "text/plain": [
       "     Time  Price  Quantity        Date  Normalised_Price  Standardised_Price  \\\n",
       "0  11.067    269         1  2025-01-02          0.578947            0.855046   \n",
       "1  11.222    267         2  2025-01-02          0.572368            0.830077   \n",
       "2  12.338    270         2  2025-01-02          0.582237            0.867531   \n",
       "3  13.733    267         3  2025-01-02          0.572368            0.830077   \n",
       "4  18.321    265         2  2025-01-02          0.565789            0.805109   \n",
       "\n",
       "                TimeDelta  \n",
       "0  0 days 11:04:01.200000  \n",
       "1  0 days 11:13:19.200000  \n",
       "2  0 days 12:20:16.800000  \n",
       "3  0 days 13:43:58.800000  \n",
       "4  0 days 18:19:15.600000  "
      ]
     },
     "execution_count": 17,
     "metadata": {},
     "output_type": "execute_result"
    }
   ],
   "source": [
    "tape.head()"
   ]
  },
  {
   "cell_type": "code",
   "execution_count": 18,
   "id": "eaa6a7dd",
   "metadata": {},
   "outputs": [],
   "source": [
    "tape['Date'] = pd.to_datetime(tape['Date'])\n",
    "\n",
    "data = tape.groupby('Date').agg(\n",
    "    Open=('Price', 'first'),\n",
    "    High=('Price', 'max'),\n",
    "    Low=('Price', 'min'),\n",
    "    Close=('Price', 'last'),\n",
    "    Adj_Close=('Normalised_Price', 'last'), \n",
    "    Volume=('Quantity', 'sum')\n",
    ").reset_index()"
   ]
  },
  {
   "cell_type": "code",
   "execution_count": 19,
   "id": "c1c06193",
   "metadata": {},
   "outputs": [
    {
     "data": {
      "text/html": [
       "<div>\n",
       "<style scoped>\n",
       "    .dataframe tbody tr th:only-of-type {\n",
       "        vertical-align: middle;\n",
       "    }\n",
       "\n",
       "    .dataframe tbody tr th {\n",
       "        vertical-align: top;\n",
       "    }\n",
       "\n",
       "    .dataframe thead th {\n",
       "        text-align: right;\n",
       "    }\n",
       "</style>\n",
       "<table border=\"1\" class=\"dataframe\">\n",
       "  <thead>\n",
       "    <tr style=\"text-align: right;\">\n",
       "      <th></th>\n",
       "      <th>Date</th>\n",
       "      <th>Open</th>\n",
       "      <th>High</th>\n",
       "      <th>Low</th>\n",
       "      <th>Close</th>\n",
       "      <th>Adj_Close</th>\n",
       "      <th>Volume</th>\n",
       "    </tr>\n",
       "  </thead>\n",
       "  <tbody>\n",
       "    <tr>\n",
       "      <th>0</th>\n",
       "      <td>2025-01-02</td>\n",
       "      <td>269</td>\n",
       "      <td>303</td>\n",
       "      <td>243</td>\n",
       "      <td>288</td>\n",
       "      <td>0.641447</td>\n",
       "      <td>47972</td>\n",
       "    </tr>\n",
       "    <tr>\n",
       "      <th>1</th>\n",
       "      <td>2025-01-03</td>\n",
       "      <td>283</td>\n",
       "      <td>317</td>\n",
       "      <td>270</td>\n",
       "      <td>291</td>\n",
       "      <td>0.651316</td>\n",
       "      <td>51991</td>\n",
       "    </tr>\n",
       "    <tr>\n",
       "      <th>2</th>\n",
       "      <td>2025-01-06</td>\n",
       "      <td>278</td>\n",
       "      <td>346</td>\n",
       "      <td>276</td>\n",
       "      <td>327</td>\n",
       "      <td>0.769737</td>\n",
       "      <td>48045</td>\n",
       "    </tr>\n",
       "    <tr>\n",
       "      <th>3</th>\n",
       "      <td>2025-01-07</td>\n",
       "      <td>336</td>\n",
       "      <td>388</td>\n",
       "      <td>317</td>\n",
       "      <td>369</td>\n",
       "      <td>0.907895</td>\n",
       "      <td>44332</td>\n",
       "    </tr>\n",
       "    <tr>\n",
       "      <th>4</th>\n",
       "      <td>2025-01-08</td>\n",
       "      <td>373</td>\n",
       "      <td>374</td>\n",
       "      <td>303</td>\n",
       "      <td>311</td>\n",
       "      <td>0.717105</td>\n",
       "      <td>44856</td>\n",
       "    </tr>\n",
       "  </tbody>\n",
       "</table>\n",
       "</div>"
      ],
      "text/plain": [
       "        Date  Open  High  Low  Close  Adj_Close  Volume\n",
       "0 2025-01-02   269   303  243    288   0.641447   47972\n",
       "1 2025-01-03   283   317  270    291   0.651316   51991\n",
       "2 2025-01-06   278   346  276    327   0.769737   48045\n",
       "3 2025-01-07   336   388  317    369   0.907895   44332\n",
       "4 2025-01-08   373   374  303    311   0.717105   44856"
      ]
     },
     "execution_count": 19,
     "metadata": {},
     "output_type": "execute_result"
    }
   ],
   "source": [
    "data.head()"
   ]
  },
  {
   "cell_type": "code",
   "execution_count": 20,
   "id": "b6d0e631",
   "metadata": {},
   "outputs": [],
   "source": [
    "#backtesting packages\n",
    "import pandas as pd\n",
    "from backtesting import Backtest, Strategy\n",
    "from backtesting.lib import crossover"
   ]
  },
  {
   "cell_type": "code",
   "execution_count": 21,
   "id": "898d9074",
   "metadata": {},
   "outputs": [],
   "source": [
    "#sma function\n",
    "def SMA(values, n):\n",
    "    \"\"\"\n",
    "    Return simple moving average of `values`, at\n",
    "    each step taking into account `n` previous values.\n",
    "    \"\"\"\n",
    "    return pd.Series(values).rolling(n).mean()\n",
    "\n",
    "# SMA Cross Strategy class\n",
    "class SmaCross(Strategy):\n",
    "    n1 = 30\n",
    "    n2 = 100\n",
    "\n",
    "    def init(self):\n",
    "        # Precompute the two moving averages\n",
    "        self.sma1 = self.I(SMA, self.data.Close, self.n1)\n",
    "        self.sma2 = self.I(SMA, self.data.Close, self.n2)\n",
    "\n",
    "    def next(self):\n",
    "        # If sma1 crosses above sma2, close any existing\n",
    "        # short trades, and buy the asset\n",
    "        if crossover(self.sma1, self.sma2):\n",
    "            self.position.close()\n",
    "            self.buy()\n",
    "\n",
    "        # Else, if sma1 crosses below sma2, close any existing\n",
    "        # long trades, and sell the asset\n",
    "        elif crossover(self.sma2, self.sma1):\n",
    "            self.position.close()\n",
    "            self.sell()"
   ]
  },
  {
   "cell_type": "code",
   "execution_count": null,
   "id": "00db69dd",
   "metadata": {},
   "outputs": [],
   "source": [
    "#import yfinance as yf\n",
    "\n",
    "# Get BTC-USD data from yfinance\n",
    "#data = yf.download('BTC-USD')\n"
   ]
  },
  {
   "cell_type": "code",
   "execution_count": 22,
   "id": "aca974e1",
   "metadata": {},
   "outputs": [
    {
     "name": "stderr",
     "output_type": "stream",
     "text": [
      "C:\\Users\\s_sta\\AppData\\Local\\Temp\\ipykernel_29448\\968553843.py:3: UserWarning: Data index is not datetime. Assuming simple periods, but `pd.DateTimeIndex` is advised.\n",
      "  bt = Backtest(data, SmaCross)\n"
     ]
    }
   ],
   "source": [
    "# Code for running the backtest.\n",
    "# Assumes the existence of `data` variable containing backtest data.\n",
    "bt = Backtest(data, SmaCross)\n",
    "stats = bt.run()\n"
   ]
  },
  {
   "cell_type": "code",
   "execution_count": 23,
   "id": "5f92c1f2",
   "metadata": {},
   "outputs": [
    {
     "data": {
      "text/html": [
       "<div>\n",
       "<style scoped>\n",
       "    .dataframe tbody tr th:only-of-type {\n",
       "        vertical-align: middle;\n",
       "    }\n",
       "\n",
       "    .dataframe tbody tr th {\n",
       "        vertical-align: top;\n",
       "    }\n",
       "\n",
       "    .dataframe thead th {\n",
       "        text-align: right;\n",
       "    }\n",
       "</style>\n",
       "<table border=\"1\" class=\"dataframe\">\n",
       "  <thead>\n",
       "    <tr style=\"text-align: right;\">\n",
       "      <th></th>\n",
       "      <th>Date</th>\n",
       "      <th>Open</th>\n",
       "      <th>High</th>\n",
       "      <th>Low</th>\n",
       "      <th>Close</th>\n",
       "      <th>Adj_Close</th>\n",
       "      <th>Volume</th>\n",
       "    </tr>\n",
       "  </thead>\n",
       "  <tbody>\n",
       "    <tr>\n",
       "      <th>0</th>\n",
       "      <td>2025-01-02</td>\n",
       "      <td>269</td>\n",
       "      <td>303</td>\n",
       "      <td>243</td>\n",
       "      <td>288</td>\n",
       "      <td>0.641447</td>\n",
       "      <td>47972</td>\n",
       "    </tr>\n",
       "    <tr>\n",
       "      <th>1</th>\n",
       "      <td>2025-01-03</td>\n",
       "      <td>283</td>\n",
       "      <td>317</td>\n",
       "      <td>270</td>\n",
       "      <td>291</td>\n",
       "      <td>0.651316</td>\n",
       "      <td>51991</td>\n",
       "    </tr>\n",
       "    <tr>\n",
       "      <th>2</th>\n",
       "      <td>2025-01-06</td>\n",
       "      <td>278</td>\n",
       "      <td>346</td>\n",
       "      <td>276</td>\n",
       "      <td>327</td>\n",
       "      <td>0.769737</td>\n",
       "      <td>48045</td>\n",
       "    </tr>\n",
       "    <tr>\n",
       "      <th>3</th>\n",
       "      <td>2025-01-07</td>\n",
       "      <td>336</td>\n",
       "      <td>388</td>\n",
       "      <td>317</td>\n",
       "      <td>369</td>\n",
       "      <td>0.907895</td>\n",
       "      <td>44332</td>\n",
       "    </tr>\n",
       "    <tr>\n",
       "      <th>4</th>\n",
       "      <td>2025-01-08</td>\n",
       "      <td>373</td>\n",
       "      <td>374</td>\n",
       "      <td>303</td>\n",
       "      <td>311</td>\n",
       "      <td>0.717105</td>\n",
       "      <td>44856</td>\n",
       "    </tr>\n",
       "  </tbody>\n",
       "</table>\n",
       "</div>"
      ],
      "text/plain": [
       "        Date  Open  High  Low  Close  Adj_Close  Volume\n",
       "0 2025-01-02   269   303  243    288   0.641447   47972\n",
       "1 2025-01-03   283   317  270    291   0.651316   51991\n",
       "2 2025-01-06   278   346  276    327   0.769737   48045\n",
       "3 2025-01-07   336   388  317    369   0.907895   44332\n",
       "4 2025-01-08   373   374  303    311   0.717105   44856"
      ]
     },
     "execution_count": 23,
     "metadata": {},
     "output_type": "execute_result"
    }
   ],
   "source": [
    "data.head()"
   ]
  },
  {
   "cell_type": "code",
   "execution_count": 24,
   "id": "be0081fd",
   "metadata": {},
   "outputs": [
    {
     "data": {
      "text/plain": [
       "Start                                     0.0\n",
       "End                                     124.0\n",
       "Duration                                124.0\n",
       "Exposure Time [%]                         0.0\n",
       "Equity Final [$]                      10000.0\n",
       "Equity Peak [$]                       10000.0\n",
       "Return [%]                                0.0\n",
       "Buy & Hold Return [%]              -62.847222\n",
       "Return (Ann.) [%]                         0.0\n",
       "Volatility (Ann.) [%]                     NaN\n",
       "Sharpe Ratio                              NaN\n",
       "Sortino Ratio                             NaN\n",
       "Calmar Ratio                              NaN\n",
       "Max. Drawdown [%]                        -0.0\n",
       "Avg. Drawdown [%]                         NaN\n",
       "Max. Drawdown Duration                    NaN\n",
       "Avg. Drawdown Duration                    NaN\n",
       "# Trades                                  0.0\n",
       "Win Rate [%]                              NaN\n",
       "Best Trade [%]                            NaN\n",
       "Worst Trade [%]                           NaN\n",
       "Avg. Trade [%]                            NaN\n",
       "Max. Trade Duration                       NaN\n",
       "Avg. Trade Duration                       NaN\n",
       "Profit Factor                             NaN\n",
       "Expectancy [%]                            NaN\n",
       "SQN                                       NaN\n",
       "_strategy                            SmaCross\n",
       "_equity_curve                   Equity  Dr...\n",
       "_trades                   Empty DataFrame\n",
       "...\n",
       "dtype: object"
      ]
     },
     "execution_count": 24,
     "metadata": {},
     "output_type": "execute_result"
    }
   ],
   "source": [
    "#print(stats['_trades'].to_string())\n",
    "stats"
   ]
  },
  {
   "cell_type": "code",
   "execution_count": 25,
   "id": "2479f5a3",
   "metadata": {},
   "outputs": [
    {
     "data": {
      "text/html": [
       "\n",
       "  <div class=\"bk-root\" id=\"c053be2e-88af-4bbc-8c88-1284d1dbb483\" data-root-id=\"1973\"></div>\n"
      ]
     },
     "metadata": {},
     "output_type": "display_data"
    },
    {
     "data": {
      "application/javascript": [
       "(function(root) {\n",
       "  function embed_document(root) {\n",
       "  const docs_json = {\"e1c51199-c151-4684-827a-07453f9bb176\":{\"defs\":[],\"roots\":{\"references\":[{\"attributes\":{\"children\":[{\"id\":\"1970\"},{\"id\":\"1972\"}],\"sizing_mode\":\"stretch_width\"},\"id\":\"1973\",\"type\":\"Row\"},{\"attributes\":{\"label\":{\"value\":\"SMA(C,30)\"},\"renderers\":[{\"id\":\"1854\"}]},\"id\":\"1869\",\"type\":\"LegendItem\"},{\"attributes\":{\"axis\":{\"id\":\"1878\"},\"coordinates\":null,\"group\":null,\"ticker\":null},\"id\":\"1881\",\"type\":\"Grid\"},{\"attributes\":{\"line_color\":{\"field\":\"returns_positive\",\"transform\":{\"id\":\"1772\"}},\"line_dash\":{\"value\":\"dotted\"},\"line_width\":{\"value\":8},\"xs\":{\"field\":\"position_lines_xs\"},\"ys\":{\"field\":\"position_lines_ys\"}},\"id\":\"1830\",\"type\":\"MultiLine\"},{\"attributes\":{\"coordinates\":null,\"data_source\":{\"id\":\"1768\"},\"glyph\":{\"id\":\"1824\"},\"group\":null,\"hover_glyph\":null,\"muted_glyph\":{\"id\":\"1826\"},\"nonselection_glyph\":{\"id\":\"1825\"},\"view\":{\"id\":\"1828\"}},\"id\":\"1827\",\"type\":\"GlyphRenderer\"},{\"attributes\":{\"source\":{\"id\":\"1768\"}},\"id\":\"1828\",\"type\":\"CDSView\"},{\"attributes\":{},\"id\":\"1845\",\"type\":\"UnionRenderers\"},{\"attributes\":{},\"id\":\"1846\",\"type\":\"Selection\"},{\"attributes\":{\"coordinates\":null,\"group\":null},\"id\":\"1835\",\"type\":\"Title\"},{\"attributes\":{},\"id\":\"1876\",\"type\":\"LinearScale\"},{\"attributes\":{\"dimensions\":\"width\"},\"id\":\"1752\",\"type\":\"PanTool\"},{\"attributes\":{},\"id\":\"1874\",\"type\":\"LinearScale\"},{\"attributes\":{},\"id\":\"1872\",\"type\":\"DataRange1d\"},{\"attributes\":{\"coordinates\":null,\"formatter\":{\"id\":\"1911\"},\"group\":null,\"major_label_policy\":{\"id\":\"1912\"},\"minor_tick_line_color\":null,\"ticker\":{\"id\":\"1883\"}},\"id\":\"1882\",\"type\":\"LinearAxis\"},{\"attributes\":{},\"id\":\"1891\",\"type\":\"ResetTool\"},{\"attributes\":{\"axis\":{\"id\":\"1882\"},\"coordinates\":null,\"dimension\":1,\"group\":null,\"ticker\":null},\"id\":\"1885\",\"type\":\"Grid\"},{\"attributes\":{},\"id\":\"1883\",\"type\":\"BasicTicker\"},{\"attributes\":{\"dimensions\":\"width\",\"maintain_focus\":false},\"id\":\"1753\",\"type\":\"WheelZoomTool\"},{\"attributes\":{},\"id\":\"1889\",\"type\":\"UndoTool\"},{\"attributes\":{\"dimensions\":\"width\",\"maintain_focus\":false},\"id\":\"1887\",\"type\":\"WheelZoomTool\"},{\"attributes\":{},\"id\":\"1838\",\"type\":\"BasicTickFormatter\"},{\"attributes\":{\"dimensions\":\"width\"},\"id\":\"1886\",\"type\":\"PanTool\"},{\"attributes\":{\"overlay\":{\"id\":\"1893\"}},\"id\":\"1888\",\"type\":\"BoxZoomTool\"},{\"attributes\":{\"coordinates\":null,\"formatter\":{\"id\":\"1805\"},\"group\":null,\"major_label_policy\":{\"id\":\"1842\"},\"ticker\":{\"id\":\"1745\"},\"visible\":false},\"id\":\"1744\",\"type\":\"LinearAxis\"},{\"attributes\":{},\"id\":\"1839\",\"type\":\"AllLabels\"},{\"attributes\":{\"overlay\":{\"id\":\"1759\"}},\"id\":\"1754\",\"type\":\"BoxZoomTool\"},{\"attributes\":{},\"id\":\"1890\",\"type\":\"RedoTool\"},{\"attributes\":{},\"id\":\"1892\",\"type\":\"SaveTool\"},{\"attributes\":{},\"id\":\"1755\",\"type\":\"UndoTool\"},{\"attributes\":{},\"id\":\"1842\",\"type\":\"AllLabels\"},{\"attributes\":{\"bottom_units\":\"screen\",\"coordinates\":null,\"fill_alpha\":0.5,\"fill_color\":\"lightgrey\",\"group\":null,\"left_units\":\"screen\",\"level\":\"overlay\",\"line_alpha\":1.0,\"line_color\":\"black\",\"line_dash\":[4,4],\"line_width\":2,\"right_units\":\"screen\",\"syncable\":false,\"top_units\":\"screen\"},\"id\":\"1893\",\"type\":\"BoxAnnotation\"},{\"attributes\":{\"args\":{\"ohlc_range\":{\"id\":\"1738\"},\"source\":{\"id\":\"1768\"},\"volume_range\":{\"id\":\"1775\"}},\"code\":\"if (!window._bt_scale_range) {\\n    window._bt_scale_range = function (range, min, max, pad) {\\n        \\\"use strict\\\";\\n        if (min !== Infinity && max !== -Infinity) {\\n            pad = pad ? (max - min) * .03 : 0;\\n            range.start = min - pad;\\n            range.end = max + pad;\\n        } else console.error('backtesting: scale range error:', min, max, range);\\n    };\\n}\\n\\nclearTimeout(window._bt_autoscale_timeout);\\n\\nwindow._bt_autoscale_timeout = setTimeout(function () {\\n    /**\\n     * @variable cb_obj `fig_ohlc.x_range`.\\n     * @variable source `ColumnDataSource`\\n     * @variable ohlc_range `fig_ohlc.y_range`.\\n     * @variable volume_range `fig_volume.y_range`.\\n     */\\n    \\\"use strict\\\";\\n\\n    let i = Math.max(Math.floor(cb_obj.start), 0),\\n        j = Math.min(Math.ceil(cb_obj.end), source.data['ohlc_high'].length);\\n\\n    let max = Math.max.apply(null, source.data['ohlc_high'].slice(i, j)),\\n        min = Math.min.apply(null, source.data['ohlc_low'].slice(i, j));\\n    _bt_scale_range(ohlc_range, min, max, true);\\n\\n    if (volume_range) {\\n        max = Math.max.apply(null, source.data['Volume'].slice(i, j));\\n        _bt_scale_range(volume_range, 0, max * 1.03, false);\\n    }\\n\\n}, 50);\\n\"},\"id\":\"1926\",\"type\":\"CustomJS\"},{\"attributes\":{},\"id\":\"1749\",\"type\":\"BasicTicker\"},{\"attributes\":{\"axis\":{\"id\":\"1744\"},\"coordinates\":null,\"group\":null,\"ticker\":null},\"id\":\"1747\",\"type\":\"Grid\"},{\"attributes\":{},\"id\":\"1742\",\"type\":\"LinearScale\"},{\"attributes\":{},\"id\":\"1843\",\"type\":\"UnionRenderers\"},{\"attributes\":{\"logo\":null,\"toolbars\":[{\"id\":\"1760\"},{\"id\":\"1797\"},{\"id\":\"1894\"}],\"tools\":[{\"id\":\"1752\"},{\"id\":\"1753\"},{\"id\":\"1754\"},{\"id\":\"1755\"},{\"id\":\"1756\"},{\"id\":\"1757\"},{\"id\":\"1758\"},{\"id\":\"1924\"},{\"id\":\"1927\"},{\"id\":\"1789\"},{\"id\":\"1790\"},{\"id\":\"1791\"},{\"id\":\"1792\"},{\"id\":\"1793\"},{\"id\":\"1794\"},{\"id\":\"1795\"},{\"id\":\"1813\"},{\"id\":\"1927\"},{\"id\":\"1886\"},{\"id\":\"1887\"},{\"id\":\"1888\"},{\"id\":\"1889\"},{\"id\":\"1890\"},{\"id\":\"1891\"},{\"id\":\"1892\"},{\"id\":\"1922\"},{\"id\":\"1927\"}]},\"id\":\"1971\",\"type\":\"ProxyToolbar\"},{\"attributes\":{},\"id\":\"1745\",\"type\":\"BasicTicker\"},{\"attributes\":{},\"id\":\"1844\",\"type\":\"Selection\"},{\"attributes\":{\"line_color\":\"#1f77b4\",\"line_width\":1.3,\"x\":{\"field\":\"index\"},\"y\":{\"field\":\"SMA(C,100)_1_1\"}},\"id\":\"1903\",\"type\":\"Line\"},{\"attributes\":{\"callback\":null,\"mode\":\"vline\",\"point_policy\":\"follow_mouse\",\"renderers\":[{\"id\":\"1906\"}],\"tooltips\":[[\"#\",\"@index\"],[\"SMA(C,100)\",\"@{SMA(C,100)_1_1}{0,0.0[0000]}\"]]},\"id\":\"1922\",\"type\":\"HoverTool\"},{\"attributes\":{\"active_drag\":{\"id\":\"1886\"},\"active_scroll\":{\"id\":\"1887\"},\"tools\":[{\"id\":\"1886\"},{\"id\":\"1887\"},{\"id\":\"1888\"},{\"id\":\"1889\"},{\"id\":\"1890\"},{\"id\":\"1891\"},{\"id\":\"1892\"},{\"id\":\"1922\"},{\"id\":\"1927\"}]},\"id\":\"1894\",\"type\":\"Toolbar\"},{\"attributes\":{\"callback\":null,\"mode\":\"vline\",\"point_policy\":\"follow_mouse\",\"renderers\":[{\"id\":\"1827\"}],\"tooltips\":[[\"#\",\"@index\"],[\"x, y\",\"$index\\u00a0\\u00a0\\u00a0\\u00a0$y{0,0.0[0000]}\"],[\"OHLC\",\"@Open{0,0.0[0000]}\\u00a0\\u00a0\\u00a0\\u00a0@High{0,0.0[0000]}\\u00a0\\u00a0\\u00a0\\u00a0@Low{0,0.0[0000]}\\u00a0\\u00a0\\u00a0\\u00a0@Close{0,0.0[0000]}\"],[\"Volume\",\"@Volume{0,0}\"],[\"SMA(C,30)\",\"@{SMA(C,30)_0_1}{0,0.0[0000]}\"]]},\"id\":\"1924\",\"type\":\"HoverTool\"},{\"attributes\":{},\"id\":\"1927\",\"type\":\"CrosshairTool\"},{\"attributes\":{\"below\":[{\"id\":\"1878\"}],\"center\":[{\"id\":\"1881\"},{\"id\":\"1885\"},{\"id\":\"1919\"},{\"id\":\"1921\"}],\"height\":90,\"left\":[{\"id\":\"1882\"}],\"min_border_bottom\":6,\"min_border_left\":0,\"min_border_right\":10,\"min_border_top\":3,\"outline_line_color\":\"#666666\",\"renderers\":[{\"id\":\"1906\"}],\"sizing_mode\":\"stretch_width\",\"title\":{\"id\":\"1908\"},\"toolbar\":{\"id\":\"1894\"},\"toolbar_location\":null,\"width\":null,\"x_range\":{\"id\":\"1735\"},\"x_scale\":{\"id\":\"1874\"},\"y_range\":{\"id\":\"1872\"},\"y_scale\":{\"id\":\"1876\"}},\"id\":\"1870\",\"subtype\":\"Figure\",\"type\":\"Plot\"},{\"attributes\":{\"source\":{\"id\":\"1768\"}},\"id\":\"1855\",\"type\":\"CDSView\"},{\"attributes\":{\"line_alpha\":0.2,\"line_color\":\"#1f77b4\",\"line_width\":1.3,\"x\":{\"field\":\"index\"},\"y\":{\"field\":\"SMA(C,30)_0_1\"}},\"id\":\"1853\",\"type\":\"Line\"},{\"attributes\":{\"coordinates\":null,\"formatter\":{\"id\":\"1838\"},\"group\":null,\"major_label_policy\":{\"id\":\"1839\"},\"ticker\":{\"id\":\"1749\"}},\"id\":\"1748\",\"type\":\"LinearAxis\"},{\"attributes\":{\"line_alpha\":0.1,\"line_color\":\"#1f77b4\",\"line_width\":1.3,\"x\":{\"field\":\"index\"},\"y\":{\"field\":\"SMA(C,30)_0_1\"}},\"id\":\"1852\",\"type\":\"Line\"},{\"attributes\":{\"coordinates\":null,\"data_source\":{\"id\":\"1768\"},\"glyph\":{\"id\":\"1851\"},\"group\":null,\"hover_glyph\":null,\"muted_glyph\":{\"id\":\"1853\"},\"nonselection_glyph\":{\"id\":\"1852\"},\"view\":{\"id\":\"1855\"}},\"id\":\"1854\",\"type\":\"GlyphRenderer\"},{\"attributes\":{\"coordinates\":null,\"formatter\":{\"id\":\"1914\"},\"group\":null,\"major_label_policy\":{\"id\":\"1915\"},\"ticker\":{\"id\":\"1879\"},\"visible\":false},\"id\":\"1878\",\"type\":\"LinearAxis\"},{\"attributes\":{\"axis\":{\"id\":\"1748\"},\"coordinates\":null,\"dimension\":1,\"group\":null,\"ticker\":null},\"id\":\"1751\",\"type\":\"Grid\"},{\"attributes\":{\"line_alpha\":0.1,\"line_color\":\"#1f77b4\",\"line_width\":1.3,\"x\":{\"field\":\"index\"},\"y\":{\"field\":\"SMA(C,100)_1_1\"}},\"id\":\"1904\",\"type\":\"Line\"},{\"attributes\":{},\"id\":\"1756\",\"type\":\"RedoTool\"},{\"attributes\":{\"dimensions\":\"width\",\"maintain_focus\":false},\"id\":\"1790\",\"type\":\"WheelZoomTool\"},{\"attributes\":{\"data\":{\"Close\":[288,291,327,369,311,312,281,346,352,296,274,321,368,316,295,284,283,370,355,311,320,307,355,341,280,309,306,324,346,292,287,300,339,323,256,272,252,291,303,273,248,252,277,260,218,210,214,234,212,192,191,188,211,198,177,157,167,143,133,150,147,150,146,145,156,159,155,152,163,143,142,157,139,143,142,160,182,173,154,151,173,177,195,188,201,200,184,179,170,168,163,141,137,136,131,145,130,128,125,136,121,122,112,111,109,115,108,115,114,116,108,109,106,115,109,105,109,97,108,110,104,111,111,110,107],\"High\":[303,317,346,388,374,366,336,353,359,359,321,322,374,397,338,304,312,378,383,370,332,327,366,375,360,314,343,342,352,347,304,309,349,343,343,282,283,312,329,322,279,265,291,286,267,219,217,240,240,235,199,202,221,223,209,184,174,169,151,156,154,159,157,151,160,165,170,173,170,165,148,159,159,150,161,168,189,188,177,173,182,192,200,200,206,227,211,188,180,180,180,165,153,146,149,150,149,140,135,139,137,127,125,119,118,120,119,120,121,121,119,117,117,117,117,115,113,113,113,113,114,114,113,113,114],\"Low\":[243,270,276,317,303,300,276,273,304,289,260,265,303,315,278,264,266,273,320,297,289,282,288,318,264,260,288,289,304,272,265,265,278,296,249,235,236,237,283,258,230,225,245,238,195,191,189,193,205,177,173,173,176,187,163,149,146,131,127,128,131,134,129,126,127,139,136,135,143,127,125,128,125,127,130,139,159,157,148,140,140,163,169,167,166,188,165,158,153,152,143,130,124,120,117,126,120,116,113,114,107,104,100,97,97,97,99,99,99,99,97,96,96,96,95,94,94,94,93,93,93,94,93,93,93],\"Open\":[269,283,278,336,373,316,325,280,346,357,299,282,303,359,329,279,278,273,360,345,298,325,289,363,354,267,290,307,318,344,288,275,305,323,330,251,278,238,304,319,265,238,260,268,265,203,201,196,220,221,187,191,190,206,189,176,169,159,150,131,151,153,153,147,133,143,163,135,152,149,130,135,140,140,145,150,164,188,177,167,149,174,186,180,178,227,207,176,166,173,176,162,136,129,134,143,130,136,121,135,125,115,104,100,97,108,115,109,116,109,100,101,100,108,105,102,106,101,97,108,98,113,105,106,94],\"SMA(C,100)_1_1\":{\"__ndarray__\":\"AAAAAAAA+H8AAAAAAAD4fwAAAAAAAPh/AAAAAAAA+H8AAAAAAAD4fwAAAAAAAPh/AAAAAAAA+H8AAAAAAAD4fwAAAAAAAPh/AAAAAAAA+H8AAAAAAAD4fwAAAAAAAPh/AAAAAAAA+H8AAAAAAAD4fwAAAAAAAPh/AAAAAAAA+H8AAAAAAAD4fwAAAAAAAPh/AAAAAAAA+H8AAAAAAAD4fwAAAAAAAPh/AAAAAAAA+H8AAAAAAAD4fwAAAAAAAPh/AAAAAAAA+H8AAAAAAAD4fwAAAAAAAPh/AAAAAAAA+H8AAAAAAAD4fwAAAAAAAPh/AAAAAAAA+H8AAAAAAAD4fwAAAAAAAPh/AAAAAAAA+H8AAAAAAAD4fwAAAAAAAPh/AAAAAAAA+H8AAAAAAAD4fwAAAAAAAPh/AAAAAAAA+H8AAAAAAAD4fwAAAAAAAPh/AAAAAAAA+H8AAAAAAAD4fwAAAAAAAPh/AAAAAAAA+H8AAAAAAAD4fwAAAAAAAPh/AAAAAAAA+H8AAAAAAAD4fwAAAAAAAPh/AAAAAAAA+H8AAAAAAAD4fwAAAAAAAPh/AAAAAAAA+H8AAAAAAAD4fwAAAAAAAPh/AAAAAAAA+H8AAAAAAAD4fwAAAAAAAPh/AAAAAAAA+H8AAAAAAAD4fwAAAAAAAPh/AAAAAAAA+H8AAAAAAAD4fwAAAAAAAPh/AAAAAAAA+H8AAAAAAAD4fwAAAAAAAPh/AAAAAAAA+H8AAAAAAAD4fwAAAAAAAPh/AAAAAAAA+H8AAAAAAAD4fwAAAAAAAPh/AAAAAAAA+H8AAAAAAAD4fwAAAAAAAPh/AAAAAAAA+H8AAAAAAAD4fwAAAAAAAPh/AAAAAAAA+H8AAAAAAAD4fwAAAAAAAPh/AAAAAAAA+H8AAAAAAAD4fwAAAAAAAPh/AAAAAAAA+H8AAAAAAAD4fwAAAAAAAPh/AAAAAAAA+H8AAAAAAAD4fwAAAAAAAPh/AAAAAAAA+H8AAAAAAAD4fwAAAAAAAPh/AAAAAAAA+H8AAAAAAAD4fwAAAAAAAPh/SOF6FK5nbEAK16NwPTJsQFyPwvUo/GtAj8L1KFy3a0DNzMzMzGRrQFyPwvUoJGtAhetRuB7lakD2KFyPwq1qQKRwPQrXY2pASOF6FK4XakCuR+F6FN5pQClcj8L1qGlAhetRuB5laUDhehSuRxFpQClcj8L10GhAPQrXo3CVaEBcj8L1KFxoQBSuR+F6JGhAhetRuB7NZ0CuR+F6FH5nQPYoXI/CPWdAcT0K16P4ZkBSuB6F67lmQKRwPQrXa2ZAUrgeheshZkDD9Shcj+plQA==\",\"dtype\":\"float64\",\"order\":\"little\",\"shape\":[125]},\"SMA(C,30)_0_1\":{\"__ndarray__\":\"AAAAAAAA+H8AAAAAAAD4fwAAAAAAAPh/AAAAAAAA+H8AAAAAAAD4fwAAAAAAAPh/AAAAAAAA+H8AAAAAAAD4fwAAAAAAAPh/AAAAAAAA+H8AAAAAAAD4fwAAAAAAAPh/AAAAAAAA+H8AAAAAAAD4fwAAAAAAAPh/AAAAAAAA+H8AAAAAAAD4fwAAAAAAAPh/AAAAAAAA+H8AAAAAAAD4fwAAAAAAAPh/AAAAAAAA+H8AAAAAAAD4fwAAAAAAAPh/AAAAAAAA+H8AAAAAAAD4fwAAAAAAAPh/AAAAAAAA+H8AAAAAAAD4f6uqqqqq2nNAIiIiIiLac0Dv7u7u7t5zQFVVVVVV5XNAzczMzMzMc0B3d3d3d69zQCIiIiIimnNAq6qqqqqKc0BVVVVVVW1zQDMzMzMzU3NA7+7u7u5Gc0ARERERETlzQEREREREFHNAvLu7u7vjckDe3d3d3cVyQM3MzMzMnHJAVVVVVVV1ckCJiIiIiFByQAAAAAAACHJAvLu7u7u7cUBERERERHxxQHd3d3d3N3FAAAAAAAD4cEAzMzMzM6twQO/u7u7uXnBAAAAAAAAocEDe3d3d3a1vQJqZmZmZGW9AiYiIiIhYbkBVVVVVVXVtQN7d3d3d3WxAiYiIiIhIbECJiIiIiKhrQKuqqqqq2mpAzczMzMwcakAiIiIiIrJpQJqZmZmZOWlAIiIiIiLSaEDe3d3d3T1oQImIiIiIqGdA3t3d3d0dZ0DNzMzMzKxmQHd3d3d3R2ZARERERES0ZUB3d3d3dzdlQGZmZmZm5mRAERERERGxZEDv7u7u7o5kQN7d3d3dTWRAAAAAAAAQZEBERERERORjQBERERER0WNAVVVVVVXFY0BERERERLRjQJqZmZmZqWNAMzMzMzPDY0AREREREfFjQDMzMzMzA2RAmpmZmZkpZEAREREREVFkQEREREREZGRAVVVVVVV1ZEC8u7u7u2tkQCIiIiIiYmRAiYiIiIhYZEDe3d3d3T1kQO/u7u7uLmRAREREREQUZECrqqqqqvpjQCIiIiIi0mNAq6qqqqrKY0BERERERLRjQO/u7u7ujmNAIiIiIiJyY0AAAAAAAFBjQM3MzMzMLGNAzczMzMz8YkDe3d3d3a1iQAAAAAAAcGJAVVVVVVVFYkAAAAAAACBiQKuqqqqq2mFAIiIiIiKSYUAzMzMzMzNhQFVVVVVV5WBAMzMzMzODYEDe3d3d3R1gQLy7u7u7m19AzczMzMzsXkCJiIiIiGheQM3MzMzM7F1A7+7u7u5uXUDv7u7u7i5dQHd3d3d391xAAAAAAADAXEDNzMzMzIxcQA==\",\"dtype\":\"float64\",\"order\":\"little\",\"shape\":[125]},\"Volume\":[47972,51991,48045,44332,44856,45546,46924,52634,45707,49108,51957,50941,49459,45667,46956,50830,55602,46580,43636,46537,45744,48630,54591,45578,48398,55205,45802,50458,50902,46942,51524,51905,48157,49630,48141,54038,53241,55275,52079,54115,52515,56263,51661,53445,54067,56949,56184,54747,54655,56267,56983,56123,55040,56814,56847,56630,55817,56185,56241,54563,56241,56838,54906,56209,55525,55474,56990,55256,56730,56165,56242,54661,55712,56311,54966,55896,55526,56286,55455,55483,56221,57051,56905,56510,56106,55600,56087,55377,55454,56890,55199,56154,55481,55248,56290,55312,55909,55497,56525,55710,55741,55584,55895,54948,56747,55098,55400,55323,55385,55619,55296,55667,55776,55965,55794,54875,55743,56528,56476,56101,55856,54574,55718,55386,55435],\"datetime\":[0,1,2,3,4,5,6,7,8,9,10,11,12,13,14,15,16,17,18,19,20,21,22,23,24,25,26,27,28,29,30,31,32,33,34,35,36,37,38,39,40,41,42,43,44,45,46,47,48,49,50,51,52,53,54,55,56,57,58,59,60,61,62,63,64,65,66,67,68,69,70,71,72,73,74,75,76,77,78,79,80,81,82,83,84,85,86,87,88,89,90,91,92,93,94,95,96,97,98,99,100,101,102,103,104,105,106,107,108,109,110,111,112,113,114,115,116,117,118,119,120,121,122,123,124],\"inc\":[\"1\",\"1\",\"1\",\"1\",\"0\",\"0\",\"0\",\"1\",\"1\",\"0\",\"0\",\"1\",\"1\",\"0\",\"0\",\"1\",\"1\",\"1\",\"0\",\"0\",\"1\",\"0\",\"1\",\"0\",\"0\",\"1\",\"1\",\"1\",\"1\",\"0\",\"0\",\"1\",\"1\",\"1\",\"0\",\"1\",\"0\",\"1\",\"0\",\"0\",\"0\",\"1\",\"1\",\"0\",\"0\",\"1\",\"1\",\"1\",\"0\",\"0\",\"1\",\"0\",\"1\",\"0\",\"0\",\"0\",\"0\",\"0\",\"0\",\"1\",\"0\",\"0\",\"0\",\"0\",\"1\",\"1\",\"0\",\"1\",\"1\",\"0\",\"1\",\"1\",\"0\",\"1\",\"0\",\"1\",\"1\",\"0\",\"0\",\"0\",\"1\",\"1\",\"1\",\"1\",\"1\",\"0\",\"0\",\"1\",\"1\",\"0\",\"0\",\"0\",\"1\",\"1\",\"0\",\"1\",\"1\",\"0\",\"1\",\"1\",\"0\",\"1\",\"1\",\"1\",\"1\",\"1\",\"0\",\"1\",\"0\",\"1\",\"1\",\"1\",\"1\",\"1\",\"1\",\"1\",\"1\",\"0\",\"1\",\"1\",\"1\",\"0\",\"1\",\"1\",\"1\"],\"index\":[0,1,2,3,4,5,6,7,8,9,10,11,12,13,14,15,16,17,18,19,20,21,22,23,24,25,26,27,28,29,30,31,32,33,34,35,36,37,38,39,40,41,42,43,44,45,46,47,48,49,50,51,52,53,54,55,56,57,58,59,60,61,62,63,64,65,66,67,68,69,70,71,72,73,74,75,76,77,78,79,80,81,82,83,84,85,86,87,88,89,90,91,92,93,94,95,96,97,98,99,100,101,102,103,104,105,106,107,108,109,110,111,112,113,114,115,116,117,118,119,120,121,122,123,124],\"ohlc_high\":{\"__ndarray__\":\"AAAAAADwckAAAAAAANBzQAAAAAAAoHVAAAAAAABAeEAAAAAAAGB3QAAAAAAA4HZAAAAAAAAAdUAAAAAAABB2QAAAAAAAcHZAAAAAAABwdkAAAAAAABB0QAAAAAAAIHRAAAAAAABgd0AAAAAAANB4QAAAAAAAIHVAAAAAAAAAc0AAAAAAAIBzQAAAAAAAoHdAAAAAAADwd0AAAAAAACB3QAAAAAAAwHRAAAAAAABwdEAAAAAAAOB2QAAAAAAAcHdAAAAAAACAdkAAAAAAAKBzQAAAAAAAcHVAAAAAAABgdUAAAAAAAAB2QAAAAAAAsHVAIiIiIiLac0Dv7u7u7t5zQAAAAAAA0HVAAAAAAABwdUAAAAAAAHB1QCIiIiIimnNAq6qqqqqKc0AAAAAAAIBzQAAAAAAAkHRAAAAAAAAgdEARERERETlzQEREREREFHNAvLu7u7vjckDe3d3d3cVyQM3MzMzMnHJAVVVVVVV1ckCJiIiIiFByQAAAAAAACHJAvLu7u7u7cUBERERERHxxQHd3d3d3N3FAAAAAAAD4cEAzMzMzM6twQO/u7u7uXnBAAAAAAAAocEDe3d3d3a1vQJqZmZmZGW9AiYiIiIhYbkBVVVVVVXVtQN7d3d3d3WxAiYiIiIhIbECJiIiIiKhrQKuqqqqq2mpAzczMzMwcakAiIiIiIrJpQJqZmZmZOWlAIiIiIiLSaEDe3d3d3T1oQImIiIiIqGdA3t3d3d0dZ0DNzMzMzKxmQHd3d3d3R2ZARERERES0ZUB3d3d3dzdlQGZmZmZm5mRAAAAAAAAAZUAAAAAAAKBnQAAAAAAAgGdAAAAAAAAgZkAAAAAAAKBlQAAAAAAAwGZAAAAAAAAAaEAAAAAAAABpQAAAAAAAAGlAAAAAAADAaUAAAAAAAGBsQAAAAAAAYGpAAAAAAACAZ0AAAAAAAIBmQAAAAAAAgGZAAAAAAACAZkAAAAAAAKBkQCIiIiIiYmRAiYiIiIhYZEDe3d3d3T1kQO/u7u7uLmRAREREREQUZECrqqqqqvpjQCIiIiIi0mNAq6qqqqrKY0BERERERLRjQO/u7u7ujmNAIiIiIiJyY0AAAAAAAFBjQM3MzMzMLGNAzczMzMz8YkDe3d3d3a1iQAAAAAAAcGJAVVVVVVVFYkAAAAAAACBiQKuqqqqq2mFAIiIiIiKSYUAzMzMzMzNhQFVVVVVV5WBAMzMzMzODYEDe3d3d3R1gQLy7u7u7m19AzczMzMzsXkCJiIiIiGheQM3MzMzM7F1A7+7u7u5uXUDv7u7u7i5dQHd3d3d391xAAAAAAADAXEDNzMzMzIxcQA==\",\"dtype\":\"float64\",\"order\":\"little\",\"shape\":[125]},\"ohlc_low\":{\"__ndarray__\":\"AAAAAABgbkAAAAAAAOBwQAAAAAAAQHFAAAAAAADQc0AAAAAAAPByQAAAAAAAwHJAAAAAAABAcUAAAAAAABBxQAAAAAAAAHNAAAAAAAAQckAAAAAAAEBwQAAAAAAAkHBAAAAAAADwckAAAAAAALBzQAAAAAAAYHFAAAAAAACAcEAAAAAAAKBwQAAAAAAAEHFAAAAAAAAAdEAAAAAAAJByQAAAAAAAEHJAAAAAAACgcUAAAAAAAAByQAAAAAAA4HNAAAAAAACAcEAAAAAAAEBwQAAAAAAAAHJAAAAAAAAQckAAAAAAAABzQAAAAAAAAHFAAAAAAACQcEAAAAAAAJBwQAAAAAAAYHFAAAAAAACAckAAAAAAACBvQAAAAAAAYG1AAAAAAACAbUAAAAAAAKBtQAAAAAAAsHFAAAAAAAAgcEAAAAAAAMBsQAAAAAAAIGxAAAAAAACgbkAAAAAAAMBtQAAAAAAAYGhAAAAAAADgZ0AAAAAAAKBnQAAAAAAAIGhAAAAAAACgaUAAAAAAACBmQAAAAAAAoGVAAAAAAACgZUAAAAAAAABmQAAAAAAAYGdAAAAAAABgZEAAAAAAAKBiQAAAAAAAQGJAAAAAAABgYEAAAAAAAMBfQAAAAAAAAGBAAAAAAABgYEAAAAAAAMBgQAAAAAAAIGBAAAAAAACAX0AAAAAAAMBfQAAAAAAAYGFAAAAAAAAAYUAAAAAAAOBgQAAAAAAA4GFAAAAAAADAX0AAAAAAAEBfQAAAAAAAAGBAAAAAAABAX0AAAAAAAMBfQAAAAAAAQGBAAAAAAABgYUAAAAAAAOBjQAAAAAAAoGNAAAAAAACAYkAAAAAAAIBhQAAAAAAAgGFAVVVVVVXFY0BERERERLRjQJqZmZmZqWNAMzMzMzPDY0AREREREfFjQDMzMzMzA2RAAAAAAADAY0AAAAAAACBjQAAAAAAAAGNAAAAAAADgYUAAAAAAAEBgQAAAAAAAAF9AAAAAAAAAXkAAAAAAAEBdQAAAAAAAgF9AAAAAAAAAXkAAAAAAAABdQAAAAAAAQFxAAAAAAACAXEAAAAAAAMBaQAAAAAAAAFpAAAAAAAAAWUAAAAAAAEBYQAAAAAAAQFhAAAAAAABAWEAAAAAAAMBYQAAAAAAAwFhAAAAAAADAWEAAAAAAAMBYQAAAAAAAQFhAAAAAAAAAWEAAAAAAAABYQAAAAAAAAFhAAAAAAADAV0AAAAAAAIBXQAAAAAAAgFdAAAAAAACAV0AAAAAAAEBXQAAAAAAAQFdAAAAAAABAV0AAAAAAAIBXQAAAAAAAQFdAAAAAAABAV0AAAAAAAEBXQA==\",\"dtype\":\"float64\",\"order\":\"little\",\"shape\":[125]}},\"selected\":{\"id\":\"1844\"},\"selection_policy\":{\"id\":\"1843\"}},\"id\":\"1768\",\"type\":\"ColumnDataSource\"},{\"attributes\":{\"bounds\":[-6.2,130.2],\"end\":124,\"js_property_callbacks\":{\"change:end\":[{\"id\":\"1926\"}]},\"min_interval\":10},\"id\":\"1735\",\"type\":\"Range1d\"},{\"attributes\":{\"axis\":{\"id\":\"1785\"},\"coordinates\":null,\"dimension\":1,\"group\":null,\"ticker\":null},\"id\":\"1788\",\"type\":\"Grid\"},{\"attributes\":{},\"id\":\"1757\",\"type\":\"ResetTool\"},{\"attributes\":{\"axis_label\":\"Volume\",\"coordinates\":null,\"formatter\":{\"id\":\"1815\"},\"group\":null,\"major_label_policy\":{\"id\":\"1951\"},\"minor_tick_line_color\":null,\"ticker\":{\"id\":\"1786\"}},\"id\":\"1785\",\"type\":\"LinearAxis\"},{\"attributes\":{},\"id\":\"1758\",\"type\":\"SaveTool\"},{\"attributes\":{\"line_alpha\":0.2,\"line_color\":\"#1f77b4\",\"line_width\":1.3,\"x\":{\"field\":\"index\"},\"y\":{\"field\":\"SMA(C,100)_1_1\"}},\"id\":\"1905\",\"type\":\"Line\"},{\"attributes\":{\"coordinates\":null,\"group\":null,\"line_color\":\"#666666\",\"line_dash\":[6],\"line_width\":0.5,\"location\":201.6888461538462},\"id\":\"1921\",\"type\":\"Span\"},{\"attributes\":{},\"id\":\"1786\",\"type\":\"BasicTicker\"},{\"attributes\":{\"label\":{\"value\":\"SMA(C,100)\"},\"renderers\":[{\"id\":\"1906\"}]},\"id\":\"1920\",\"type\":\"LegendItem\"},{\"attributes\":{\"coordinates\":null,\"data_source\":{\"id\":\"1768\"},\"glyph\":{\"id\":\"1903\"},\"group\":null,\"hover_glyph\":null,\"muted_glyph\":{\"id\":\"1905\"},\"nonselection_glyph\":{\"id\":\"1904\"},\"view\":{\"id\":\"1907\"}},\"id\":\"1906\",\"type\":\"GlyphRenderer\"},{\"attributes\":{},\"id\":\"1792\",\"type\":\"UndoTool\"},{\"attributes\":{\"source\":{\"id\":\"1768\"}},\"id\":\"1907\",\"type\":\"CDSView\"},{\"attributes\":{\"bottom_units\":\"screen\",\"coordinates\":null,\"fill_alpha\":0.5,\"fill_color\":\"lightgrey\",\"group\":null,\"left_units\":\"screen\",\"level\":\"overlay\",\"line_alpha\":1.0,\"line_color\":\"black\",\"line_dash\":[4,4],\"line_width\":2,\"right_units\":\"screen\",\"syncable\":false,\"top_units\":\"screen\"},\"id\":\"1759\",\"type\":\"BoxAnnotation\"},{\"attributes\":{},\"id\":\"1794\",\"type\":\"ResetTool\"},{\"attributes\":{\"border_line_color\":\"#333333\",\"click_policy\":\"hide\",\"coordinates\":null,\"glyph_width\":0,\"group\":null,\"items\":[{\"id\":\"1920\"}],\"label_text_font_size\":\"8pt\",\"location\":\"top_left\",\"margin\":0,\"padding\":5,\"spacing\":0},\"id\":\"1919\",\"type\":\"Legend\"},{\"attributes\":{\"dimensions\":\"width\"},\"id\":\"1789\",\"type\":\"PanTool\"},{\"attributes\":{\"data\":{\"datetime\":{\"__ndarray__\":\"\",\"dtype\":\"float64\",\"order\":\"little\",\"shape\":[0]},\"exit_price\":{\"__ndarray__\":\"\",\"dtype\":\"float64\",\"order\":\"little\",\"shape\":[0]},\"index\":{\"__ndarray__\":\"\",\"dtype\":\"float64\",\"order\":\"little\",\"shape\":[0]},\"position_lines_xs\":[],\"position_lines_ys\":[],\"returns_positive\":[],\"size\":{\"__ndarray__\":\"\",\"dtype\":\"float64\",\"order\":\"little\",\"shape\":[0]}},\"selected\":{\"id\":\"1846\"},\"selection_policy\":{\"id\":\"1845\"}},\"id\":\"1769\",\"type\":\"ColumnDataSource\"},{\"attributes\":{\"active_drag\":{\"id\":\"1752\"},\"active_scroll\":{\"id\":\"1753\"},\"tools\":[{\"id\":\"1752\"},{\"id\":\"1753\"},{\"id\":\"1754\"},{\"id\":\"1755\"},{\"id\":\"1756\"},{\"id\":\"1757\"},{\"id\":\"1758\"},{\"id\":\"1924\"},{\"id\":\"1927\"}]},\"id\":\"1760\",\"type\":\"Toolbar\"},{\"attributes\":{\"overlay\":{\"id\":\"1796\"}},\"id\":\"1791\",\"type\":\"BoxZoomTool\"},{\"attributes\":{\"coordinates\":null,\"group\":null},\"id\":\"1908\",\"type\":\"Title\"},{\"attributes\":{},\"id\":\"1793\",\"type\":\"RedoTool\"},{\"attributes\":{\"toolbar\":{\"id\":\"1971\"}},\"id\":\"1972\",\"type\":\"ToolbarBox\"},{\"attributes\":{},\"id\":\"1795\",\"type\":\"SaveTool\"},{\"attributes\":{\"below\":[{\"id\":\"1744\"}],\"center\":[{\"id\":\"1747\"},{\"id\":\"1751\"},{\"id\":\"1848\"}],\"height\":400,\"left\":[{\"id\":\"1748\"}],\"min_border_bottom\":6,\"min_border_left\":0,\"min_border_right\":10,\"min_border_top\":3,\"outline_line_color\":\"#666666\",\"renderers\":[{\"id\":\"1821\"},{\"id\":\"1827\"},{\"id\":\"1833\"},{\"id\":\"1854\"}],\"sizing_mode\":\"stretch_width\",\"title\":{\"id\":\"1835\"},\"toolbar\":{\"id\":\"1760\"},\"toolbar_location\":null,\"width\":null,\"x_range\":{\"id\":\"1735\"},\"x_scale\":{\"id\":\"1740\"},\"y_range\":{\"id\":\"1738\"},\"y_scale\":{\"id\":\"1742\"}},\"id\":\"1736\",\"subtype\":\"Figure\",\"type\":\"Plot\"},{\"attributes\":{\"bottom_units\":\"screen\",\"coordinates\":null,\"fill_alpha\":0.5,\"fill_color\":\"lightgrey\",\"group\":null,\"left_units\":\"screen\",\"level\":\"overlay\",\"line_alpha\":1.0,\"line_color\":\"black\",\"line_dash\":[4,4],\"line_width\":2,\"right_units\":\"screen\",\"syncable\":false,\"top_units\":\"screen\"},\"id\":\"1796\",\"type\":\"BoxAnnotation\"},{\"attributes\":{},\"id\":\"1740\",\"type\":\"LinearScale\"},{\"attributes\":{\"factors\":[\"0\",\"1\"],\"palette\":[\"rgb(178.5, 27.163043478260846, 0.0)\",\"rgb(0.0, 178.5, 0.0)\"]},\"id\":\"1772\",\"type\":\"CategoricalColorMapper\"},{\"attributes\":{\"children\":[[{\"id\":\"1736\"},0,0],[{\"id\":\"1773\"},1,0],[{\"id\":\"1870\"},2,0]]},\"id\":\"1970\",\"type\":\"GridBox\"},{\"attributes\":{\"fill_color\":{\"field\":\"inc\",\"transform\":{\"id\":\"1770\"}},\"hatch_color\":{\"field\":\"inc\",\"transform\":{\"id\":\"1770\"}},\"line_color\":{\"field\":\"inc\",\"transform\":{\"id\":\"1770\"}},\"top\":{\"field\":\"Volume\"},\"width\":{\"value\":0.8},\"x\":{\"field\":\"index\"}},\"id\":\"1808\",\"type\":\"VBar\"},{\"attributes\":{\"coordinates\":null,\"data_source\":{\"id\":\"1769\"},\"glyph\":{\"id\":\"1830\"},\"group\":null,\"hover_glyph\":null,\"muted_glyph\":{\"id\":\"1832\"},\"nonselection_glyph\":{\"id\":\"1831\"},\"view\":{\"id\":\"1834\"}},\"id\":\"1833\",\"type\":\"GlyphRenderer\"},{\"attributes\":{\"coordinates\":null,\"group\":null},\"id\":\"1948\",\"type\":\"Title\"},{\"attributes\":{},\"id\":\"1782\",\"type\":\"BasicTicker\"},{\"attributes\":{},\"id\":\"1911\",\"type\":\"BasicTickFormatter\"},{\"attributes\":{},\"id\":\"1805\",\"type\":\"BasicTickFormatter\"},{\"attributes\":{\"active_drag\":{\"id\":\"1789\"},\"active_scroll\":{\"id\":\"1790\"},\"tools\":[{\"id\":\"1789\"},{\"id\":\"1790\"},{\"id\":\"1791\"},{\"id\":\"1792\"},{\"id\":\"1793\"},{\"id\":\"1794\"},{\"id\":\"1795\"},{\"id\":\"1813\"},{\"id\":\"1927\"}]},\"id\":\"1797\",\"type\":\"Toolbar\"},{\"attributes\":{},\"id\":\"1912\",\"type\":\"AllLabels\"},{\"attributes\":{},\"id\":\"1879\",\"type\":\"BasicTicker\"},{\"attributes\":{\"x0\":{\"field\":\"index\"},\"x1\":{\"field\":\"index\"},\"y0\":{\"field\":\"High\"},\"y1\":{\"field\":\"Low\"}},\"id\":\"1818\",\"type\":\"Segment\"},{\"attributes\":{},\"id\":\"1775\",\"type\":\"DataRange1d\"},{\"attributes\":{},\"id\":\"1914\",\"type\":\"BasicTickFormatter\"},{\"attributes\":{\"bottom\":{\"field\":\"Close\"},\"fill_alpha\":{\"value\":0.1},\"fill_color\":{\"field\":\"inc\",\"transform\":{\"id\":\"1770\"}},\"hatch_alpha\":{\"value\":0.1},\"line_alpha\":{\"value\":0.1},\"top\":{\"field\":\"Open\"},\"width\":{\"value\":0.8},\"x\":{\"field\":\"index\"}},\"id\":\"1825\",\"type\":\"VBar\"},{\"attributes\":{\"line_alpha\":{\"value\":0.1},\"x0\":{\"field\":\"index\"},\"x1\":{\"field\":\"index\"},\"y0\":{\"field\":\"High\"},\"y1\":{\"field\":\"Low\"}},\"id\":\"1819\",\"type\":\"Segment\"},{\"attributes\":{},\"id\":\"1915\",\"type\":\"AllLabels\"},{\"attributes\":{},\"id\":\"1779\",\"type\":\"LinearScale\"},{\"attributes\":{\"axis\":{\"id\":\"1781\"},\"coordinates\":null,\"group\":null,\"ticker\":null},\"id\":\"1784\",\"type\":\"Grid\"},{\"attributes\":{\"source\":{\"id\":\"1768\"}},\"id\":\"1822\",\"type\":\"CDSView\"},{\"attributes\":{\"line_alpha\":{\"value\":0.1},\"line_color\":{\"field\":\"returns_positive\",\"transform\":{\"id\":\"1772\"}},\"line_dash\":{\"value\":\"dotted\"},\"line_width\":{\"value\":8},\"xs\":{\"field\":\"position_lines_xs\"},\"ys\":{\"field\":\"position_lines_ys\"}},\"id\":\"1831\",\"type\":\"MultiLine\"},{\"attributes\":{\"line_alpha\":{\"value\":0.2},\"x0\":{\"field\":\"index\"},\"x1\":{\"field\":\"index\"},\"y0\":{\"field\":\"High\"},\"y1\":{\"field\":\"Low\"}},\"id\":\"1820\",\"type\":\"Segment\"},{\"attributes\":{},\"id\":\"1738\",\"type\":\"DataRange1d\"},{\"attributes\":{\"bottom\":{\"field\":\"Close\"},\"fill_alpha\":{\"value\":0.2},\"fill_color\":{\"field\":\"inc\",\"transform\":{\"id\":\"1770\"}},\"hatch_alpha\":{\"value\":0.2},\"line_alpha\":{\"value\":0.2},\"top\":{\"field\":\"Open\"},\"width\":{\"value\":0.8},\"x\":{\"field\":\"index\"}},\"id\":\"1826\",\"type\":\"VBar\"},{\"attributes\":{\"line_alpha\":{\"value\":0.2},\"line_color\":{\"field\":\"returns_positive\",\"transform\":{\"id\":\"1772\"}},\"line_dash\":{\"value\":\"dotted\"},\"line_width\":{\"value\":8},\"xs\":{\"field\":\"position_lines_xs\"},\"ys\":{\"field\":\"position_lines_ys\"}},\"id\":\"1832\",\"type\":\"MultiLine\"},{\"attributes\":{\"format\":\"0 a\"},\"id\":\"1815\",\"type\":\"NumeralTickFormatter\"},{\"attributes\":{\"border_line_color\":\"#333333\",\"click_policy\":\"hide\",\"coordinates\":null,\"group\":null,\"items\":[{\"id\":\"1849\"},{\"id\":\"1869\"}],\"label_text_font_size\":\"8pt\",\"location\":\"top_left\",\"margin\":0,\"padding\":5,\"spacing\":0},\"id\":\"1848\",\"type\":\"Legend\"},{\"attributes\":{},\"id\":\"1951\",\"type\":\"AllLabels\"},{\"attributes\":{\"coordinates\":null,\"formatter\":{\"id\":\"1805\"},\"group\":null,\"major_label_policy\":{\"id\":\"1953\"},\"ticker\":{\"id\":\"1782\"},\"visible\":true},\"id\":\"1781\",\"type\":\"LinearAxis\"},{\"attributes\":{\"source\":{\"id\":\"1769\"}},\"id\":\"1834\",\"type\":\"CDSView\"},{\"attributes\":{},\"id\":\"1953\",\"type\":\"AllLabels\"},{\"attributes\":{\"fill_alpha\":{\"value\":0.1},\"fill_color\":{\"field\":\"inc\",\"transform\":{\"id\":\"1770\"}},\"hatch_alpha\":{\"value\":0.1},\"hatch_color\":{\"field\":\"inc\",\"transform\":{\"id\":\"1770\"}},\"line_alpha\":{\"value\":0.1},\"line_color\":{\"field\":\"inc\",\"transform\":{\"id\":\"1770\"}},\"top\":{\"field\":\"Volume\"},\"width\":{\"value\":0.8},\"x\":{\"field\":\"index\"}},\"id\":\"1809\",\"type\":\"VBar\"},{\"attributes\":{\"line_color\":\"#1f77b4\",\"line_width\":1.3,\"x\":{\"field\":\"index\"},\"y\":{\"field\":\"SMA(C,30)_0_1\"}},\"id\":\"1851\",\"type\":\"Line\"},{\"attributes\":{\"below\":[{\"id\":\"1781\"}],\"center\":[{\"id\":\"1784\"},{\"id\":\"1788\"}],\"height\":90,\"left\":[{\"id\":\"1785\"}],\"min_border_bottom\":6,\"min_border_left\":0,\"min_border_right\":10,\"min_border_top\":3,\"outline_line_color\":\"#666666\",\"renderers\":[{\"id\":\"1811\"}],\"sizing_mode\":\"stretch_width\",\"title\":{\"id\":\"1948\"},\"toolbar\":{\"id\":\"1797\"},\"toolbar_location\":null,\"width\":null,\"x_range\":{\"id\":\"1735\"},\"x_scale\":{\"id\":\"1777\"},\"y_range\":{\"id\":\"1775\"},\"y_scale\":{\"id\":\"1779\"}},\"id\":\"1773\",\"subtype\":\"Figure\",\"type\":\"Plot\"},{\"attributes\":{\"source\":{\"id\":\"1768\"}},\"id\":\"1812\",\"type\":\"CDSView\"},{\"attributes\":{\"coordinates\":null,\"data_source\":{\"id\":\"1768\"},\"glyph\":{\"id\":\"1818\"},\"group\":null,\"hover_glyph\":null,\"muted_glyph\":{\"id\":\"1820\"},\"nonselection_glyph\":{\"id\":\"1819\"},\"view\":{\"id\":\"1822\"}},\"id\":\"1821\",\"type\":\"GlyphRenderer\"},{\"attributes\":{},\"id\":\"1777\",\"type\":\"LinearScale\"},{\"attributes\":{\"bottom\":{\"field\":\"Close\"},\"fill_color\":{\"field\":\"inc\",\"transform\":{\"id\":\"1770\"}},\"top\":{\"field\":\"Open\"},\"width\":{\"value\":0.8},\"x\":{\"field\":\"index\"}},\"id\":\"1824\",\"type\":\"VBar\"},{\"attributes\":{\"label\":{\"value\":\"Trades (0)\"},\"renderers\":[{\"id\":\"1833\"}]},\"id\":\"1849\",\"type\":\"LegendItem\"},{\"attributes\":{\"coordinates\":null,\"data_source\":{\"id\":\"1768\"},\"glyph\":{\"id\":\"1808\"},\"group\":null,\"hover_glyph\":null,\"muted_glyph\":{\"id\":\"1810\"},\"nonselection_glyph\":{\"id\":\"1809\"},\"view\":{\"id\":\"1812\"}},\"id\":\"1811\",\"type\":\"GlyphRenderer\"},{\"attributes\":{\"callback\":null,\"mode\":\"vline\",\"point_policy\":\"follow_mouse\",\"renderers\":[{\"id\":\"1811\"}],\"tooltips\":[[\"#\",\"@index\"],[\"Volume\",\"@Volume{0.00 a}\"]]},\"id\":\"1813\",\"type\":\"HoverTool\"},{\"attributes\":{\"factors\":[\"0\",\"1\"],\"palette\":[\"tomato\",\"lime\"]},\"id\":\"1770\",\"type\":\"CategoricalColorMapper\"},{\"attributes\":{\"fill_alpha\":{\"value\":0.2},\"fill_color\":{\"field\":\"inc\",\"transform\":{\"id\":\"1770\"}},\"hatch_alpha\":{\"value\":0.2},\"hatch_color\":{\"field\":\"inc\",\"transform\":{\"id\":\"1770\"}},\"line_alpha\":{\"value\":0.2},\"line_color\":{\"field\":\"inc\",\"transform\":{\"id\":\"1770\"}},\"top\":{\"field\":\"Volume\"},\"width\":{\"value\":0.8},\"x\":{\"field\":\"index\"}},\"id\":\"1810\",\"type\":\"VBar\"}],\"root_ids\":[\"1973\"]},\"title\":\"Bokeh Application\",\"version\":\"2.4.3\"}};\n",
       "  const render_items = [{\"docid\":\"e1c51199-c151-4684-827a-07453f9bb176\",\"root_ids\":[\"1973\"],\"roots\":{\"1973\":\"c053be2e-88af-4bbc-8c88-1284d1dbb483\"}}];\n",
       "  root.Bokeh.embed.embed_items_notebook(docs_json, render_items);\n",
       "  }\n",
       "  if (root.Bokeh !== undefined) {\n",
       "    embed_document(root);\n",
       "  } else {\n",
       "    let attempts = 0;\n",
       "    const timer = setInterval(function(root) {\n",
       "      if (root.Bokeh !== undefined) {\n",
       "        clearInterval(timer);\n",
       "        embed_document(root);\n",
       "      } else {\n",
       "        attempts++;\n",
       "        if (attempts > 100) {\n",
       "          clearInterval(timer);\n",
       "          console.log(\"Bokeh: ERROR: Unable to run BokehJS code because BokehJS library is missing\");\n",
       "        }\n",
       "      }\n",
       "    }, 10, root)\n",
       "  }\n",
       "})(window);"
      ],
      "application/vnd.bokehjs_exec.v0+json": ""
     },
     "metadata": {
      "application/vnd.bokehjs_exec.v0+json": {
       "id": "1973"
      }
     },
     "output_type": "display_data"
    },
    {
     "data": {
      "text/html": [
       "<div style=\"display: table;\"><div style=\"display: table-row;\"><div style=\"display: table-cell;\"><b title=\"bokeh.models.layouts.Row\">Row</b>(</div><div style=\"display: table-cell;\">id&nbsp;=&nbsp;'1973', <span id=\"2149\" style=\"cursor: pointer;\">&hellip;)</span></div></div><div class=\"2148\" style=\"display: none;\"><div style=\"display: table-cell;\"></div><div style=\"display: table-cell;\">align&nbsp;=&nbsp;'start',</div></div><div class=\"2148\" style=\"display: none;\"><div style=\"display: table-cell;\"></div><div style=\"display: table-cell;\">aspect_ratio&nbsp;=&nbsp;None,</div></div><div class=\"2148\" style=\"display: none;\"><div style=\"display: table-cell;\"></div><div style=\"display: table-cell;\">background&nbsp;=&nbsp;None,</div></div><div class=\"2148\" style=\"display: none;\"><div style=\"display: table-cell;\"></div><div style=\"display: table-cell;\">children&nbsp;=&nbsp;[GridBox(id='1970', ...), ToolbarBox(id='1972', ...)],</div></div><div class=\"2148\" style=\"display: none;\"><div style=\"display: table-cell;\"></div><div style=\"display: table-cell;\">cols&nbsp;=&nbsp;'auto',</div></div><div class=\"2148\" style=\"display: none;\"><div style=\"display: table-cell;\"></div><div style=\"display: table-cell;\">css_classes&nbsp;=&nbsp;[],</div></div><div class=\"2148\" style=\"display: none;\"><div style=\"display: table-cell;\"></div><div style=\"display: table-cell;\">disabled&nbsp;=&nbsp;False,</div></div><div class=\"2148\" style=\"display: none;\"><div style=\"display: table-cell;\"></div><div style=\"display: table-cell;\">height&nbsp;=&nbsp;None,</div></div><div class=\"2148\" style=\"display: none;\"><div style=\"display: table-cell;\"></div><div style=\"display: table-cell;\">height_policy&nbsp;=&nbsp;'auto',</div></div><div class=\"2148\" style=\"display: none;\"><div style=\"display: table-cell;\"></div><div style=\"display: table-cell;\">js_event_callbacks&nbsp;=&nbsp;{},</div></div><div class=\"2148\" style=\"display: none;\"><div style=\"display: table-cell;\"></div><div style=\"display: table-cell;\">js_property_callbacks&nbsp;=&nbsp;{},</div></div><div class=\"2148\" style=\"display: none;\"><div style=\"display: table-cell;\"></div><div style=\"display: table-cell;\">margin&nbsp;=&nbsp;(0, 0, 0, 0),</div></div><div class=\"2148\" style=\"display: none;\"><div style=\"display: table-cell;\"></div><div style=\"display: table-cell;\">max_height&nbsp;=&nbsp;None,</div></div><div class=\"2148\" style=\"display: none;\"><div style=\"display: table-cell;\"></div><div style=\"display: table-cell;\">max_width&nbsp;=&nbsp;None,</div></div><div class=\"2148\" style=\"display: none;\"><div style=\"display: table-cell;\"></div><div style=\"display: table-cell;\">min_height&nbsp;=&nbsp;None,</div></div><div class=\"2148\" style=\"display: none;\"><div style=\"display: table-cell;\"></div><div style=\"display: table-cell;\">min_width&nbsp;=&nbsp;None,</div></div><div class=\"2148\" style=\"display: none;\"><div style=\"display: table-cell;\"></div><div style=\"display: table-cell;\">name&nbsp;=&nbsp;None,</div></div><div class=\"2148\" style=\"display: none;\"><div style=\"display: table-cell;\"></div><div style=\"display: table-cell;\">sizing_mode&nbsp;=&nbsp;'stretch_width',</div></div><div class=\"2148\" style=\"display: none;\"><div style=\"display: table-cell;\"></div><div style=\"display: table-cell;\">spacing&nbsp;=&nbsp;0,</div></div><div class=\"2148\" style=\"display: none;\"><div style=\"display: table-cell;\"></div><div style=\"display: table-cell;\">subscribed_events&nbsp;=&nbsp;[],</div></div><div class=\"2148\" style=\"display: none;\"><div style=\"display: table-cell;\"></div><div style=\"display: table-cell;\">syncable&nbsp;=&nbsp;True,</div></div><div class=\"2148\" style=\"display: none;\"><div style=\"display: table-cell;\"></div><div style=\"display: table-cell;\">tags&nbsp;=&nbsp;[],</div></div><div class=\"2148\" style=\"display: none;\"><div style=\"display: table-cell;\"></div><div style=\"display: table-cell;\">visible&nbsp;=&nbsp;True,</div></div><div class=\"2148\" style=\"display: none;\"><div style=\"display: table-cell;\"></div><div style=\"display: table-cell;\">width&nbsp;=&nbsp;None,</div></div><div class=\"2148\" style=\"display: none;\"><div style=\"display: table-cell;\"></div><div style=\"display: table-cell;\">width_policy&nbsp;=&nbsp;'auto')</div></div></div>\n",
       "<script>\n",
       "(function() {\n",
       "  let expanded = false;\n",
       "  const ellipsis = document.getElementById(\"2149\");\n",
       "  ellipsis.addEventListener(\"click\", function() {\n",
       "    const rows = document.getElementsByClassName(\"2148\");\n",
       "    for (let i = 0; i < rows.length; i++) {\n",
       "      const el = rows[i];\n",
       "      el.style.display = expanded ? \"none\" : \"table-row\";\n",
       "    }\n",
       "    ellipsis.innerHTML = expanded ? \"&hellip;)\" : \"&lsaquo;&lsaquo;&lsaquo;\";\n",
       "    expanded = !expanded;\n",
       "  });\n",
       "})();\n",
       "</script>\n"
      ],
      "text/plain": [
       "Row(id='1973', ...)"
      ]
     },
     "execution_count": 25,
     "metadata": {},
     "output_type": "execute_result"
    }
   ],
   "source": [
    "bt.plot()"
   ]
  },
  {
   "cell_type": "code",
   "execution_count": 26,
   "id": "abe0fa16",
   "metadata": {},
   "outputs": [
    {
     "data": {
      "application/vnd.jupyter.widget-view+json": {
       "model_id": "",
       "version_major": 2,
       "version_minor": 0
      },
      "text/plain": [
       "  0%|          | 0/13 [00:00<?, ?it/s]"
      ]
     },
     "metadata": {},
     "output_type": "display_data"
    },
    {
     "name": "stdout",
     "output_type": "stream",
     "text": [
      "Best result:  42.230000000000004\n",
      "Parameters for best result:  SmaCross(n1=40,n2=50)\n"
     ]
    }
   ],
   "source": [
    "# Define a range of values to test for each parameter\n",
    "param_grid = {'n1': range(5, 60, 5), 'n2': range(10, 90, 5)}\n",
    "# Run the optimization\n",
    "res = bt.optimize(**param_grid)\n",
    "\n",
    "# Print the best results and the parameters that lead to these results\n",
    "print(\"Best result: \", res['Return [%]'])\n",
    "print(\"Parameters for best result: \", res['_strategy'])"
   ]
  },
  {
   "cell_type": "code",
   "execution_count": 27,
   "id": "750e62e1",
   "metadata": {},
   "outputs": [
    {
     "data": {
      "text/plain": [
       "Start                                     0.0\n",
       "End                                     124.0\n",
       "Duration                                124.0\n",
       "Exposure Time [%]                        16.8\n",
       "Equity Final [$]                      14223.0\n",
       "Equity Peak [$]                       14223.0\n",
       "Return [%]                              42.23\n",
       "Buy & Hold Return [%]              -62.847222\n",
       "Return (Ann.) [%]                         0.0\n",
       "Volatility (Ann.) [%]                     NaN\n",
       "Sharpe Ratio                              NaN\n",
       "Sortino Ratio                             NaN\n",
       "Calmar Ratio                              0.0\n",
       "Max. Drawdown [%]                  -10.363662\n",
       "Avg. Drawdown [%]                   -4.871815\n",
       "Max. Drawdown Duration                    7.0\n",
       "Avg. Drawdown Duration                    3.0\n",
       "# Trades                                  2.0\n",
       "Win Rate [%]                            100.0\n",
       "Best Trade [%]                      19.587629\n",
       "Worst Trade [%]                     18.965517\n",
       "Avg. Trade [%]                      19.276167\n",
       "Max. Trade Duration                      16.0\n",
       "Avg. Trade Duration                      10.0\n",
       "Profit Factor                             NaN\n",
       "Expectancy [%]                      19.276573\n",
       "SQN                                 13.666667\n",
       "_strategy                 SmaCross(n1=40,n...\n",
       "_equity_curve                   Equity  Dr...\n",
       "_trades                      Size  EntryBa...\n",
       "dtype: object"
      ]
     },
     "execution_count": 27,
     "metadata": {},
     "output_type": "execute_result"
    }
   ],
   "source": [
    "res"
   ]
  },
  {
   "cell_type": "code",
   "execution_count": 28,
   "id": "10560136",
   "metadata": {},
   "outputs": [
    {
     "data": {
      "text/html": [
       "<div>\n",
       "<style scoped>\n",
       "    .dataframe tbody tr th:only-of-type {\n",
       "        vertical-align: middle;\n",
       "    }\n",
       "\n",
       "    .dataframe tbody tr th {\n",
       "        vertical-align: top;\n",
       "    }\n",
       "\n",
       "    .dataframe thead th {\n",
       "        text-align: right;\n",
       "    }\n",
       "</style>\n",
       "<table border=\"1\" class=\"dataframe\">\n",
       "  <thead>\n",
       "    <tr style=\"text-align: right;\">\n",
       "      <th></th>\n",
       "      <th>Size</th>\n",
       "      <th>EntryBar</th>\n",
       "      <th>ExitBar</th>\n",
       "      <th>EntryPrice</th>\n",
       "      <th>ExitPrice</th>\n",
       "      <th>PnL</th>\n",
       "      <th>ReturnPct</th>\n",
       "      <th>EntryTime</th>\n",
       "      <th>ExitTime</th>\n",
       "      <th>Duration</th>\n",
       "    </tr>\n",
       "  </thead>\n",
       "  <tbody>\n",
       "    <tr>\n",
       "      <th>0</th>\n",
       "      <td>103</td>\n",
       "      <td>104</td>\n",
       "      <td>108</td>\n",
       "      <td>97.0</td>\n",
       "      <td>116</td>\n",
       "      <td>1957.0</td>\n",
       "      <td>0.195876</td>\n",
       "      <td>104</td>\n",
       "      <td>108</td>\n",
       "      <td>4</td>\n",
       "    </tr>\n",
       "    <tr>\n",
       "      <th>1</th>\n",
       "      <td>-103</td>\n",
       "      <td>108</td>\n",
       "      <td>124</td>\n",
       "      <td>116.0</td>\n",
       "      <td>94</td>\n",
       "      <td>2266.0</td>\n",
       "      <td>0.189655</td>\n",
       "      <td>108</td>\n",
       "      <td>124</td>\n",
       "      <td>16</td>\n",
       "    </tr>\n",
       "  </tbody>\n",
       "</table>\n",
       "</div>"
      ],
      "text/plain": [
       "   Size  EntryBar  ExitBar  EntryPrice  ExitPrice     PnL  ReturnPct  \\\n",
       "0   103       104      108        97.0        116  1957.0   0.195876   \n",
       "1  -103       108      124       116.0         94  2266.0   0.189655   \n",
       "\n",
       "   EntryTime  ExitTime  Duration  \n",
       "0        104       108         4  \n",
       "1        108       124        16  "
      ]
     },
     "execution_count": 28,
     "metadata": {},
     "output_type": "execute_result"
    }
   ],
   "source": [
    "res['_trades']"
   ]
  },
  {
   "cell_type": "code",
   "execution_count": 29,
   "id": "16a0bdc7",
   "metadata": {},
   "outputs": [
    {
     "data": {
      "text/html": [
       "<div>\n",
       "<style scoped>\n",
       "    .dataframe tbody tr th:only-of-type {\n",
       "        vertical-align: middle;\n",
       "    }\n",
       "\n",
       "    .dataframe tbody tr th {\n",
       "        vertical-align: top;\n",
       "    }\n",
       "\n",
       "    .dataframe thead th {\n",
       "        text-align: right;\n",
       "    }\n",
       "</style>\n",
       "<table border=\"1\" class=\"dataframe\">\n",
       "  <thead>\n",
       "    <tr style=\"text-align: right;\">\n",
       "      <th></th>\n",
       "      <th>Equity</th>\n",
       "      <th>DrawdownPct</th>\n",
       "      <th>DrawdownDuration</th>\n",
       "    </tr>\n",
       "  </thead>\n",
       "  <tbody>\n",
       "    <tr>\n",
       "      <th>0</th>\n",
       "      <td>10000.0</td>\n",
       "      <td>0.000000</td>\n",
       "      <td>NaN</td>\n",
       "    </tr>\n",
       "    <tr>\n",
       "      <th>1</th>\n",
       "      <td>10000.0</td>\n",
       "      <td>0.000000</td>\n",
       "      <td>NaN</td>\n",
       "    </tr>\n",
       "    <tr>\n",
       "      <th>2</th>\n",
       "      <td>10000.0</td>\n",
       "      <td>0.000000</td>\n",
       "      <td>NaN</td>\n",
       "    </tr>\n",
       "    <tr>\n",
       "      <th>3</th>\n",
       "      <td>10000.0</td>\n",
       "      <td>0.000000</td>\n",
       "      <td>NaN</td>\n",
       "    </tr>\n",
       "    <tr>\n",
       "      <th>4</th>\n",
       "      <td>10000.0</td>\n",
       "      <td>0.000000</td>\n",
       "      <td>NaN</td>\n",
       "    </tr>\n",
       "    <tr>\n",
       "      <th>...</th>\n",
       "      <td>...</td>\n",
       "      <td>...</td>\n",
       "      <td>...</td>\n",
       "    </tr>\n",
       "    <tr>\n",
       "      <th>120</th>\n",
       "      <td>13193.0</td>\n",
       "      <td>0.051818</td>\n",
       "      <td>NaN</td>\n",
       "    </tr>\n",
       "    <tr>\n",
       "      <th>121</th>\n",
       "      <td>12472.0</td>\n",
       "      <td>0.103637</td>\n",
       "      <td>NaN</td>\n",
       "    </tr>\n",
       "    <tr>\n",
       "      <th>122</th>\n",
       "      <td>12472.0</td>\n",
       "      <td>0.103637</td>\n",
       "      <td>NaN</td>\n",
       "    </tr>\n",
       "    <tr>\n",
       "      <th>123</th>\n",
       "      <td>12575.0</td>\n",
       "      <td>0.096234</td>\n",
       "      <td>NaN</td>\n",
       "    </tr>\n",
       "    <tr>\n",
       "      <th>124</th>\n",
       "      <td>14223.0</td>\n",
       "      <td>0.000000</td>\n",
       "      <td>7.0</td>\n",
       "    </tr>\n",
       "  </tbody>\n",
       "</table>\n",
       "<p>125 rows × 3 columns</p>\n",
       "</div>"
      ],
      "text/plain": [
       "      Equity  DrawdownPct  DrawdownDuration\n",
       "0    10000.0     0.000000               NaN\n",
       "1    10000.0     0.000000               NaN\n",
       "2    10000.0     0.000000               NaN\n",
       "3    10000.0     0.000000               NaN\n",
       "4    10000.0     0.000000               NaN\n",
       "..       ...          ...               ...\n",
       "120  13193.0     0.051818               NaN\n",
       "121  12472.0     0.103637               NaN\n",
       "122  12472.0     0.103637               NaN\n",
       "123  12575.0     0.096234               NaN\n",
       "124  14223.0     0.000000               7.0\n",
       "\n",
       "[125 rows x 3 columns]"
      ]
     },
     "execution_count": 29,
     "metadata": {},
     "output_type": "execute_result"
    }
   ],
   "source": [
    "res['_equity_curve']"
   ]
  },
  {
   "cell_type": "code",
   "execution_count": null,
   "id": "4496b7cf",
   "metadata": {},
   "outputs": [],
   "source": []
  }
 ],
 "metadata": {
  "kernelspec": {
   "display_name": "Python 3 (ipykernel)",
   "language": "python",
   "name": "python3"
  },
  "language_info": {
   "codemirror_mode": {
    "name": "ipython",
    "version": 3
   },
   "file_extension": ".py",
   "mimetype": "text/x-python",
   "name": "python",
   "nbconvert_exporter": "python",
   "pygments_lexer": "ipython3",
   "version": "3.9.12"
  }
 },
 "nbformat": 4,
 "nbformat_minor": 5
}
