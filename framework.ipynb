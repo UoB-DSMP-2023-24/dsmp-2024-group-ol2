{
 "cells": [
  {
   "cell_type": "code",
   "execution_count": 94,
   "metadata": {},
   "outputs": [],
   "source": [
    "import numpy as np\n",
    "import pandas as pd\n",
    "from sklearn.model_selection import train_test_split, cross_val_score\n",
    "from sklearn.metrics import mean_squared_error, r2_score\n",
    "from sklearn.pipeline import Pipeline\n",
    "from sklearn.preprocessing import StandardScaler\n",
    "from sklearn.model_selection import GridSearchCV\n",
    "\n",
    "# import speicidfic models here\n",
    "from sklearn.svm import SVC\n",
    "from sklearn.ensemble import RandomForestRegressor\n",
    "from sklearn.linear_model import LinearRegression\n",
    "\n",
    "import shap\n"
   ]
  },
  {
   "cell_type": "code",
   "execution_count": 95,
   "metadata": {},
   "outputs": [],
   "source": [
    "target_column  = 'Mid_Price_Future'"
   ]
  },
  {
   "cell_type": "code",
   "execution_count": 96,
   "metadata": {},
   "outputs": [],
   "source": [
    "# load your dataset\n",
    "def load_data():\n",
    "    df = pd.read_csv('data/lob/full_lob_head.csv', index_col=0)\n",
    "    return df"
   ]
  },
  {
   "cell_type": "code",
   "execution_count": 97,
   "metadata": {},
   "outputs": [],
   "source": [
    "# preprocessing steps\n",
    "def preprocess_data(df):\n",
    "    # Ensure 'Timestamp' is treated as a number\n",
    "    df['Timestamp'] = pd.to_numeric(df['Timestamp'])\n",
    "    # Sort the DataFrame by date and Timestamp to ensure it's in chronological order\n",
    "    df.sort_values(by=['Date','Timestamp'], inplace=True)\n",
    "    \n",
    "    # Pivot the 'Order Type' column\n",
    "    df = df.pivot_table(index=['Timestamp', 'Exchange', 'Date'], \n",
    "                            columns='Order Type', \n",
    "                            values=['Price', 'Quantity'])  # You can change 'mean' to another aggregation function if needed\n",
    "\n",
    "    # The resulting 'pivot_df' will have multi-level column headers ('Price' and 'Quantity' under 'Ask' and 'Bid')\n",
    "    # Flatten the multi-level column headers\n",
    "    df.columns = [' '.join(col).strip() for col in df.columns.values]\n",
    "\n",
    "    # Step 1 & 2: Feature Engineering - Calculate mid-price and create lag features\n",
    "    df['Mid_Price'] = (df['Price Ask'] + df['Price Bid']) / 2\n",
    "    df['Mid_Price_Future'] = df['Mid_Price'].shift(-1)  # Future mid-price as target\n",
    "    df = df.dropna()  # Drop rows with NaN values created by shifting\n",
    "\n",
    "    X = df.drop(columns=[target_column])\n",
    "    y = df[target_column]\n",
    "    \n",
    "    # Split data into train and test sets\n",
    "    X_train, X_test, y_train, y_test = train_test_split(X, y, test_size=0.2, random_state=42)\n",
    "    \n",
    "    return X_train, X_test, y_train, y_test"
   ]
  },
  {
   "cell_type": "code",
   "execution_count": 98,
   "metadata": {},
   "outputs": [],
   "source": [
    "# model pipeline\n",
    "def test_model(model, X_train, X_test, y_train, y_test):\n",
    "    # Define pipeline steps\n",
    "    steps = [\n",
    "        ('scaler', StandardScaler()),  # Feature scaling\n",
    "        ('model', model)  # Classifier/regressor model\n",
    "    ]\n",
    "    \n",
    "    # Create pipeline\n",
    "    pipeline = Pipeline(steps)\n",
    "    \n",
    "    # Train the model\n",
    "    pipeline.fit(X_train, y_train)\n",
    "    \n",
    "    # Predict on the test set\n",
    "    y_pred = pipeline.predict(X_test)\n",
    "    \n",
    "    # Evaluate model performance\n",
    "    # Calculate Mean Squared Error\n",
    "    mse = mean_squared_error(y_test, y_pred)\n",
    "    print(f'Mean Squared Error: {mse}')\n",
    "    # Calculate R^2 Score\n",
    "    r2 = r2_score(y_test, y_pred)\n",
    "    print(f'R^2 Score: {r2}')\n",
    "\n",
    "    # # Create an explainer object\n",
    "    # explainer = shap.Explainer(model)\n",
    "\n",
    "    # # Calculate SHAP values\n",
    "    # shap_values = explainer.shap_values(X_train)\n",
    "\n",
    "    # # Plot the SHAP summary plot\n",
    "    # shap.summary_plot(shap_values, X_train)\n",
    "    \n",
    "    # Additional evaluation metrics or visualizations can be added here\n",
    "    \n",
    "    # Return the trained pipeline\n",
    "    return pipeline"
   ]
  },
  {
   "cell_type": "code",
   "execution_count": 99,
   "metadata": {},
   "outputs": [],
   "source": [
    "# Main function to run the pipeline\n",
    "def main():\n",
    "    # load data\n",
    "    data = load_data()\n",
    "    # preprocess data\n",
    "    X_train, X_test, y_train, y_test = preprocess_data(data)\n",
    "    \n",
    "    models = {\n",
    "        # models go here\n",
    "        # \"Support Vector Machine\": SVC(),\n",
    "        # \"Linear Regression\": LinearRegression(),\n",
    "        \"Random Forest\": RandomForestRegressor(n_estimators=100, random_state=42)\n",
    "    }\n",
    "    \n",
    "    # model testing\n",
    "    for name, model in models.items():\n",
    "        print(\"\\nTesting\", name)\n",
    "        pipeline = test_model(model, X_train, X_test, y_train, y_test)\n",
    "        \n",
    "        # todo: Perform cross-validation\n",
    "        # cv_scores = cross_val_score(pipeline, X_train, y_train, cv=5)\n",
    "        # print(\"Cross-validation scores:\", cv_scores)\n",
    "        \n",
    "        # todo: Hyperparameter tuning using GridSearchCV\n",
    "        # param_grid = {...}\n",
    "        # grid_search = GridSearchCV(pipeline, param_grid, cv=5)\n",
    "        # grid_search.fit(X_train, y_train)\n",
    "        # best_params = grid_search.best_params_\n",
    "        # print(\"Best hyperparameters:\", best_params)\n",
    "        \n",
    "        # todo: Save the best model\n",
    "        # best_model = grid_search.best_estimator_\n",
    "        # Save the best_model for future use"
   ]
  },
  {
   "cell_type": "code",
   "execution_count": 100,
   "metadata": {},
   "outputs": [
    {
     "name": "stdout",
     "output_type": "stream",
     "text": [
      "\n",
      "Testing Random Forest\n",
      "Mean Squared Error: 148.22240561909663\n",
      "R^2 Score: 0.8679390334206767\n"
     ]
    }
   ],
   "source": [
    "main()"
   ]
  }
 ],
 "metadata": {
  "kernelspec": {
   "display_name": "Python 3",
   "language": "python",
   "name": "python3"
  },
  "language_info": {
   "codemirror_mode": {
    "name": "ipython",
    "version": 3
   },
   "file_extension": ".py",
   "mimetype": "text/x-python",
   "name": "python",
   "nbconvert_exporter": "python",
   "pygments_lexer": "ipython3",
   "version": "3.12.2"
  }
 },
 "nbformat": 4,
 "nbformat_minor": 2
}
