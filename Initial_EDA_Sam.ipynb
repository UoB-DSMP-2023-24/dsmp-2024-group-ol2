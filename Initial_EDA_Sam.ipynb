{
 "cells": [
  {
   "cell_type": "markdown",
   "id": "502a96e8",
   "metadata": {},
   "source": [
    "## LOB EDA"
   ]
  },
  {
   "cell_type": "markdown",
   "id": "0201a30e",
   "metadata": {},
   "source": [
    "__Initial Plan__\n",
    "- Load data & initial look at structure/ size ✅\n",
    "- Assess data types ✅\n",
    "- Handle nulls ✅\n",
    "- Descriptive stats 🟡\n",
    "  - uni/multivariate non/graphical? what is useful to explore\n",
    "- Outliers\n",
    "- Financial technical indicators\n",
    "  - spread\n",
    "  - trend\n",
    "  - momentum\n",
    "  - volatility\n",
    "  - volume\n",
    "  - ratios\n",
    "  - depth\n",
    "\n",
    "_N.B- Normalisation will be performed post feature creation to ensure downstream generalisation_"
   ]
  },
  {
   "cell_type": "markdown",
   "id": "a596858f",
   "metadata": {},
   "source": [
    "__Load Data__"
   ]
  },
  {
   "cell_type": "code",
   "execution_count": 2,
   "id": "72e33b78",
   "metadata": {},
   "outputs": [],
   "source": [
    "#import required libraries\n",
    "import pandas as pd"
   ]
  },
  {
   "cell_type": "code",
   "execution_count": 3,
   "id": "58716d36",
   "metadata": {},
   "outputs": [],
   "source": [
    "#load sample csv\n",
    "lob = pd.read_csv('EDA_lob_output_data_sample.csv')"
   ]
  },
  {
   "cell_type": "code",
   "execution_count": 6,
   "id": "e300c544",
   "metadata": {},
   "outputs": [
    {
     "data": {
      "text/plain": [
       "(1037934, 6)"
      ]
     },
     "execution_count": 6,
     "metadata": {},
     "output_type": "execute_result"
    }
   ],
   "source": [
    "#dataset dimensions\n",
    "lob.shape"
   ]
  },
  {
   "cell_type": "code",
   "execution_count": 7,
   "id": "f61a7870",
   "metadata": {},
   "outputs": [
    {
     "name": "stdout",
     "output_type": "stream",
     "text": [
      "<class 'pandas.core.frame.DataFrame'>\n",
      "RangeIndex: 1037934 entries, 0 to 1037933\n",
      "Data columns (total 6 columns):\n",
      " #   Column     Non-Null Count    Dtype  \n",
      "---  ------     --------------    -----  \n",
      " 0   Timestamp  1037934 non-null  float64\n",
      " 1   Exchange   1037934 non-null  object \n",
      " 2   Bid        1037934 non-null  object \n",
      " 3   Ask        1037934 non-null  object \n",
      " 4   Date       1037934 non-null  object \n",
      " 5   Mid_Price  1037853 non-null  float64\n",
      "dtypes: float64(2), object(4)\n",
      "memory usage: 47.5+ MB\n"
     ]
    }
   ],
   "source": [
    "#dataset info\n",
    "lob.info()"
   ]
  },
  {
   "cell_type": "code",
   "execution_count": 9,
   "id": "ede30b96",
   "metadata": {},
   "outputs": [
    {
     "data": {
      "text/html": [
       "<div>\n",
       "<style scoped>\n",
       "    .dataframe tbody tr th:only-of-type {\n",
       "        vertical-align: middle;\n",
       "    }\n",
       "\n",
       "    .dataframe tbody tr th {\n",
       "        vertical-align: top;\n",
       "    }\n",
       "\n",
       "    .dataframe thead th {\n",
       "        text-align: right;\n",
       "    }\n",
       "</style>\n",
       "<table border=\"1\" class=\"dataframe\">\n",
       "  <thead>\n",
       "    <tr style=\"text-align: right;\">\n",
       "      <th></th>\n",
       "      <th>Timestamp</th>\n",
       "      <th>Exchange</th>\n",
       "      <th>Bid</th>\n",
       "      <th>Ask</th>\n",
       "      <th>Date</th>\n",
       "      <th>Mid_Price</th>\n",
       "    </tr>\n",
       "  </thead>\n",
       "  <tbody>\n",
       "    <tr>\n",
       "      <th>0</th>\n",
       "      <td>0.000</td>\n",
       "      <td>Exch0</td>\n",
       "      <td>[]</td>\n",
       "      <td>[]</td>\n",
       "      <td>2025-01-02</td>\n",
       "      <td>NaN</td>\n",
       "    </tr>\n",
       "    <tr>\n",
       "      <th>1</th>\n",
       "      <td>0.279</td>\n",
       "      <td>Exch0</td>\n",
       "      <td>[[1, 6]]</td>\n",
       "      <td>[]</td>\n",
       "      <td>2025-01-02</td>\n",
       "      <td>NaN</td>\n",
       "    </tr>\n",
       "    <tr>\n",
       "      <th>2</th>\n",
       "      <td>1.333</td>\n",
       "      <td>Exch0</td>\n",
       "      <td>[[1, 6]]</td>\n",
       "      <td>[[800, 1]]</td>\n",
       "      <td>2025-01-02</td>\n",
       "      <td>400.5</td>\n",
       "    </tr>\n",
       "    <tr>\n",
       "      <th>3</th>\n",
       "      <td>1.581</td>\n",
       "      <td>Exch0</td>\n",
       "      <td>[[1, 6]]</td>\n",
       "      <td>[[799, 1]]</td>\n",
       "      <td>2025-01-02</td>\n",
       "      <td>400.0</td>\n",
       "    </tr>\n",
       "    <tr>\n",
       "      <th>4</th>\n",
       "      <td>1.643</td>\n",
       "      <td>Exch0</td>\n",
       "      <td>[[1, 6]]</td>\n",
       "      <td>[[798, 1]]</td>\n",
       "      <td>2025-01-02</td>\n",
       "      <td>399.5</td>\n",
       "    </tr>\n",
       "  </tbody>\n",
       "</table>\n",
       "</div>"
      ],
      "text/plain": [
       "   Timestamp Exchange       Bid         Ask        Date  Mid_Price\n",
       "0      0.000    Exch0        []          []  2025-01-02        NaN\n",
       "1      0.279    Exch0  [[1, 6]]          []  2025-01-02        NaN\n",
       "2      1.333    Exch0  [[1, 6]]  [[800, 1]]  2025-01-02      400.5\n",
       "3      1.581    Exch0  [[1, 6]]  [[799, 1]]  2025-01-02      400.0\n",
       "4      1.643    Exch0  [[1, 6]]  [[798, 1]]  2025-01-02      399.5"
      ]
     },
     "execution_count": 9,
     "metadata": {},
     "output_type": "execute_result"
    }
   ],
   "source": [
    "#visual look at first 5 rows\n",
    "lob.head()"
   ]
  },
  {
   "cell_type": "code",
   "execution_count": 11,
   "id": "5bb7c9ce",
   "metadata": {},
   "outputs": [],
   "source": [
    "#reorder cols\n",
    "order= ['Timestamp', 'Date', 'Bid', 'Ask', 'Mid_Price']\n",
    "lob =lob[order]"
   ]
  },
  {
   "cell_type": "markdown",
   "id": "4305d7ea",
   "metadata": {},
   "source": [
    "__Assess data types__"
   ]
  },
  {
   "cell_type": "code",
   "execution_count": 13,
   "id": "90c3032d",
   "metadata": {},
   "outputs": [],
   "source": [
    "#convert 'Date' to datetime\n",
    "lob['Date'] = pd.to_datetime(lob['Date'])\n",
    "\n",
    "#all other types fine but we might want to convert exchange to a category dtype- some benefit re memory/speed?"
   ]
  },
  {
   "cell_type": "code",
   "execution_count": 37,
   "id": "26aa6f4e",
   "metadata": {},
   "outputs": [
    {
     "name": "stdout",
     "output_type": "stream",
     "text": [
      "[<class 'str'>]\n",
      "[<class 'str'>]\n"
     ]
    }
   ],
   "source": [
    "#check if Bid/ Ask are actual lists\n",
    "print(lob['Bid'].apply(type).unique())\n",
    "print(lob['Ask'].apply(type).unique())"
   ]
  },
  {
   "cell_type": "code",
   "execution_count": 39,
   "id": "5d13c184",
   "metadata": {},
   "outputs": [],
   "source": [
    "#convert to lists\n",
    "#import required libraries\n",
    "import ast \n",
    "\n",
    "#convert\n",
    "lob['Bid'] = lob['Bid'].apply(ast.literal_eval)\n",
    "lob['Ask'] = lob['Ask'].apply(ast.literal_eval)"
   ]
  },
  {
   "cell_type": "code",
   "execution_count": 42,
   "id": "ea5b752a",
   "metadata": {},
   "outputs": [
    {
     "name": "stdout",
     "output_type": "stream",
     "text": [
      "[<class 'list'>]\n",
      "[<class 'list'>]\n"
     ]
    }
   ],
   "source": [
    "#check if Bid/ Ask are actual lists\n",
    "print(lob['Bid'].apply(type).unique())\n",
    "print(lob['Ask'].apply(type).unique())"
   ]
  },
  {
   "cell_type": "markdown",
   "id": "032a2312",
   "metadata": {},
   "source": [
    "__Handle nulls__"
   ]
  },
  {
   "cell_type": "code",
   "execution_count": 23,
   "id": "9a47c37f",
   "metadata": {},
   "outputs": [
    {
     "name": "stdout",
     "output_type": "stream",
     "text": [
      "Missing \"Mid_Price\" values: 81 (0.0001% of the sample)\n"
     ]
    }
   ],
   "source": [
    "#how many NaN/null in mid price?\n",
    "missing_mid_price_count = lob['Mid_Price'].isnull().sum()\n",
    "\n",
    "print(f'Missing \"Mid_Price\" values: {missing_mid_price_count} ({missing_mid_price_count/len(lob):.4f}% of the sample)')"
   ]
  },
  {
   "cell_type": "code",
   "execution_count": 24,
   "id": "d07379a9",
   "metadata": {},
   "outputs": [],
   "source": [
    "#drop missing rows as represents small % of sample (i)\n",
    "lob = lob.dropna(subset=['Mid_Price'])"
   ]
  },
  {
   "cell_type": "code",
   "execution_count": null,
   "id": "ff64f6d2",
   "metadata": {},
   "outputs": [],
   "source": [
    "#if large portion of whole dataset we should consider interpolation\n",
    "#lob['Mid_Price'].interpolate(method='linear', inplace=True)"
   ]
  },
  {
   "cell_type": "code",
   "execution_count": 46,
   "id": "b1a9e3bb",
   "metadata": {},
   "outputs": [
    {
     "name": "stdout",
     "output_type": "stream",
     "text": [
      "Missing \"Bid/Ask\" values: 0 (0.0000% of the sample)\n"
     ]
    }
   ],
   "source": [
    "#check for rows where both 'Bid' and 'Ask' are empty lists\n",
    "empty_bid_ask = lob.apply(lambda row: (not row['Bid']) and (not row['Ask']), axis=1)\n",
    "empty_bid_ask_count = empty_bid_ask.sum()\n",
    "\n",
    "print(f'Missing \"Bid/Ask\" values: {empty_bid_ask_count} ({empty_bid_ask_count/len(lob):.4f}% of the sample)')"
   ]
  },
  {
   "cell_type": "code",
   "execution_count": 47,
   "id": "cb664122",
   "metadata": {},
   "outputs": [
    {
     "name": "stdout",
     "output_type": "stream",
     "text": [
      "Missing \"Bid/Ask\" values: 0 (0.0000% of the sample)\n"
     ]
    }
   ],
   "source": [
    "#not sure why this isn't working- I can visually see an empty list in the top row yet can't identify it\n",
    "#Ah so empty containers doens't necessarily return as a null \n",
    "empty_bid_ask = lob.apply(lambda row: row['Bid'] == [] and row['Ask'] == [], axis=1)\n",
    "empty_bid_ask_count = empty_bid_ask.sum()\n",
    "\n",
    "print(f'Missing \"Bid/Ask\" values: {empty_bid_ask_count} ({empty_bid_ask_count/len(lob):.4f}% of the sample)')"
   ]
  },
  {
   "cell_type": "markdown",
   "id": "06fcfeee",
   "metadata": {},
   "source": [
    "Ok I think I actually removed these types when I removed the NaN for mid_price! panic over and also where Ask OR Bid is []"
   ]
  },
  {
   "cell_type": "code",
   "execution_count": 31,
   "id": "993afc1e",
   "metadata": {},
   "outputs": [],
   "source": [
    "#no missing Timestamp, Exhange or Date"
   ]
  },
  {
   "cell_type": "code",
   "execution_count": 49,
   "id": "d0a6e02a",
   "metadata": {},
   "outputs": [
    {
     "name": "stdout",
     "output_type": "stream",
     "text": [
      "<class 'pandas.core.frame.DataFrame'>\n",
      "Int64Index: 1037853 entries, 2 to 1037933\n",
      "Data columns (total 5 columns):\n",
      " #   Column     Non-Null Count    Dtype         \n",
      "---  ------     --------------    -----         \n",
      " 0   Timestamp  1037853 non-null  float64       \n",
      " 1   Date       1037853 non-null  datetime64[ns]\n",
      " 2   Bid        1037853 non-null  object        \n",
      " 3   Ask        1037853 non-null  object        \n",
      " 4   Mid_Price  1037853 non-null  float64       \n",
      "dtypes: datetime64[ns](1), float64(2), object(2)\n",
      "memory usage: 47.5+ MB\n"
     ]
    }
   ],
   "source": [
    "lob.info()"
   ]
  },
  {
   "cell_type": "markdown",
   "id": "ec716ad0",
   "metadata": {},
   "source": [
    "__Descriptive stats__"
   ]
  },
  {
   "cell_type": "markdown",
   "id": "12369e94",
   "metadata": {},
   "source": [
    "_Date_"
   ]
  },
  {
   "cell_type": "code",
   "execution_count": 58,
   "id": "7282508d",
   "metadata": {},
   "outputs": [
    {
     "name": "stdout",
     "output_type": "stream",
     "text": [
      "Date range- 2025-01-02 to 2025-01-06\n"
     ]
    }
   ],
   "source": [
    "#range\n",
    "date_min = lob['Date'].min()\n",
    "date_max = lob['Date'].max()\n",
    "\n",
    "print(f\"Date range- {date_min.date()} to {date_max.date()}\")"
   ]
  },
  {
   "cell_type": "code",
   "execution_count": 61,
   "id": "796ca573",
   "metadata": {},
   "outputs": [
    {
     "name": "stdout",
     "output_type": "stream",
     "text": [
      "Unique dates- 3\n"
     ]
    }
   ],
   "source": [
    "#how many unique dates\n",
    "unique_dates = lob['Date'].nunique()\n",
    "\n",
    "print(f\"Unique dates- {unique_dates}\") #will be small as sample"
   ]
  },
  {
   "cell_type": "code",
   "execution_count": 60,
   "id": "61a44bd7",
   "metadata": {},
   "outputs": [
    {
     "name": "stdout",
     "output_type": "stream",
     "text": [
      "Most common date- 2025-01-02 (Frequency- 352960)\n"
     ]
    }
   ],
   "source": [
    "#freq of dates \n",
    "date_counts = lob['Date'].value_counts()\n",
    "most_common_date = date_counts.idxmax()\n",
    "frequency_most_common_date = date_counts.max()\n",
    "\n",
    "print(f\"Most common date- {most_common_date.date()} (Frequency- {frequency_most_common_date})\")"
   ]
  },
  {
   "cell_type": "code",
   "execution_count": null,
   "id": "288cf04a",
   "metadata": {},
   "outputs": [],
   "source": []
  },
  {
   "cell_type": "code",
   "execution_count": null,
   "id": "d5e80cdf",
   "metadata": {},
   "outputs": [],
   "source": []
  },
  {
   "cell_type": "markdown",
   "id": "8214cda1",
   "metadata": {},
   "source": [
    "__Outliers__"
   ]
  },
  {
   "cell_type": "code",
   "execution_count": null,
   "id": "698f1ffb",
   "metadata": {},
   "outputs": [],
   "source": []
  },
  {
   "cell_type": "code",
   "execution_count": null,
   "id": "915f7df3",
   "metadata": {},
   "outputs": [],
   "source": []
  },
  {
   "cell_type": "markdown",
   "id": "05ecce0b",
   "metadata": {},
   "source": [
    "__Financial technical indicators__"
   ]
  },
  {
   "cell_type": "code",
   "execution_count": null,
   "id": "4cd837d0",
   "metadata": {},
   "outputs": [],
   "source": []
  },
  {
   "cell_type": "code",
   "execution_count": null,
   "id": "0d9f5289",
   "metadata": {},
   "outputs": [],
   "source": []
  }
 ],
 "metadata": {
  "kernelspec": {
   "display_name": "Python 3 (ipykernel)",
   "language": "python",
   "name": "python3"
  },
  "language_info": {
   "codemirror_mode": {
    "name": "ipython",
    "version": 3
   },
   "file_extension": ".py",
   "mimetype": "text/x-python",
   "name": "python",
   "nbconvert_exporter": "python",
   "pygments_lexer": "ipython3",
   "version": "3.9.12"
  }
 },
 "nbformat": 4,
 "nbformat_minor": 5
}
