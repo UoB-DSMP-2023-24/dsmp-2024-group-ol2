{
 "cells": [
  {
   "cell_type": "code",
   "execution_count": 11,
   "metadata": {},
   "outputs": [],
   "source": [
    "import numpy as np\n",
    "import random\n",
    "import xgboost as xgb"
   ]
  },
  {
   "cell_type": "code",
   "execution_count": 12,
   "metadata": {},
   "outputs": [],
   "source": [
    "# import the xgboost model\n",
    "model = xgb.Booster()\n",
    "model.load_model('models/baseline.xgb')\n"
   ]
  },
  {
   "cell_type": "code",
   "execution_count": 13,
   "metadata": {},
   "outputs": [],
   "source": [
    "def predict_movement(bid, ask):\n",
    "    dtest = xgb.DMatrix(np.array([[bid, ask]]))\n",
    "    prediction = model.predict(dtest)\n",
    "    return prediction[0]  # Probability of price going up\n"
   ]
  },
  {
   "cell_type": "code",
   "execution_count": 14,
   "metadata": {},
   "outputs": [],
   "source": [
    "def trade_simulation(strategy, data):\n",
    "    cash = 1000  # Starting cash\n",
    "    holdings = 0  # No holdings initially\n",
    "    transaction_cost = 0.01  # Cost per transaction as a percentage\n",
    "\n",
    "    for bid, ask in data:\n",
    "        prediction = predict_movement(bid, ask)\n",
    "        \n",
    "        if prediction > strategy[0] and cash > 0:  # Buy condition\n",
    "            holdings += (cash / ask) * (1 - transaction_cost)\n",
    "            cash = 0\n",
    "        elif prediction < strategy[1] and holdings > 0:  # Sell condition\n",
    "            cash += holdings * bid * (1 - transaction_cost)\n",
    "            holdings = 0\n",
    "\n",
    "    # Final asset conversion to cash\n",
    "    final_cash = cash + (holdings * bid if holdings > 0 else 0)\n",
    "    return final_cash - 1000  # profit or loss from initial cash"
   ]
  },
  {
   "cell_type": "code",
   "execution_count": 15,
   "metadata": {},
   "outputs": [],
   "source": [
    "import random\n",
    "from deap import base, creator, tools, algorithms\n",
    "\n",
    "creator.create(\"FitnessMax\", base.Fitness, weights=(1.0,))\n",
    "creator.create(\"Individual\", list, fitness=creator.FitnessMax)\n",
    "\n",
    "toolbox = base.Toolbox()\n",
    "toolbox.register(\"attribute\", random.uniform, 0, 1)\n",
    "toolbox.register(\"individual\", tools.initRepeat, creator.Individual, toolbox.attribute, n=2)\n",
    "toolbox.register(\"population\", tools.initRepeat, list, toolbox.individual)\n",
    "\n",
    "# toolbox.register(\"evaluate\", lambda ind: (trade_simulation(ind, market_data),))\n",
    "toolbox.register(\"mate\", tools.cxBlend, alpha=0.5)\n",
    "toolbox.register(\"mutate\", tools.mutGaussian, mu=0, sigma=0.1, indpb=0.2)\n",
    "toolbox.register(\"select\", tools.selTournament, tournsize=3)"
   ]
  }
 ],
 "metadata": {
  "kernelspec": {
   "display_name": "datasci",
   "language": "python",
   "name": "python3"
  },
  "language_info": {
   "codemirror_mode": {
    "name": "ipython",
    "version": 3
   },
   "file_extension": ".py",
   "mimetype": "text/x-python",
   "name": "python",
   "nbconvert_exporter": "python",
   "pygments_lexer": "ipython3",
   "version": "3.9.18"
  }
 },
 "nbformat": 4,
 "nbformat_minor": 2
}
