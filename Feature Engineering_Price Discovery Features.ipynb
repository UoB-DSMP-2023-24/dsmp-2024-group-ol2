{
 "cells": [
  {
   "cell_type": "markdown",
   "id": "30f4e29d",
   "metadata": {},
   "source": [
    "## Feature Engineering_Price Discovery Features"
   ]
  },
  {
   "cell_type": "markdown",
   "id": "9aee9bb2",
   "metadata": {},
   "source": [
    "## Features\n",
    "\n",
    "- Weighted Mid-Price by Order Imbalance\n",
    "- Volume Imbalance\n",
    "- Bid Ask Spread\n",
    "- Normalised Bid Ask Spread"
   ]
  },
  {
   "cell_type": "markdown",
   "id": "2f621aba",
   "metadata": {},
   "source": [
    "__Load data__"
   ]
  },
  {
   "cell_type": "markdown",
   "id": "cdf9fa00",
   "metadata": {},
   "source": [
    "__Data Source:__ lob_sample_data.parquet"
   ]
  },
  {
   "cell_type": "code",
   "execution_count": 1,
   "id": "552844ca",
   "metadata": {},
   "outputs": [],
   "source": [
    "import pandas as pd\n",
    "\n",
    "df = pd.read_parquet('lob_sample_data.parquet', engine='pyarrow')"
   ]
  },
  {
   "cell_type": "code",
   "execution_count": 2,
   "id": "4809e848",
   "metadata": {},
   "outputs": [
    {
     "data": {
      "text/html": [
       "<div>\n",
       "<style scoped>\n",
       "    .dataframe tbody tr th:only-of-type {\n",
       "        vertical-align: middle;\n",
       "    }\n",
       "\n",
       "    .dataframe tbody tr th {\n",
       "        vertical-align: top;\n",
       "    }\n",
       "\n",
       "    .dataframe thead th {\n",
       "        text-align: right;\n",
       "    }\n",
       "</style>\n",
       "<table border=\"1\" class=\"dataframe\">\n",
       "  <thead>\n",
       "    <tr style=\"text-align: right;\">\n",
       "      <th></th>\n",
       "      <th>Timestamp</th>\n",
       "      <th>Exchange</th>\n",
       "      <th>Bid</th>\n",
       "      <th>Ask</th>\n",
       "      <th>Date</th>\n",
       "      <th>Mid_Price</th>\n",
       "    </tr>\n",
       "  </thead>\n",
       "  <tbody>\n",
       "    <tr>\n",
       "      <th>0</th>\n",
       "      <td>0.000</td>\n",
       "      <td>Exch0</td>\n",
       "      <td>[]</td>\n",
       "      <td>[]</td>\n",
       "      <td>2025-01-02</td>\n",
       "      <td>NaN</td>\n",
       "    </tr>\n",
       "    <tr>\n",
       "      <th>1</th>\n",
       "      <td>0.279</td>\n",
       "      <td>Exch0</td>\n",
       "      <td>[[1, 6]]</td>\n",
       "      <td>[]</td>\n",
       "      <td>2025-01-02</td>\n",
       "      <td>NaN</td>\n",
       "    </tr>\n",
       "    <tr>\n",
       "      <th>2</th>\n",
       "      <td>1.333</td>\n",
       "      <td>Exch0</td>\n",
       "      <td>[[1, 6]]</td>\n",
       "      <td>[[800, 1]]</td>\n",
       "      <td>2025-01-02</td>\n",
       "      <td>400.5</td>\n",
       "    </tr>\n",
       "    <tr>\n",
       "      <th>3</th>\n",
       "      <td>1.581</td>\n",
       "      <td>Exch0</td>\n",
       "      <td>[[1, 6]]</td>\n",
       "      <td>[[799, 1]]</td>\n",
       "      <td>2025-01-02</td>\n",
       "      <td>400.0</td>\n",
       "    </tr>\n",
       "    <tr>\n",
       "      <th>4</th>\n",
       "      <td>1.643</td>\n",
       "      <td>Exch0</td>\n",
       "      <td>[[1, 6]]</td>\n",
       "      <td>[[798, 1]]</td>\n",
       "      <td>2025-01-02</td>\n",
       "      <td>399.5</td>\n",
       "    </tr>\n",
       "  </tbody>\n",
       "</table>\n",
       "</div>"
      ],
      "text/plain": [
       "   Timestamp Exchange       Bid         Ask        Date  Mid_Price\n",
       "0      0.000    Exch0        []          []  2025-01-02        NaN\n",
       "1      0.279    Exch0  [[1, 6]]          []  2025-01-02        NaN\n",
       "2      1.333    Exch0  [[1, 6]]  [[800, 1]]  2025-01-02      400.5\n",
       "3      1.581    Exch0  [[1, 6]]  [[799, 1]]  2025-01-02      400.0\n",
       "4      1.643    Exch0  [[1, 6]]  [[798, 1]]  2025-01-02      399.5"
      ]
     },
     "execution_count": 2,
     "metadata": {},
     "output_type": "execute_result"
    }
   ],
   "source": [
    "df.head()"
   ]
  },
  {
   "cell_type": "code",
   "execution_count": 3,
   "id": "032e5deb",
   "metadata": {},
   "outputs": [],
   "source": [
    "import ast\n",
    "\n",
    "#convert string to lists\n",
    "df['Bid'] = df['Bid'].apply(ast.literal_eval)\n",
    "df['Ask'] = df['Ask'].apply(ast.literal_eval)"
   ]
  },
  {
   "cell_type": "markdown",
   "id": "c0d27f49",
   "metadata": {},
   "source": [
    "__Weighted Mid-Price by Order Imbalance__"
   ]
  },
  {
   "cell_type": "markdown",
   "id": "f4eefb85",
   "metadata": {},
   "source": [
    "Given **Mid Price** ($M$) is already calculated, we calculate **Order Imbalance** ($I$) and the **Weighted Mid Price** ($M_W$) as follows:\n",
    "\n",
    "**Order Imbalance**\n",
    "With $V_B$ representing the volume of the best bid and $V_A$ representing the volume of the best ask, the order imbalance ($I$) is calculated by the formula:\n",
    "\n",
    "$$ I = \\frac{V_B - V_A}{V_B + V_A} $$\n",
    "\n",
    "**Weighted Mid Price by Order Imbalance**\n",
    "We adjust the mid price based on the order imbalance using the formula:\n",
    "\n",
    "$$ M_W = M \\times (1 + k \\times I) $$\n",
    "\n",
    "Here, $k$ is a scaling factor that modulates the effect of the order imbalance on the mid price. This factor can be empirically determined to best reflect the impact of order volume differences on the price.\n",
    "\n",
    "This approach allows us to adjust the given mid price considering the balance or imbalance between buy and sell orders, reflecting a more nuanced market value."
   ]
  },
  {
   "cell_type": "code",
   "execution_count": 5,
   "id": "c681ef4d",
   "metadata": {},
   "outputs": [],
   "source": [
    "#first we need to empirically define k\n",
    "import numpy as np\n",
    "\n",
    "#future mid-price \n",
    "df['Mid_Price_Future'] = df['Mid_Price'].shift(-1) \n",
    "\n",
    "#calc price change\n",
    "df['Price_Change'] = df['Mid_Price_Future'] - df['Mid_Price']\n",
    "\n",
    "def calculate_order_imbalance(row):\n",
    "    if row['Bid'] and row['Ask']:\n",
    "        volume_bid = sum([bid[1] for bid in row['Bid']])\n",
    "        volume_ask = sum([ask[1] for ask in row['Ask']])\n",
    "        return (volume_bid - volume_ask) / (volume_bid + volume_ask)\n",
    "    return np.nan\n",
    "\n",
    "#calc order imbalance for each row\n",
    "df['Order_Imbalance'] = df.apply(calculate_order_imbalance, axis=1)           "
   ]
  },
  {
   "cell_type": "code",
   "execution_count": 6,
   "id": "df1e3d72",
   "metadata": {},
   "outputs": [
    {
     "name": "stdout",
     "output_type": "stream",
     "text": [
      "Derived k value: -0.10710202645698139\n"
     ]
    }
   ],
   "source": [
    "#use regression to get value for k\n",
    "\n",
    "from sklearn.linear_model import LinearRegression\n",
    "import numpy as np\n",
    "\n",
    "#filter out nan\n",
    "filtered_df = df.dropna(subset=['Order_Imbalance', 'Price_Change'])\n",
    "\n",
    "X = filtered_df[['Order_Imbalance']].values.reshape(-1, 1)\n",
    "y = filtered_df['Price_Change'].values\n",
    "\n",
    "#fit linear regression model\n",
    "model = LinearRegression()\n",
    "model.fit(X, y)\n",
    "\n",
    "#coefficient of 'Order_Imbalance' as 'k'\n",
    "k = model.coef_[0]\n",
    "\n",
    "print(f\"Derived k value: {k}\")"
   ]
  },
  {
   "cell_type": "code",
   "execution_count": 7,
   "id": "cf59f421",
   "metadata": {},
   "outputs": [],
   "source": [
    "#calc weighted mid price col\n",
    "import pandas as pd\n",
    "\n",
    "def calculate_weighted_mid_price(row, k):\n",
    "    #check if nan\n",
    "    if pd.isna(row['Mid_Price']):\n",
    "        return row['Mid_Price']  #return original if nan\n",
    "    \n",
    "    imbalance = row['Order_Imbalance']\n",
    "    \n",
    "    #adjust mid price based on imbalance\n",
    "    weighted_mid_price = row['Mid_Price'] * (1 + k * imbalance)\n",
    "    \n",
    "    return weighted_mid_price\n",
    "\n",
    "#apply\n",
    "df['Weighted_Mid_Price'] = df.apply(calculate_weighted_mid_price, k=k, axis=1)"
   ]
  },
  {
   "cell_type": "markdown",
   "id": "44d272a4",
   "metadata": {},
   "source": [
    "__Volume Imbalance__"
   ]
  },
  {
   "cell_type": "markdown",
   "id": "bef429b9",
   "metadata": {},
   "source": [
    "Volume Imbalance is a metric used to assess the balance between supply and demand in a market at any given time, based on order book data. It compares the total volume of buy orders (bids) to the total volume of sell orders (asks), providing insight into potential price movements.\n",
    "\n",
    "**Formula**\n",
    "\n",
    "The Volume Imbalance ($VI$) is calculated using the formula:\n",
    "\n",
    "$$ VI = \\frac{V_{\\text{bids}} - V_{\\text{asks}}}{V_{\\text{bids}} + V_{\\text{asks}}} $$\n",
    "\n",
    "where:\n",
    "- $V_{\\text{bids}}$ is the total volume of all bid orders.\n",
    "- $V_{\\text{asks}}$ is the total volume of all ask orders.\n",
    "\n",
    "**Interpretation**\n",
    "\n",
    "- $VI$ ranges from -1 to 1.\n",
    "- A $VI$ closer to 1 indicates a higher volume of bids relative to asks, suggesting upward pressure on price.\n",
    "- A $VI$ closer to -1 indicates a higher volume of asks relative to bids, suggesting downward pressure on price.\n",
    "- A $VI$ around 0 indicates a balance between bid and ask volumes, suggesting a stable market condition without clear directional pressure on price."
   ]
  },
  {
   "cell_type": "code",
   "execution_count": 10,
   "id": "c11f4e4b",
   "metadata": {},
   "outputs": [],
   "source": [
    "def calculate_volume_imbalance(row):\n",
    "    #calculate total bid volume\n",
    "    total_bid_volume = sum([volume for _, volume in row['Bid']])\n",
    "    \n",
    "    #calculate total ask volume\n",
    "    total_ask_volume = sum([volume for _, volume in row['Ask']])\n",
    "    \n",
    "    #error handling (div by 0)\n",
    "    total_volume = total_bid_volume + total_ask_volume\n",
    "    if total_volume == 0:\n",
    "        return 0  #return 0 imbalance when there are no bids or asks\n",
    "    \n",
    "    #calculate volume imbalance\n",
    "    volume_imbalance = (total_bid_volume - total_ask_volume) / total_volume\n",
    "    return volume_imbalance\n",
    "\n",
    "#apply\n",
    "df['Volume_Imbalance'] = df.apply(calculate_volume_imbalance, axis=1)"
   ]
  },
  {
   "cell_type": "markdown",
   "id": "e0515db3",
   "metadata": {},
   "source": [
    "__Bid Ask Spread__"
   ]
  },
  {
   "cell_type": "markdown",
   "id": "4eef6cc6",
   "metadata": {},
   "source": [
    "Bid-ask spread represents the difference between the highest price buyers are willing to pay (**bid price**) and the lowest price sellers are willing to accept (**ask price**). We can use it as a key indicator of market liquidity and efficiency.\n",
    "\n",
    "We calculate it by:\n",
    "\n",
    "$$ \\text{Bid-Ask Spread} = \\text{Ask Price} - \\text{Bid Price} $$\n",
    "\n",
    "where:\n",
    "- $\\text{Ask Price}$ is the lowest price a seller is willing to accept.\n",
    "- $\\text{Bid Price}$ is the highest price a buyer is willing to pay.\n",
    "\n",
    "\n",
    "A narrower (lower) spread often indicates a more liquid market, where transactions can occur more easily at prices close to the market's consensus value. A wider (higher) spread suggests lower liquidity, higher transaction costs, and potentially more volatility."
   ]
  },
  {
   "cell_type": "code",
   "execution_count": 11,
   "id": "34a90995",
   "metadata": {},
   "outputs": [],
   "source": [
    "def calculate_bid_ask_spread(row):\n",
    "    if not row['Bid'] or not row['Ask']:  #check if either list is empty\n",
    "        return None \n",
    "    \n",
    "    #extract highest bid price and lowest ask price\n",
    "    highest_bid_price = row['Bid'][0][0]  #assuming first entry is the highest bid\n",
    "    lowest_ask_price = row['Ask'][0][0]  #assuming first entry is the lowest ask\n",
    "    \n",
    "    #calculate the spread\n",
    "    bid_ask_spread = lowest_ask_price - highest_bid_price\n",
    "    return bid_ask_spread\n",
    "\n",
    "#apply\n",
    "df['Bid_Ask_Spread'] = df.apply(calculate_bid_ask_spread, axis=1)"
   ]
  },
  {
   "cell_type": "markdown",
   "id": "3eeba7ef",
   "metadata": {},
   "source": [
    "__Normalised Bid Ask Spread__"
   ]
  },
  {
   "cell_type": "code",
   "execution_count": 13,
   "id": "a6c92057",
   "metadata": {},
   "outputs": [],
   "source": [
    "#really need to remove outliers first here- this is very likely to skew otherwise\n",
    "#normalise- scaling data to range between 0 and 1\n",
    "from sklearn.preprocessing import MinMaxScaler\n",
    "\n",
    "#initialise scaler\n",
    "scaler = MinMaxScaler()\n",
    "\n",
    "df['Normalised_Bid_Ask_Spread'] = scaler.fit_transform(df[['Bid_Ask_Spread']])"
   ]
  }
 ],
 "metadata": {
  "kernelspec": {
   "display_name": "Python 3 (ipykernel)",
   "language": "python",
   "name": "python3"
  },
  "language_info": {
   "codemirror_mode": {
    "name": "ipython",
    "version": 3
   },
   "file_extension": ".py",
   "mimetype": "text/x-python",
   "name": "python",
   "nbconvert_exporter": "python",
   "pygments_lexer": "ipython3",
   "version": "3.9.12"
  }
 },
 "nbformat": 4,
 "nbformat_minor": 5
}
