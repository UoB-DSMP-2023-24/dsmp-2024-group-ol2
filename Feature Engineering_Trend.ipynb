{
 "cells": [
  {
   "cell_type": "markdown",
   "id": "59eaa565",
   "metadata": {},
   "source": [
    "## Feature Engineering_Trend"
   ]
  },
  {
   "cell_type": "markdown",
   "id": "f37d4d89",
   "metadata": {},
   "source": [
    "## Features\n",
    "\n",
    "- not going to include sma/ema here as they will be done as part of noise supression\n",
    "- trying to choose a blend of options that help us identify new trends, confirm existing trends and maybe suggest trend reversals.\n",
    "- Moving average convergence/divergence oscillator\n",
    "- Hull moving average \n",
    "- Keltner channels\n",
    "- Detrended price oscillator"
   ]
  },
  {
   "cell_type": "markdown",
   "id": "f397ee87",
   "metadata": {},
   "source": [
    "__Load data__"
   ]
  },
  {
   "cell_type": "markdown",
   "id": "2a8e3f74",
   "metadata": {},
   "source": [
    "__Data Source:__ lob_sample_data.parquet"
   ]
  },
  {
   "cell_type": "code",
   "execution_count": 1,
   "id": "fc01869d",
   "metadata": {},
   "outputs": [],
   "source": [
    "import pandas as pd\n",
    "\n",
    "df = pd.read_parquet('lob_sample_data.parquet', engine='pyarrow')"
   ]
  },
  {
   "cell_type": "code",
   "execution_count": 2,
   "id": "2817d962",
   "metadata": {},
   "outputs": [
    {
     "data": {
      "text/html": [
       "<div>\n",
       "<style scoped>\n",
       "    .dataframe tbody tr th:only-of-type {\n",
       "        vertical-align: middle;\n",
       "    }\n",
       "\n",
       "    .dataframe tbody tr th {\n",
       "        vertical-align: top;\n",
       "    }\n",
       "\n",
       "    .dataframe thead th {\n",
       "        text-align: right;\n",
       "    }\n",
       "</style>\n",
       "<table border=\"1\" class=\"dataframe\">\n",
       "  <thead>\n",
       "    <tr style=\"text-align: right;\">\n",
       "      <th></th>\n",
       "      <th>Timestamp</th>\n",
       "      <th>Exchange</th>\n",
       "      <th>Bid</th>\n",
       "      <th>Ask</th>\n",
       "      <th>Date</th>\n",
       "      <th>Mid_Price</th>\n",
       "    </tr>\n",
       "  </thead>\n",
       "  <tbody>\n",
       "    <tr>\n",
       "      <th>0</th>\n",
       "      <td>0.000</td>\n",
       "      <td>Exch0</td>\n",
       "      <td>[]</td>\n",
       "      <td>[]</td>\n",
       "      <td>2025-01-02</td>\n",
       "      <td>NaN</td>\n",
       "    </tr>\n",
       "    <tr>\n",
       "      <th>1</th>\n",
       "      <td>0.279</td>\n",
       "      <td>Exch0</td>\n",
       "      <td>[[1, 6]]</td>\n",
       "      <td>[]</td>\n",
       "      <td>2025-01-02</td>\n",
       "      <td>NaN</td>\n",
       "    </tr>\n",
       "    <tr>\n",
       "      <th>2</th>\n",
       "      <td>1.333</td>\n",
       "      <td>Exch0</td>\n",
       "      <td>[[1, 6]]</td>\n",
       "      <td>[[800, 1]]</td>\n",
       "      <td>2025-01-02</td>\n",
       "      <td>400.5</td>\n",
       "    </tr>\n",
       "    <tr>\n",
       "      <th>3</th>\n",
       "      <td>1.581</td>\n",
       "      <td>Exch0</td>\n",
       "      <td>[[1, 6]]</td>\n",
       "      <td>[[799, 1]]</td>\n",
       "      <td>2025-01-02</td>\n",
       "      <td>400.0</td>\n",
       "    </tr>\n",
       "    <tr>\n",
       "      <th>4</th>\n",
       "      <td>1.643</td>\n",
       "      <td>Exch0</td>\n",
       "      <td>[[1, 6]]</td>\n",
       "      <td>[[798, 1]]</td>\n",
       "      <td>2025-01-02</td>\n",
       "      <td>399.5</td>\n",
       "    </tr>\n",
       "  </tbody>\n",
       "</table>\n",
       "</div>"
      ],
      "text/plain": [
       "   Timestamp Exchange       Bid         Ask        Date  Mid_Price\n",
       "0      0.000    Exch0        []          []  2025-01-02        NaN\n",
       "1      0.279    Exch0  [[1, 6]]          []  2025-01-02        NaN\n",
       "2      1.333    Exch0  [[1, 6]]  [[800, 1]]  2025-01-02      400.5\n",
       "3      1.581    Exch0  [[1, 6]]  [[799, 1]]  2025-01-02      400.0\n",
       "4      1.643    Exch0  [[1, 6]]  [[798, 1]]  2025-01-02      399.5"
      ]
     },
     "execution_count": 2,
     "metadata": {},
     "output_type": "execute_result"
    }
   ],
   "source": [
    "df.head()"
   ]
  },
  {
   "cell_type": "code",
   "execution_count": 3,
   "id": "ce5ddfb5",
   "metadata": {},
   "outputs": [],
   "source": [
    "import ast\n",
    "\n",
    "#convert string to lists\n",
    "df['Bid'] = df['Bid'].apply(ast.literal_eval)\n",
    "df['Ask'] = df['Ask'].apply(ast.literal_eval)"
   ]
  },
  {
   "cell_type": "code",
   "execution_count": 4,
   "id": "cb6e6bbd",
   "metadata": {},
   "outputs": [],
   "source": [
    "#drop missing rows in mid price\n",
    "df = df.dropna(subset=['Mid_Price'])"
   ]
  },
  {
   "cell_type": "markdown",
   "id": "f94c536e",
   "metadata": {},
   "source": [
    "__Moving average convergence/divergence oscillator__"
   ]
  },
  {
   "cell_type": "markdown",
   "id": "e1d6a3b3",
   "metadata": {},
   "source": [
    "MACD is a trend-following momentum indicator that shows the relationship between two moving averages of a security’s price.\n",
    "\n",
    "$$\n",
    "\\text{MACD} = EMA_{12}(\\text{price}) - EMA_{26}(\\text{price})\n",
    "$$\n",
    "$$\n",
    "\\text{Signal Line} = EMA_{9}(\\text{MACD})\n",
    "$$\n",
    "\n",
    "where\n",
    "- $EMA_{12}$ and $EMA_{26}$ are the exponential moving averages for 12 and 26 periods, respectively.\n",
    "- The Signal Line is the exponential moving average of the MACD itself."
   ]
  },
  {
   "cell_type": "code",
   "execution_count": 5,
   "id": "f96092ac",
   "metadata": {},
   "outputs": [],
   "source": [
    "#calc macdd and signal\n",
    "\n",
    "#12 and 26 industry standards\n",
    "ema_12 = df['Mid_Price'].ewm(span=12, adjust=False).mean()\n",
    "ema_26 = df['Mid_Price'].ewm(span=26, adjust=False).mean()\n",
    "\n",
    "df['MACD'] = ema_12 - ema_26\n",
    "df['MACD_Signal'] = df['MACD'].ewm(span=9, adjust=False).mean()"
   ]
  },
  {
   "cell_type": "markdown",
   "id": "457fe7af",
   "metadata": {},
   "source": [
    "__Hull moving average__"
   ]
  },
  {
   "cell_type": "markdown",
   "id": "fdf587d9",
   "metadata": {},
   "source": [
    "Hull ma reduces the lag of traditional moving averages with improved smoothing and responsiveness.\n",
    "\n",
    "Calc a weighted moving average with period half the length of the Hull MA, then calculate a WMA for the full period of the Hull MA and subtract it from the first WMA calculation, and finally, calculate a WMA of the result with a period the square root of the Hull MA length.\n",
    "\n",
    "$$\n",
    "\\text{Hull MA} = WMA(2 * \\text{WMA}(n/2) - \\text{WMA}(n), \\sqrt{n})\n",
    "$$\n",
    "\n",
    "where\n",
    "- $WMA(n)$ is the weighted moving average over $n$ periods.\n",
    "- $\\sqrt{n}$ is the square root of the period $n$."
   ]
  },
  {
   "cell_type": "code",
   "execution_count": 7,
   "id": "16993776",
   "metadata": {},
   "outputs": [],
   "source": [
    "#calc\n",
    "import numpy as np\n",
    "\n",
    "hull_ma_period = int(np.sqrt(9)) #9 isn't industry standard just suggested starting point- may want to experiment here\n",
    "\n",
    "wma_9 = df['Mid_Price'].rolling(window=9).apply(lambda x: np.dot(x, np.arange(1, 10)) / np.sum(\n",
    "    np.arange(1, 10)), raw=True)\n",
    "\n",
    "df['Hull_MA'] = wma_9.rolling(window=hull_ma_period).mean()"
   ]
  },
  {
   "cell_type": "markdown",
   "id": "f93d0d1f",
   "metadata": {},
   "source": [
    "__Keltner channels__"
   ]
  },
  {
   "cell_type": "markdown",
   "id": "b7aa4eab",
   "metadata": {},
   "source": [
    "Keltner channels are volatility based envelopes set above and below an exponential moving average.\n",
    "\n",
    "$$\n",
    "\\text{Middle Line} = EMA_{20}(\\text{price})\n",
    "$$\n",
    "$$\n",
    "\\text{Upper Channel Line} = \\text{Middle Line} + 2 \\times ATR_{20}\n",
    "$$\n",
    "$$\n",
    "\\text{Lower Channel Line} = \\text{Middle Line} - 2 \\times ATR_{20}\n",
    "$$\n",
    "\n",
    "where\n",
    "- $EMA_{20}$ is the 20-period exponential moving average.\n",
    "- $ATR_{20}$ is the 20-period average true range.\n"
   ]
  },
  {
   "cell_type": "code",
   "execution_count": 9,
   "id": "07e90cf1",
   "metadata": {},
   "outputs": [],
   "source": [
    "#calc\n",
    "ema_20 = df['Mid_Price'].ewm(span=20, adjust=False).mean()\n",
    "\n",
    "atr = df['Mid_Price'].rolling(window=20).apply(lambda x: np.max(x) - np.min(x), raw=True)\n",
    "\n",
    "df['Keltner_Channel_Middle'] = ema_20\n",
    "df['Keltner_Channel_Upper'] = ema_20 + 2 * atr\n",
    "df['Keltner_Channel_Lower'] = ema_20 - 2 * atr"
   ]
  },
  {
   "cell_type": "markdown",
   "id": "71f414d2",
   "metadata": {},
   "source": [
    "__Detrended price oscillator__"
   ]
  },
  {
   "cell_type": "markdown",
   "id": "efeda2ba",
   "metadata": {},
   "source": [
    "Detrended price oscillator is an indicator designed to remove the trend from price and allow the measurement of the length and magnitude of price cycles from peak to peak or trough to trough.\n",
    "\n",
    "DPO is calculated by subtracting the displaced moving average from the price \\( \\frac{lookback\\ period}{2} + 1 \\) periods ago.\n",
    "\n",
    "$$\n",
    "\\text{DPO} = P_{t - \\left(\\frac{\\text{lookback period}}{2} + 1\\right)} - SMA_{t - \\left(\\frac{\\text{lookback period}}{2}\\right)}\n",
    "$$\n",
    "\n",
    "where\n",
    "- \\( P_{t} \\) is the price at time \\( t \\).\n",
    "- \\( SMA \\) is the simple moving average over the lookback period.\n",
    "- The lookback period is the number of periods used to calculate the SMA and displace it.\n",
    "\n",
    "By removing trends from the price data, the DPO helps to identify cycles and overbought or oversold conditions."
   ]
  },
  {
   "cell_type": "code",
   "execution_count": 10,
   "id": "da146b45",
   "metadata": {},
   "outputs": [],
   "source": [
    "#efine lookback period\n",
    "lookback_period = 20\n",
    "\n",
    "#calc sma\n",
    "df['SMA_20'] = df['Mid_Price'].rolling(window=lookback_period).mean() #may already have this from noise suppression?\n",
    "\n",
    "#calc detrended \n",
    "#shift sma backwards by (lookback_period / 2 + 1) periods\n",
    "df['DPO'] = df['Mid_Price'].shift(int(lookback_period / 2 + 1)) - df['SMA_20'].shift(int(lookback_period / 2))"
   ]
  },
  {
   "cell_type": "code",
   "execution_count": null,
   "id": "eae2754e",
   "metadata": {},
   "outputs": [],
   "source": []
  }
 ],
 "metadata": {
  "kernelspec": {
   "display_name": "Python 3 (ipykernel)",
   "language": "python",
   "name": "python3"
  },
  "language_info": {
   "codemirror_mode": {
    "name": "ipython",
    "version": 3
   },
   "file_extension": ".py",
   "mimetype": "text/x-python",
   "name": "python",
   "nbconvert_exporter": "python",
   "pygments_lexer": "ipython3",
   "version": "3.9.12"
  }
 },
 "nbformat": 4,
 "nbformat_minor": 5
}
