{
 "cells": [
  {
   "cell_type": "markdown",
   "id": "eca46c9f",
   "metadata": {},
   "source": [
    "# Initial EDA\n",
    "\n",
    "This Notebook outlines the initial EDA carried out on the LOB data. Initially the code has been written on a small sample of the full LOB dataset. To ensure no trends or outliers are missed this EDA will need to be run against the full dataset."
   ]
  },
  {
   "cell_type": "code",
   "execution_count": 1,
   "id": "ed20eca9-ba94-4440-928a-24029b76d7c5",
   "metadata": {},
   "outputs": [],
   "source": [
    "import pandas as pd\n"
   ]
  },
  {
   "cell_type": "code",
   "execution_count": 2,
   "id": "8a64b6c0",
   "metadata": {},
   "outputs": [],
   "source": [
    "# Read in sample data\n",
    "sample_csv = 'data/output/EDA_lob_output_data_sample.csv' # define path to sampel data\n",
    "\n",
    "lob_sample = pd.read_csv(sample_csv)"
   ]
  },
  {
   "cell_type": "code",
   "execution_count": 3,
   "id": "abc4d405",
   "metadata": {},
   "outputs": [
    {
     "data": {
      "text/html": [
       "<div>\n",
       "<style scoped>\n",
       "    .dataframe tbody tr th:only-of-type {\n",
       "        vertical-align: middle;\n",
       "    }\n",
       "\n",
       "    .dataframe tbody tr th {\n",
       "        vertical-align: top;\n",
       "    }\n",
       "\n",
       "    .dataframe thead th {\n",
       "        text-align: right;\n",
       "    }\n",
       "</style>\n",
       "<table border=\"1\" class=\"dataframe\">\n",
       "  <thead>\n",
       "    <tr style=\"text-align: right;\">\n",
       "      <th></th>\n",
       "      <th>Timestamp</th>\n",
       "      <th>Date</th>\n",
       "      <th>Exchange</th>\n",
       "      <th>Bid</th>\n",
       "      <th>Ask</th>\n",
       "      <th>Mid_Price</th>\n",
       "    </tr>\n",
       "  </thead>\n",
       "  <tbody>\n",
       "    <tr>\n",
       "      <th>0</th>\n",
       "      <td>0.000</td>\n",
       "      <td>2025-01-02</td>\n",
       "      <td>Exch0</td>\n",
       "      <td>[]</td>\n",
       "      <td>[]</td>\n",
       "      <td>NaN</td>\n",
       "    </tr>\n",
       "    <tr>\n",
       "      <th>1</th>\n",
       "      <td>0.279</td>\n",
       "      <td>2025-01-02</td>\n",
       "      <td>Exch0</td>\n",
       "      <td>[[1, 6]]</td>\n",
       "      <td>[]</td>\n",
       "      <td>NaN</td>\n",
       "    </tr>\n",
       "    <tr>\n",
       "      <th>2</th>\n",
       "      <td>1.333</td>\n",
       "      <td>2025-01-02</td>\n",
       "      <td>Exch0</td>\n",
       "      <td>[[1, 6]]</td>\n",
       "      <td>[[800, 1]]</td>\n",
       "      <td>400.5</td>\n",
       "    </tr>\n",
       "    <tr>\n",
       "      <th>3</th>\n",
       "      <td>1.581</td>\n",
       "      <td>2025-01-02</td>\n",
       "      <td>Exch0</td>\n",
       "      <td>[[1, 6]]</td>\n",
       "      <td>[[799, 1]]</td>\n",
       "      <td>400.0</td>\n",
       "    </tr>\n",
       "    <tr>\n",
       "      <th>4</th>\n",
       "      <td>1.643</td>\n",
       "      <td>2025-01-02</td>\n",
       "      <td>Exch0</td>\n",
       "      <td>[[1, 6]]</td>\n",
       "      <td>[[798, 1]]</td>\n",
       "      <td>399.5</td>\n",
       "    </tr>\n",
       "  </tbody>\n",
       "</table>\n",
       "</div>"
      ],
      "text/plain": [
       "   Timestamp        Date Exchange       Bid         Ask  Mid_Price\n",
       "0      0.000  2025-01-02    Exch0        []          []        NaN\n",
       "1      0.279  2025-01-02    Exch0  [[1, 6]]          []        NaN\n",
       "2      1.333  2025-01-02    Exch0  [[1, 6]]  [[800, 1]]      400.5\n",
       "3      1.581  2025-01-02    Exch0  [[1, 6]]  [[799, 1]]      400.0\n",
       "4      1.643  2025-01-02    Exch0  [[1, 6]]  [[798, 1]]      399.5"
      ]
     },
     "execution_count": 3,
     "metadata": {},
     "output_type": "execute_result"
    }
   ],
   "source": [
    "# Reorder columns - this makes data and timestamp easier to read\n",
    "desired_column_order = ['Timestamp', 'Date', 'Exchange', 'Bid', 'Ask', 'Mid_Price']\n",
    "lob_sample = lob_sample[desired_column_order]\n",
    "lob_sample.head()"
   ]
  },
  {
   "cell_type": "markdown",
   "id": "8fbbfff5",
   "metadata": {},
   "source": [
    "## Tick Time"
   ]
  },
  {
   "cell_type": "code",
   "execution_count": 4,
   "id": "867ba659",
   "metadata": {},
   "outputs": [
    {
     "data": {
      "text/html": [
       "<div>\n",
       "<style scoped>\n",
       "    .dataframe tbody tr th:only-of-type {\n",
       "        vertical-align: middle;\n",
       "    }\n",
       "\n",
       "    .dataframe tbody tr th {\n",
       "        vertical-align: top;\n",
       "    }\n",
       "\n",
       "    .dataframe thead th {\n",
       "        text-align: right;\n",
       "    }\n",
       "</style>\n",
       "<table border=\"1\" class=\"dataframe\">\n",
       "  <thead>\n",
       "    <tr style=\"text-align: right;\">\n",
       "      <th></th>\n",
       "      <th>Timestamp</th>\n",
       "      <th>Date</th>\n",
       "      <th>Exchange</th>\n",
       "      <th>Bid</th>\n",
       "      <th>Ask</th>\n",
       "      <th>Mid_Price</th>\n",
       "      <th>Tick_Time</th>\n",
       "    </tr>\n",
       "  </thead>\n",
       "  <tbody>\n",
       "    <tr>\n",
       "      <th>0</th>\n",
       "      <td>0.000</td>\n",
       "      <td>2025-01-02</td>\n",
       "      <td>Exch0</td>\n",
       "      <td>[]</td>\n",
       "      <td>[]</td>\n",
       "      <td>NaN</td>\n",
       "      <td>NaN</td>\n",
       "    </tr>\n",
       "    <tr>\n",
       "      <th>1</th>\n",
       "      <td>0.279</td>\n",
       "      <td>2025-01-02</td>\n",
       "      <td>Exch0</td>\n",
       "      <td>[[1, 6]]</td>\n",
       "      <td>[]</td>\n",
       "      <td>NaN</td>\n",
       "      <td>0.279</td>\n",
       "    </tr>\n",
       "    <tr>\n",
       "      <th>2</th>\n",
       "      <td>1.333</td>\n",
       "      <td>2025-01-02</td>\n",
       "      <td>Exch0</td>\n",
       "      <td>[[1, 6]]</td>\n",
       "      <td>[[800, 1]]</td>\n",
       "      <td>400.5</td>\n",
       "      <td>1.054</td>\n",
       "    </tr>\n",
       "    <tr>\n",
       "      <th>3</th>\n",
       "      <td>1.581</td>\n",
       "      <td>2025-01-02</td>\n",
       "      <td>Exch0</td>\n",
       "      <td>[[1, 6]]</td>\n",
       "      <td>[[799, 1]]</td>\n",
       "      <td>400.0</td>\n",
       "      <td>0.248</td>\n",
       "    </tr>\n",
       "    <tr>\n",
       "      <th>4</th>\n",
       "      <td>1.643</td>\n",
       "      <td>2025-01-02</td>\n",
       "      <td>Exch0</td>\n",
       "      <td>[[1, 6]]</td>\n",
       "      <td>[[798, 1]]</td>\n",
       "      <td>399.5</td>\n",
       "      <td>0.062</td>\n",
       "    </tr>\n",
       "  </tbody>\n",
       "</table>\n",
       "</div>"
      ],
      "text/plain": [
       "   Timestamp       Date Exchange       Bid         Ask  Mid_Price  Tick_Time\n",
       "0      0.000 2025-01-02    Exch0        []          []        NaN        NaN\n",
       "1      0.279 2025-01-02    Exch0  [[1, 6]]          []        NaN      0.279\n",
       "2      1.333 2025-01-02    Exch0  [[1, 6]]  [[800, 1]]      400.5      1.054\n",
       "3      1.581 2025-01-02    Exch0  [[1, 6]]  [[799, 1]]      400.0      0.248\n",
       "4      1.643 2025-01-02    Exch0  [[1, 6]]  [[798, 1]]      399.5      0.062"
      ]
     },
     "execution_count": 4,
     "metadata": {},
     "output_type": "execute_result"
    }
   ],
   "source": [
    "# Convert Date to datetime data type\n",
    "lob_sample['Date'] = pd.to_datetime(lob_sample['Date'])\n",
    "\n",
    "# Sort DataFrame by date\n",
    "lob_sample = lob_sample.sort_values(['Date','Timestamp'])\n",
    "\n",
    "# Calculate the difference between Timestamps (Tick Time) grouped by day \n",
    "lob_sample['Tick_Time'] = lob_sample.groupby('Date')['Timestamp'].diff()\n",
    "\n",
    "lob_sample.head()"
   ]
  },
  {
   "cell_type": "code",
   "execution_count": 10,
   "id": "9a02f9b6",
   "metadata": {},
   "outputs": [
    {
     "name": "stdout",
     "output_type": "stream",
     "text": [
      "Number of missing tick times: 3 (0.0000% of the sample)\n"
     ]
    }
   ],
   "source": [
    "# Identify NaN Tick Time\n",
    "missing_tick_time_count = lob_sample['Tick_Time'].isnull().sum()\n",
    "\n",
    "print(f'Number of missing tick times: {missing_tick_time_count} ({missing_tick_time_count/len(lob_sample):.4f}% of the sample)')"
   ]
  },
  {
   "cell_type": "code",
   "execution_count": 5,
   "id": "3361c435",
   "metadata": {},
   "outputs": [
    {
     "data": {
      "text/plain": [
       "count    1.037931e+06\n",
       "mean     8.844485e-02\n",
       "std      7.361408e-02\n",
       "min      3.100000e-02\n",
       "25%      3.100000e-02\n",
       "50%      6.200000e-02\n",
       "75%      1.240000e-01\n",
       "max      1.798000e+00\n",
       "Name: Tick_Time, dtype: float64"
      ]
     },
     "execution_count": 5,
     "metadata": {},
     "output_type": "execute_result"
    }
   ],
   "source": [
    "# Full descriptive analytics of ticktime\n",
    "lob_sample['Tick_Time'].describe()"
   ]
  },
  {
   "cell_type": "code",
   "execution_count": 6,
   "id": "99209f7e",
   "metadata": {},
   "outputs": [],
   "source": [
    "# Group by date and calculate the average number difference\n",
    "average_ticktime_by_date = lob_sample.groupby('Date')['Tick_Time'].mean()\n",
    "## would be good to show this as a distribution to se if there are any outliers\n",
    "\n",
    "# Calculate the average Tick Time across the dataset\n",
    "average_ticktime = lob_sample['Tick_Time'].mean()\n",
    "\n",
    "# Count the distinct number of dates\n",
    "date_count = lob_sample['Date'].nunique()"
   ]
  },
  {
   "cell_type": "code",
   "execution_count": 7,
   "id": "f108864f",
   "metadata": {},
   "outputs": [
    {
     "name": "stdout",
     "output_type": "stream",
     "text": [
      "The average tick time across the 3 dates is 0.0884 Seconds.\n",
      "The maximum and minimum tick times across the 3 are 1.7980 Seconds and 0.0310 Seconds respectively.\n"
     ]
    }
   ],
   "source": [
    "# Min and Max values for Tick Time\n",
    "max_ticktime = lob_sample['Tick_Time'].max()\n",
    "min_ticktime = lob_sample['Tick_Time'].min()\n",
    "\n",
    "print(f'The average tick time across the {date_count} dates is {average_ticktime:.4f} Seconds.')\n",
    "print(f'The maximum and minimum tick times across the {date_count} are {max_ticktime:.4f} Seconds and {min_ticktime:.4f} Seconds respectively.')"
   ]
  },
  {
   "cell_type": "code",
   "execution_count": 8,
   "id": "81c0b243",
   "metadata": {},
   "outputs": [],
   "source": [
    "import seaborn as sns\n",
    "import matplotlib\n",
    "import matplotlib.pyplot as plt\n",
    "%matplotlib inline\n",
    "\n",
    "# Set up plot style\n",
    "sns.set_style('darkgrid')\n",
    "matplotlib.rcParams['font.size'] = 14\n",
    "matplotlib.rcParams['figure.figsize'] = (12, 6)\n",
    "matplotlib.rcParams['figure.facecolor'] = '#00000000'\n",
    "colors = ['#04f5ff','#e90052', '#00ff85', '#38003c']\n",
    "sns.set_palette(sns.color_palette(colors));"
   ]
  },
  {
   "cell_type": "code",
   "execution_count": 9,
   "id": "d16b397d",
   "metadata": {},
   "outputs": [
    {
     "data": {
      "image/png": "[encoded data removed]",
      "text/plain": [
       "<Figure size 1200x600 with 1 Axes>"
      ]
     },
     "metadata": {
      "needs_background": "light"
     },
     "output_type": "display_data"
    }
   ],
   "source": [
    "#Create a violin plot showing the distribution of minutes played by each element.\n",
    "ax = sns.violinplot(data=round(lob_sample['Tick_Time'], 2))\n",
    "ax.set(title = 'Distribution of Tick Time by Number of Elements',\n",
    "       xlabel ='Seconds');"
   ]
  },
  {
   "cell_type": "code",
   "execution_count": null,
   "id": "f7064e2d",
   "metadata": {},
   "outputs": [],
   "source": [
    "# Identify outliers in tick time"
   ]
  }
 ],
 "metadata": {
  "kernelspec": {
   "display_name": "Python 3 (ipykernel)",
   "language": "python",
   "name": "python3"
  },
  "language_info": {
   "codemirror_mode": {
    "name": "ipython",
    "version": 3
   },
   "file_extension": ".py",
   "mimetype": "text/x-python",
   "name": "python",
   "nbconvert_exporter": "python",
   "pygments_lexer": "ipython3",
   "version": "3.11.5"
  }
 },
 "nbformat": 4,
 "nbformat_minor": 5
}
