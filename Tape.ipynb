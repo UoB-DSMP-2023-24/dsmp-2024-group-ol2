{
 "cells": [
  {
   "attachments": {
    "image-2.png": {
     "image/png": "[encoded data removed]"
    }
   },
   "cell_type": "markdown",
   "id": "df1a7511",
   "metadata": {},
   "source": [
    "![image-2.png](attachment:image-2.png)"
   ]
  },
  {
   "attachments": {
    "image.png": {
     "image/png": "[encoded data removed]"
    }
   },
   "cell_type": "markdown",
   "id": "9f9afb35",
   "metadata": {},
   "source": [
    "![image.png](attachment:image.png)"
   ]
  },
  {
   "cell_type": "markdown",
   "id": "3969cc9a",
   "metadata": {},
   "source": [
    "## Contents"
   ]
  },
  {
   "cell_type": "markdown",
   "id": "09f98f65",
   "metadata": {},
   "source": [
    "- [Load Data](#Load-Data)<br>\n",
    "- [Data Cleaning](#Data-Cleaning)<br>\n",
    "- [Transform Data](#Transform-Data)<br>\n",
    "- [Features](#Features)<br>"
   ]
  },
  {
   "attachments": {
    "image.png": {
     "image/png": "[encoded data removed]"
    }
   },
   "cell_type": "markdown",
   "id": "58665b55",
   "metadata": {},
   "source": [
    "![image.png](attachment:image.png)"
   ]
  },
  {
   "cell_type": "markdown",
   "id": "f4604ead",
   "metadata": {},
   "source": [
    "## Load Data"
   ]
  },
  {
   "cell_type": "markdown",
   "id": "3d6df037",
   "metadata": {},
   "source": [
    "__Sharepoint Data Location:__ https://uob-my.sharepoint.com/personal/ln19592_bristol_ac_uk/_layouts/15/onedrive.aspx?id=%2Fpersonal%2Fln19592%5Fbristol%5Fac%5Fuk%2FDocuments%2FTeaching%2FDS%20Mini%20Project%2FDSMP%202023%2D24%2FProblems%2FProblem%20B%20data&ga=1"
   ]
  },
  {
   "cell_type": "markdown",
   "id": "5802b9e9",
   "metadata": {},
   "source": [
    "__Data Description:__\n",
    "- 125 csv, 3 columns\n",
    "- Cols- Time, Price, Quantity"
   ]
  },
  {
   "cell_type": "code",
   "execution_count": 1,
   "id": "0ceb73f5",
   "metadata": {},
   "outputs": [],
   "source": [
    "#import required libraries\n",
    "import os\n",
    "import pandas as pd\n",
    "from datetime import datetime"
   ]
  },
  {
   "cell_type": "code",
   "execution_count": 2,
   "id": "f55e2b89",
   "metadata": {},
   "outputs": [],
   "source": [
    "#load data\n",
    "path = 'C:/Users/s_sta/OneDrive/Desktop/DSMP/Tapes'\n",
    "all_files = os.listdir(path)\n",
    "\n",
    "#initialise empty df append all data\n",
    "tape = pd.DataFrame()"
   ]
  },
  {
   "cell_type": "code",
   "execution_count": 3,
   "id": "2434bb3f",
   "metadata": {},
   "outputs": [],
   "source": [
    "#loop through each file in the directory\n",
    "for file in all_files:\n",
    "    if file.endswith('.csv'):\n",
    "        #extract date from filename \n",
    "        date = file.split('_')[2].split('t')[0]\n",
    "\n",
    "        #load csv file\n",
    "        df = pd.read_csv(f'{path}/{file}')\n",
    "\n",
    "        #add date col\n",
    "        df['Date'] = pd.to_datetime(date)\n",
    "\n",
    "        #set col names\n",
    "        df.columns = ['Time', 'Price', 'Quantity', 'Date']\n",
    "\n",
    "        #concatenate\n",
    "        tape = pd.concat([tape, df], ignore_index=True)"
   ]
  },
  {
   "cell_type": "code",
   "execution_count": 4,
   "id": "11c5d767",
   "metadata": {},
   "outputs": [
    {
     "data": {
      "text/plain": [
       "(3340376, 4)"
      ]
     },
     "execution_count": 4,
     "metadata": {},
     "output_type": "execute_result"
    }
   ],
   "source": [
    "tape.shape"
   ]
  },
  {
   "cell_type": "code",
   "execution_count": 5,
   "id": "23885079",
   "metadata": {},
   "outputs": [
    {
     "data": {
      "text/html": [
       "<div>\n",
       "<style scoped>\n",
       "    .dataframe tbody tr th:only-of-type {\n",
       "        vertical-align: middle;\n",
       "    }\n",
       "\n",
       "    .dataframe tbody tr th {\n",
       "        vertical-align: top;\n",
       "    }\n",
       "\n",
       "    .dataframe thead th {\n",
       "        text-align: right;\n",
       "    }\n",
       "</style>\n",
       "<table border=\"1\" class=\"dataframe\">\n",
       "  <thead>\n",
       "    <tr style=\"text-align: right;\">\n",
       "      <th></th>\n",
       "      <th>Time</th>\n",
       "      <th>Price</th>\n",
       "      <th>Quantity</th>\n",
       "      <th>Date</th>\n",
       "    </tr>\n",
       "  </thead>\n",
       "  <tbody>\n",
       "    <tr>\n",
       "      <th>0</th>\n",
       "      <td>11.067</td>\n",
       "      <td>269</td>\n",
       "      <td>1</td>\n",
       "      <td>2025-01-02</td>\n",
       "    </tr>\n",
       "    <tr>\n",
       "      <th>1</th>\n",
       "      <td>11.222</td>\n",
       "      <td>267</td>\n",
       "      <td>2</td>\n",
       "      <td>2025-01-02</td>\n",
       "    </tr>\n",
       "    <tr>\n",
       "      <th>2</th>\n",
       "      <td>12.338</td>\n",
       "      <td>270</td>\n",
       "      <td>2</td>\n",
       "      <td>2025-01-02</td>\n",
       "    </tr>\n",
       "    <tr>\n",
       "      <th>3</th>\n",
       "      <td>13.733</td>\n",
       "      <td>267</td>\n",
       "      <td>3</td>\n",
       "      <td>2025-01-02</td>\n",
       "    </tr>\n",
       "    <tr>\n",
       "      <th>4</th>\n",
       "      <td>18.321</td>\n",
       "      <td>265</td>\n",
       "      <td>2</td>\n",
       "      <td>2025-01-02</td>\n",
       "    </tr>\n",
       "  </tbody>\n",
       "</table>\n",
       "</div>"
      ],
      "text/plain": [
       "     Time  Price  Quantity       Date\n",
       "0  11.067    269         1 2025-01-02\n",
       "1  11.222    267         2 2025-01-02\n",
       "2  12.338    270         2 2025-01-02\n",
       "3  13.733    267         3 2025-01-02\n",
       "4  18.321    265         2 2025-01-02"
      ]
     },
     "execution_count": 5,
     "metadata": {},
     "output_type": "execute_result"
    }
   ],
   "source": [
    "tape.head()"
   ]
  },
  {
   "cell_type": "code",
   "execution_count": 8,
   "id": "b6d299e6",
   "metadata": {},
   "outputs": [],
   "source": [
    "#save tape (in Jupyter env)\n",
    "tape.to_csv('tape.csv', index=False)"
   ]
  },
  {
   "cell_type": "markdown",
   "id": "4b184eac",
   "metadata": {},
   "source": [
    "- [Return to contents](#Contents)<br>"
   ]
  },
  {
   "attachments": {
    "image.png": {
     "image/png": "[encoded data removed]"
    }
   },
   "cell_type": "markdown",
   "id": "fa9cb28d",
   "metadata": {},
   "source": [
    "![image.png](attachment:image.png)"
   ]
  },
  {
   "cell_type": "markdown",
   "id": "0c97036e",
   "metadata": {},
   "source": [
    "## Data Cleaning"
   ]
  },
  {
   "cell_type": "markdown",
   "id": "8248cc3d",
   "metadata": {},
   "source": [
    "__Missing Values__"
   ]
  },
  {
   "cell_type": "code",
   "execution_count": 9,
   "id": "1c082389",
   "metadata": {},
   "outputs": [
    {
     "name": "stdout",
     "output_type": "stream",
     "text": [
      "Missing Values:\n",
      " Time        0\n",
      "Price       0\n",
      "Quantity    0\n",
      "Date        0\n",
      "dtype: int64\n"
     ]
    }
   ],
   "source": [
    "#check for missing values\n",
    "missing_values = tape.isnull().sum()\n",
    "\n",
    "print(\"Missing Values:\\n\", missing_values)"
   ]
  },
  {
   "cell_type": "markdown",
   "id": "25373a73",
   "metadata": {},
   "source": [
    "__Duplicate Rows__"
   ]
  },
  {
   "cell_type": "code",
   "execution_count": 10,
   "id": "aa57d1ba",
   "metadata": {},
   "outputs": [
    {
     "name": "stdout",
     "output_type": "stream",
     "text": [
      "Duplicate Rows: 59827\n"
     ]
    }
   ],
   "source": [
    "#check for duplicate rows\n",
    "duplicate_rows = tape.duplicated().sum()\n",
    "\n",
    "print(\"Duplicate Rows:\", duplicate_rows)"
   ]
  },
  {
   "cell_type": "code",
   "execution_count": null,
   "id": "053a5f76",
   "metadata": {},
   "outputs": [],
   "source": [
    "#print(\"Shape before removing duplicates:\", tape.shape)"
   ]
  },
  {
   "cell_type": "code",
   "execution_count": null,
   "id": "6c5e3301",
   "metadata": {},
   "outputs": [],
   "source": [
    "#remove duplicate rows\n",
    "#tape.drop_duplicates(inplace=True)"
   ]
  },
  {
   "cell_type": "code",
   "execution_count": null,
   "id": "b714b09f",
   "metadata": {},
   "outputs": [],
   "source": [
    "#print(\"Shape after removing duplicates:\", tape.shape)"
   ]
  },
  {
   "cell_type": "markdown",
   "id": "020fb6dd",
   "metadata": {},
   "source": [
    "__Data Types__"
   ]
  },
  {
   "cell_type": "code",
   "execution_count": 11,
   "id": "b742bf30",
   "metadata": {},
   "outputs": [
    {
     "name": "stdout",
     "output_type": "stream",
     "text": [
      "<class 'pandas.core.frame.DataFrame'>\n",
      "RangeIndex: 3340376 entries, 0 to 3340375\n",
      "Data columns (total 4 columns):\n",
      " #   Column    Dtype         \n",
      "---  ------    -----         \n",
      " 0   Time      float64       \n",
      " 1   Price     int64         \n",
      " 2   Quantity  int64         \n",
      " 3   Date      datetime64[ns]\n",
      "dtypes: datetime64[ns](1), float64(1), int64(2)\n",
      "memory usage: 101.9 MB\n"
     ]
    }
   ],
   "source": [
    "#Do we need to change data types?\n",
    "tape.info()"
   ]
  },
  {
   "cell_type": "code",
   "execution_count": 12,
   "id": "7feeba04",
   "metadata": {},
   "outputs": [],
   "source": [
    "#save clean tape (in Jupyter env)\n",
    "tape.to_csv('tape.csv', index=False)"
   ]
  },
  {
   "cell_type": "markdown",
   "id": "4f817054",
   "metadata": {},
   "source": [
    "- [Return to contents](#Contents)<br>"
   ]
  },
  {
   "attachments": {
    "image.png": {
     "image/png": "[encoded data removed]"
    }
   },
   "cell_type": "markdown",
   "id": "79e6c0c4",
   "metadata": {},
   "source": [
    "![image.png](attachment:image.png)"
   ]
  },
  {
   "cell_type": "markdown",
   "id": "76d9de5d",
   "metadata": {},
   "source": [
    "## Transform Data"
   ]
  },
  {
   "cell_type": "code",
   "execution_count": 13,
   "id": "b10133b0",
   "metadata": {},
   "outputs": [],
   "source": [
    "#import required libraries\n",
    "from sklearn.preprocessing import MinMaxScaler\n",
    "from sklearn.preprocessing import StandardScaler"
   ]
  },
  {
   "cell_type": "code",
   "execution_count": 14,
   "id": "094787e7",
   "metadata": {},
   "outputs": [],
   "source": [
    "#normalise- scaling data to range between 0 and 1\n",
    "scaler = MinMaxScaler()\n",
    "tape['Normalised_Price'] = scaler.fit_transform(tape[['Price']])"
   ]
  },
  {
   "cell_type": "code",
   "execution_count": 15,
   "id": "0172fbc2",
   "metadata": {},
   "outputs": [],
   "source": [
    "#standardise- scaling data to mean of 0 and standard deviation of 1)\n",
    "scaler = StandardScaler()\n",
    "tape['Standardised_Price'] = scaler.fit_transform(tape[['Price']])"
   ]
  },
  {
   "cell_type": "code",
   "execution_count": 16,
   "id": "621fed25",
   "metadata": {},
   "outputs": [
    {
     "data": {
      "text/html": [
       "<div>\n",
       "<style scoped>\n",
       "    .dataframe tbody tr th:only-of-type {\n",
       "        vertical-align: middle;\n",
       "    }\n",
       "\n",
       "    .dataframe tbody tr th {\n",
       "        vertical-align: top;\n",
       "    }\n",
       "\n",
       "    .dataframe thead th {\n",
       "        text-align: right;\n",
       "    }\n",
       "</style>\n",
       "<table border=\"1\" class=\"dataframe\">\n",
       "  <thead>\n",
       "    <tr style=\"text-align: right;\">\n",
       "      <th></th>\n",
       "      <th>Time</th>\n",
       "      <th>Price</th>\n",
       "      <th>Quantity</th>\n",
       "      <th>Date</th>\n",
       "      <th>Normalised_Price</th>\n",
       "      <th>Standardised_Price</th>\n",
       "    </tr>\n",
       "  </thead>\n",
       "  <tbody>\n",
       "    <tr>\n",
       "      <th>0</th>\n",
       "      <td>11.067</td>\n",
       "      <td>269</td>\n",
       "      <td>1</td>\n",
       "      <td>2025-01-02</td>\n",
       "      <td>0.578947</td>\n",
       "      <td>0.855046</td>\n",
       "    </tr>\n",
       "    <tr>\n",
       "      <th>1</th>\n",
       "      <td>11.222</td>\n",
       "      <td>267</td>\n",
       "      <td>2</td>\n",
       "      <td>2025-01-02</td>\n",
       "      <td>0.572368</td>\n",
       "      <td>0.830077</td>\n",
       "    </tr>\n",
       "    <tr>\n",
       "      <th>2</th>\n",
       "      <td>12.338</td>\n",
       "      <td>270</td>\n",
       "      <td>2</td>\n",
       "      <td>2025-01-02</td>\n",
       "      <td>0.582237</td>\n",
       "      <td>0.867531</td>\n",
       "    </tr>\n",
       "    <tr>\n",
       "      <th>3</th>\n",
       "      <td>13.733</td>\n",
       "      <td>267</td>\n",
       "      <td>3</td>\n",
       "      <td>2025-01-02</td>\n",
       "      <td>0.572368</td>\n",
       "      <td>0.830077</td>\n",
       "    </tr>\n",
       "    <tr>\n",
       "      <th>4</th>\n",
       "      <td>18.321</td>\n",
       "      <td>265</td>\n",
       "      <td>2</td>\n",
       "      <td>2025-01-02</td>\n",
       "      <td>0.565789</td>\n",
       "      <td>0.805109</td>\n",
       "    </tr>\n",
       "  </tbody>\n",
       "</table>\n",
       "</div>"
      ],
      "text/plain": [
       "     Time  Price  Quantity       Date  Normalised_Price  Standardised_Price\n",
       "0  11.067    269         1 2025-01-02          0.578947            0.855046\n",
       "1  11.222    267         2 2025-01-02          0.572368            0.830077\n",
       "2  12.338    270         2 2025-01-02          0.582237            0.867531\n",
       "3  13.733    267         3 2025-01-02          0.572368            0.830077\n",
       "4  18.321    265         2 2025-01-02          0.565789            0.805109"
      ]
     },
     "execution_count": 16,
     "metadata": {},
     "output_type": "execute_result"
    }
   ],
   "source": [
    "tape.head()"
   ]
  },
  {
   "cell_type": "code",
   "execution_count": 17,
   "id": "639abafb",
   "metadata": {},
   "outputs": [],
   "source": [
    "#save transformed tape (in Jupyter env)\n",
    "tape.to_csv('tape.csv', index=False)"
   ]
  },
  {
   "cell_type": "markdown",
   "id": "b27031af",
   "metadata": {},
   "source": [
    "- [Return to contents](#Contents)<br>"
   ]
  },
  {
   "attachments": {
    "image.png": {
     "image/png": "[encoded data removed]"
    }
   },
   "cell_type": "markdown",
   "id": "cf4c8363",
   "metadata": {},
   "source": [
    "![image.png](attachment:image.png)"
   ]
  },
  {
   "cell_type": "markdown",
   "id": "95c606a4",
   "metadata": {},
   "source": [
    "## Features"
   ]
  },
  {
   "cell_type": "markdown",
   "id": "89b7c6b0",
   "metadata": {},
   "source": [
    "(using raw Price)"
   ]
  },
  {
   "cell_type": "markdown",
   "id": "3339cfe7",
   "metadata": {},
   "source": [
    "__Technical Indicators__<br>\n",
    "To reveal trends, momentum, and volatility."
   ]
  },
  {
   "cell_type": "code",
   "execution_count": 18,
   "id": "ed8a2076",
   "metadata": {},
   "outputs": [],
   "source": [
    "#import required libraries\n",
    "import numpy as np"
   ]
  },
  {
   "cell_type": "code",
   "execution_count": 19,
   "id": "117691c2",
   "metadata": {},
   "outputs": [],
   "source": [
    "#moving average\n",
    "tape['Moving_Average_10'] = tape['Price'].rolling(window=10).mean()  #10 period moving average"
   ]
  },
  {
   "cell_type": "code",
   "execution_count": 20,
   "id": "2c8a4bbb",
   "metadata": {},
   "outputs": [],
   "source": [
    "#bollinger bands\n",
    "MA = tape['Price'].rolling(window=20).mean()\n",
    "SD = tape['Price'].rolling(window=20).std()\n",
    "\n",
    "tape['Upper_BB'] = MA + (2 * SD)  #upper bollinger band\n",
    "tape['Lower_BB'] = MA - (2 * SD)  #lower bollinger band"
   ]
  },
  {
   "cell_type": "code",
   "execution_count": 21,
   "id": "ebb6705f",
   "metadata": {},
   "outputs": [],
   "source": [
    "#macd\n",
    "EMA_12 = tape['Price'].ewm(span=12, adjust=False).mean()\n",
    "EMA_26 = tape['Price'].ewm(span=26, adjust=False).mean()\n",
    "\n",
    "tape['MACD'] = EMA_12 - EMA_26\n",
    "tape['Signal_Line'] = tape['MACD'].ewm(span=9, adjust=False).mean()"
   ]
  },
  {
   "cell_type": "code",
   "execution_count": 22,
   "id": "a754f982",
   "metadata": {},
   "outputs": [],
   "source": [
    "#relative strength index\n",
    "delta = tape['Price'].diff()\n",
    "gain = (delta.where(delta > 0, 0)).rolling(window=14).mean()\n",
    "loss = (-delta.where(delta < 0, 0)).rolling(window=14).mean()\n",
    "RS = gain / loss\n",
    "\n",
    "tape['RSI'] = 100 - (100 / (1 + RS))"
   ]
  },
  {
   "cell_type": "markdown",
   "id": "847e654f",
   "metadata": {},
   "source": [
    "__Lag Features__<br>\n",
    "To capture time based patterns and dependencies."
   ]
  },
  {
   "cell_type": "code",
   "execution_count": 23,
   "id": "4d52af02",
   "metadata": {},
   "outputs": [],
   "source": [
    "#lag price\n",
    "tape['Lagged_Price'] = tape['Price'].shift(1)  #previous day price"
   ]
  },
  {
   "cell_type": "code",
   "execution_count": 24,
   "id": "9eac205e",
   "metadata": {},
   "outputs": [],
   "source": [
    "#lag volume\n",
    "tape['Lagged_Volume'] = tape['Quantity'].shift(1)  #previous day volume"
   ]
  },
  {
   "cell_type": "markdown",
   "id": "22f2d539",
   "metadata": {},
   "source": [
    "__Window Statistics__<br> \n",
    "To helps in understanding local trends and volatility."
   ]
  },
  {
   "cell_type": "code",
   "execution_count": 25,
   "id": "fef55d4b",
   "metadata": {},
   "outputs": [],
   "source": [
    "#Rolling 7\n",
    "tape['Rolling_Mean_7'] = tape['Price'].rolling(window=7).mean()\n",
    "\n",
    "tape['Rolling_Median_7'] = tape['Price'].rolling(window=7).median()\n",
    "\n",
    "tape['Rolling_Std_7'] = tape['Price'].rolling(window=7).std()"
   ]
  },
  {
   "cell_type": "markdown",
   "id": "ad2a7e77",
   "metadata": {},
   "source": [
    "__Time Features__<br>\n",
    "To identify seasonal patterns or time based trends."
   ]
  },
  {
   "cell_type": "code",
   "execution_count": 26,
   "id": "8f00c867",
   "metadata": {},
   "outputs": [],
   "source": [
    "tape['Year'] = tape['Date'].dt.year\n",
    "tape['Month'] = tape['Date'].dt.month\n",
    "tape['Week'] = tape['Date'].dt.isocalendar().week\n",
    "tape['Day'] = tape['Date'].dt.day\n",
    "tape['DayOfWeek'] = tape['Date'].dt.dayofweek"
   ]
  },
  {
   "cell_type": "markdown",
   "id": "9a71bc3d",
   "metadata": {},
   "source": [
    "__Volume-Weighted Average Price__<br> \n",
    "A trading benchmark that gives an average price a security has traded at throughout the day, based on both volume and price."
   ]
  },
  {
   "cell_type": "code",
   "execution_count": 27,
   "id": "b1f95def",
   "metadata": {},
   "outputs": [],
   "source": [
    "tape['VWAP'] = (tape['Price'] * tape['Quantity']).cumsum() / tape['Quantity'].cumsum()"
   ]
  },
  {
   "cell_type": "markdown",
   "id": "6650336c",
   "metadata": {},
   "source": [
    "__Rate of Change__<br>\n",
    "Measurement of the percentage change in price over a specified time period and can provide insight into the momentum of the stock."
   ]
  },
  {
   "cell_type": "code",
   "execution_count": 28,
   "id": "ac38ec9e",
   "metadata": {},
   "outputs": [],
   "source": [
    "tape['Rate_of_Change'] = tape['Price'].pct_change(periods=1)  #change from previous day"
   ]
  },
  {
   "cell_type": "markdown",
   "id": "6fe3d698",
   "metadata": {},
   "source": [
    "__Fourier Transforms__<br>\n",
    "To identify long term cycles and trends."
   ]
  },
  {
   "cell_type": "code",
   "execution_count": 29,
   "id": "ba3ad135",
   "metadata": {},
   "outputs": [],
   "source": [
    "FFT = np.fft.fft(np.asarray(tape['Price'].tolist()))\n",
    "FFT_real = np.real(FFT)\n",
    "tape['FFT'] = FFT_real"
   ]
  },
  {
   "cell_type": "code",
   "execution_count": 30,
   "id": "526bc5c2",
   "metadata": {},
   "outputs": [],
   "source": [
    "#save tape with features (in Jupyter env)\n",
    "tape.to_csv('tape.csv', index=False)"
   ]
  },
  {
   "cell_type": "code",
   "execution_count": null,
   "id": "2e2d2b04",
   "metadata": {},
   "outputs": [],
   "source": [
    "#Are candlestick patterns appropriate? ta library offers a variety we could explore"
   ]
  },
  {
   "cell_type": "markdown",
   "id": "8c027044",
   "metadata": {},
   "source": [
    "- [Return to contents](#Contents)<br>"
   ]
  },
  {
   "attachments": {
    "image.png": {
     "image/png": "[encoded data removed]"
    }
   },
   "cell_type": "markdown",
   "id": "5d331f43",
   "metadata": {},
   "source": [
    "![image.png](attachment:image.png)"
   ]
  },
  {
   "cell_type": "code",
   "execution_count": null,
   "id": "18900c72",
   "metadata": {},
   "outputs": [],
   "source": []
  }
 ],
 "metadata": {
  "kernelspec": {
   "display_name": "Python 3 (ipykernel)",
   "language": "python",
   "name": "python3"
  },
  "language_info": {
   "codemirror_mode": {
    "name": "ipython",
    "version": 3
   },
   "file_extension": ".py",
   "mimetype": "text/x-python",
   "name": "python",
   "nbconvert_exporter": "python",
   "pygments_lexer": "ipython3",
   "version": "3.9.12"
  }
 },
 "nbformat": 4,
 "nbformat_minor": 5
}
