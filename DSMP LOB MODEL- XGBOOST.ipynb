{
 "cells": [
  {
   "cell_type": "markdown",
   "id": "250b4535",
   "metadata": {},
   "source": [
    "## LOB Model Exploration "
   ]
  },
  {
   "attachments": {
    "image.png": {
     "image/png": "[encoded data removed]"
    }
   },
   "cell_type": "markdown",
   "id": "e95148f4",
   "metadata": {},
   "source": [
    "Baseline model (RF) performance:![image.png](attachment:image.png)"
   ]
  },
  {
   "cell_type": "markdown",
   "id": "b785070a",
   "metadata": {},
   "source": [
    "## Contents"
   ]
  },
  {
   "cell_type": "markdown",
   "id": "6a656f6a",
   "metadata": {},
   "source": [
    "- Load Data\n",
    "- Pre-process Data\n",
    "- Train Test Split\n",
    "- XGBoost\n",
    "- Evaluation"
   ]
  },
  {
   "cell_type": "markdown",
   "id": "7c55f375",
   "metadata": {},
   "source": [
    "## Load Data"
   ]
  },
  {
   "cell_type": "code",
   "execution_count": 3,
   "id": "0449077f",
   "metadata": {},
   "outputs": [],
   "source": [
    "#import required libraries\n",
    "import pandas as pd"
   ]
  },
  {
   "cell_type": "code",
   "execution_count": 4,
   "id": "2b58e7a0",
   "metadata": {},
   "outputs": [],
   "source": [
    "#load lob csv\n",
    "lob = pd.read_csv('lob.csv')"
   ]
  },
  {
   "cell_type": "code",
   "execution_count": 5,
   "id": "18d5bb28",
   "metadata": {},
   "outputs": [
    {
     "data": {
      "text/plain": [
       "(1037853, 15)"
      ]
     },
     "execution_count": 5,
     "metadata": {},
     "output_type": "execute_result"
    }
   ],
   "source": [
    "#dataset dimensions\n",
    "lob.shape"
   ]
  },
  {
   "cell_type": "code",
   "execution_count": 6,
   "id": "3985314d",
   "metadata": {},
   "outputs": [
    {
     "data": {
      "text/html": [
       "<div>\n",
       "<style scoped>\n",
       "    .dataframe tbody tr th:only-of-type {\n",
       "        vertical-align: middle;\n",
       "    }\n",
       "\n",
       "    .dataframe tbody tr th {\n",
       "        vertical-align: top;\n",
       "    }\n",
       "\n",
       "    .dataframe thead th {\n",
       "        text-align: right;\n",
       "    }\n",
       "</style>\n",
       "<table border=\"1\" class=\"dataframe\">\n",
       "  <thead>\n",
       "    <tr style=\"text-align: right;\">\n",
       "      <th></th>\n",
       "      <th>Timestamp</th>\n",
       "      <th>Date</th>\n",
       "      <th>Exchange</th>\n",
       "      <th>Bid</th>\n",
       "      <th>Ask</th>\n",
       "      <th>Mid_Price</th>\n",
       "      <th>SMA_Short</th>\n",
       "      <th>SMA_Long</th>\n",
       "      <th>EMA_Short</th>\n",
       "      <th>EMA_Long</th>\n",
       "      <th>RSI</th>\n",
       "      <th>Upper_BB</th>\n",
       "      <th>Lower_BB</th>\n",
       "      <th>Volume</th>\n",
       "      <th>OBV</th>\n",
       "    </tr>\n",
       "  </thead>\n",
       "  <tbody>\n",
       "    <tr>\n",
       "      <th>0</th>\n",
       "      <td>1.333</td>\n",
       "      <td>2025-01-02</td>\n",
       "      <td>Exch0</td>\n",
       "      <td>[[1, 6]]</td>\n",
       "      <td>[[800, 1]]</td>\n",
       "      <td>400.5</td>\n",
       "      <td>NaN</td>\n",
       "      <td>NaN</td>\n",
       "      <td>400.500000</td>\n",
       "      <td>400.500000</td>\n",
       "      <td>NaN</td>\n",
       "      <td>NaN</td>\n",
       "      <td>NaN</td>\n",
       "      <td>7</td>\n",
       "      <td>0</td>\n",
       "    </tr>\n",
       "    <tr>\n",
       "      <th>1</th>\n",
       "      <td>1.581</td>\n",
       "      <td>2025-01-02</td>\n",
       "      <td>Exch0</td>\n",
       "      <td>[[1, 6]]</td>\n",
       "      <td>[[799, 1]]</td>\n",
       "      <td>400.0</td>\n",
       "      <td>NaN</td>\n",
       "      <td>NaN</td>\n",
       "      <td>400.409091</td>\n",
       "      <td>400.480392</td>\n",
       "      <td>NaN</td>\n",
       "      <td>NaN</td>\n",
       "      <td>NaN</td>\n",
       "      <td>7</td>\n",
       "      <td>-7</td>\n",
       "    </tr>\n",
       "    <tr>\n",
       "      <th>2</th>\n",
       "      <td>1.643</td>\n",
       "      <td>2025-01-02</td>\n",
       "      <td>Exch0</td>\n",
       "      <td>[[1, 6]]</td>\n",
       "      <td>[[798, 1]]</td>\n",
       "      <td>399.5</td>\n",
       "      <td>NaN</td>\n",
       "      <td>NaN</td>\n",
       "      <td>400.243802</td>\n",
       "      <td>400.441945</td>\n",
       "      <td>NaN</td>\n",
       "      <td>NaN</td>\n",
       "      <td>NaN</td>\n",
       "      <td>7</td>\n",
       "      <td>-14</td>\n",
       "    </tr>\n",
       "    <tr>\n",
       "      <th>3</th>\n",
       "      <td>1.736</td>\n",
       "      <td>2025-01-02</td>\n",
       "      <td>Exch0</td>\n",
       "      <td>[[261, 1], [1, 6]]</td>\n",
       "      <td>[[798, 1]]</td>\n",
       "      <td>529.5</td>\n",
       "      <td>NaN</td>\n",
       "      <td>NaN</td>\n",
       "      <td>423.744929</td>\n",
       "      <td>405.503046</td>\n",
       "      <td>NaN</td>\n",
       "      <td>NaN</td>\n",
       "      <td>NaN</td>\n",
       "      <td>8</td>\n",
       "      <td>-6</td>\n",
       "    </tr>\n",
       "    <tr>\n",
       "      <th>4</th>\n",
       "      <td>1.984</td>\n",
       "      <td>2025-01-02</td>\n",
       "      <td>Exch0</td>\n",
       "      <td>[[261, 1], [1, 6]]</td>\n",
       "      <td>[[797, 1]]</td>\n",
       "      <td>529.0</td>\n",
       "      <td>NaN</td>\n",
       "      <td>NaN</td>\n",
       "      <td>442.882214</td>\n",
       "      <td>410.346063</td>\n",
       "      <td>NaN</td>\n",
       "      <td>NaN</td>\n",
       "      <td>NaN</td>\n",
       "      <td>8</td>\n",
       "      <td>-14</td>\n",
       "    </tr>\n",
       "  </tbody>\n",
       "</table>\n",
       "</div>"
      ],
      "text/plain": [
       "   Timestamp        Date Exchange                 Bid         Ask  Mid_Price  \\\n",
       "0      1.333  2025-01-02    Exch0            [[1, 6]]  [[800, 1]]      400.5   \n",
       "1      1.581  2025-01-02    Exch0            [[1, 6]]  [[799, 1]]      400.0   \n",
       "2      1.643  2025-01-02    Exch0            [[1, 6]]  [[798, 1]]      399.5   \n",
       "3      1.736  2025-01-02    Exch0  [[261, 1], [1, 6]]  [[798, 1]]      529.5   \n",
       "4      1.984  2025-01-02    Exch0  [[261, 1], [1, 6]]  [[797, 1]]      529.0   \n",
       "\n",
       "   SMA_Short  SMA_Long   EMA_Short    EMA_Long  RSI  Upper_BB  Lower_BB  \\\n",
       "0        NaN       NaN  400.500000  400.500000  NaN       NaN       NaN   \n",
       "1        NaN       NaN  400.409091  400.480392  NaN       NaN       NaN   \n",
       "2        NaN       NaN  400.243802  400.441945  NaN       NaN       NaN   \n",
       "3        NaN       NaN  423.744929  405.503046  NaN       NaN       NaN   \n",
       "4        NaN       NaN  442.882214  410.346063  NaN       NaN       NaN   \n",
       "\n",
       "   Volume  OBV  \n",
       "0       7    0  \n",
       "1       7   -7  \n",
       "2       7  -14  \n",
       "3       8   -6  \n",
       "4       8  -14  "
      ]
     },
     "execution_count": 6,
     "metadata": {},
     "output_type": "execute_result"
    }
   ],
   "source": [
    "lob.head()"
   ]
  },
  {
   "cell_type": "code",
   "execution_count": 7,
   "id": "165f3703",
   "metadata": {},
   "outputs": [
    {
     "name": "stdout",
     "output_type": "stream",
     "text": [
      "<class 'pandas.core.frame.DataFrame'>\n",
      "RangeIndex: 1037853 entries, 0 to 1037852\n",
      "Data columns (total 15 columns):\n",
      " #   Column     Non-Null Count    Dtype  \n",
      "---  ------     --------------    -----  \n",
      " 0   Timestamp  1037853 non-null  float64\n",
      " 1   Date       1037853 non-null  object \n",
      " 2   Exchange   1037853 non-null  object \n",
      " 3   Bid        1037853 non-null  object \n",
      " 4   Ask        1037853 non-null  object \n",
      " 5   Mid_Price  1037853 non-null  float64\n",
      " 6   SMA_Short  1037844 non-null  float64\n",
      " 7   SMA_Long   1037804 non-null  float64\n",
      " 8   EMA_Short  1037853 non-null  float64\n",
      " 9   EMA_Long   1037853 non-null  float64\n",
      " 10  RSI        948874 non-null   float64\n",
      " 11  Upper_BB   1037834 non-null  float64\n",
      " 12  Lower_BB   1037834 non-null  float64\n",
      " 13  Volume     1037853 non-null  int64  \n",
      " 14  OBV        1037853 non-null  int64  \n",
      "dtypes: float64(9), int64(2), object(4)\n",
      "memory usage: 118.8+ MB\n"
     ]
    }
   ],
   "source": [
    "#dataset info\n",
    "lob.info()"
   ]
  },
  {
   "cell_type": "markdown",
   "id": "d75558e6",
   "metadata": {},
   "source": [
    "## Pre-process Data"
   ]
  },
  {
   "cell_type": "code",
   "execution_count": 8,
   "id": "42caed5f",
   "metadata": {},
   "outputs": [],
   "source": [
    "#drop exchange\n",
    "lob = lob.drop('Exchange', axis=1)"
   ]
  },
  {
   "cell_type": "code",
   "execution_count": 9,
   "id": "c7fdd5d9",
   "metadata": {},
   "outputs": [],
   "source": [
    "#copied from Felix\n",
    "#ensure 'Timestamp' is treated as a number\n",
    "lob['Timestamp'] = pd.to_numeric(lob['Timestamp'])\n",
    "#sort the DataFrame by date and Timestamp to ensure it's in chronological order\n",
    "lob.sort_values(by=['Date','Timestamp'], inplace=True)"
   ]
  },
  {
   "cell_type": "code",
   "execution_count": 10,
   "id": "7dac440a",
   "metadata": {},
   "outputs": [],
   "source": [
    "#future mid-price as target\n",
    "lob['Mid_Price_Future'] = lob['Mid_Price'].shift(-1) "
   ]
  },
  {
   "cell_type": "code",
   "execution_count": 11,
   "id": "3bf60e89",
   "metadata": {},
   "outputs": [
    {
     "data": {
      "text/html": [
       "<div>\n",
       "<style scoped>\n",
       "    .dataframe tbody tr th:only-of-type {\n",
       "        vertical-align: middle;\n",
       "    }\n",
       "\n",
       "    .dataframe tbody tr th {\n",
       "        vertical-align: top;\n",
       "    }\n",
       "\n",
       "    .dataframe thead th {\n",
       "        text-align: right;\n",
       "    }\n",
       "</style>\n",
       "<table border=\"1\" class=\"dataframe\">\n",
       "  <thead>\n",
       "    <tr style=\"text-align: right;\">\n",
       "      <th></th>\n",
       "      <th>Timestamp</th>\n",
       "      <th>Date</th>\n",
       "      <th>Bid</th>\n",
       "      <th>Ask</th>\n",
       "      <th>Mid_Price</th>\n",
       "      <th>SMA_Short</th>\n",
       "      <th>SMA_Long</th>\n",
       "      <th>EMA_Short</th>\n",
       "      <th>EMA_Long</th>\n",
       "      <th>RSI</th>\n",
       "      <th>Upper_BB</th>\n",
       "      <th>Lower_BB</th>\n",
       "      <th>Volume</th>\n",
       "      <th>OBV</th>\n",
       "      <th>Mid_Price_Future</th>\n",
       "    </tr>\n",
       "  </thead>\n",
       "  <tbody>\n",
       "    <tr>\n",
       "      <th>0</th>\n",
       "      <td>1.333</td>\n",
       "      <td>2025-01-02</td>\n",
       "      <td>[[1, 6]]</td>\n",
       "      <td>[[800, 1]]</td>\n",
       "      <td>400.5</td>\n",
       "      <td>NaN</td>\n",
       "      <td>NaN</td>\n",
       "      <td>400.500000</td>\n",
       "      <td>400.500000</td>\n",
       "      <td>NaN</td>\n",
       "      <td>NaN</td>\n",
       "      <td>NaN</td>\n",
       "      <td>7</td>\n",
       "      <td>0</td>\n",
       "      <td>400.0</td>\n",
       "    </tr>\n",
       "    <tr>\n",
       "      <th>1</th>\n",
       "      <td>1.581</td>\n",
       "      <td>2025-01-02</td>\n",
       "      <td>[[1, 6]]</td>\n",
       "      <td>[[799, 1]]</td>\n",
       "      <td>400.0</td>\n",
       "      <td>NaN</td>\n",
       "      <td>NaN</td>\n",
       "      <td>400.409091</td>\n",
       "      <td>400.480392</td>\n",
       "      <td>NaN</td>\n",
       "      <td>NaN</td>\n",
       "      <td>NaN</td>\n",
       "      <td>7</td>\n",
       "      <td>-7</td>\n",
       "      <td>399.5</td>\n",
       "    </tr>\n",
       "    <tr>\n",
       "      <th>2</th>\n",
       "      <td>1.643</td>\n",
       "      <td>2025-01-02</td>\n",
       "      <td>[[1, 6]]</td>\n",
       "      <td>[[798, 1]]</td>\n",
       "      <td>399.5</td>\n",
       "      <td>NaN</td>\n",
       "      <td>NaN</td>\n",
       "      <td>400.243802</td>\n",
       "      <td>400.441945</td>\n",
       "      <td>NaN</td>\n",
       "      <td>NaN</td>\n",
       "      <td>NaN</td>\n",
       "      <td>7</td>\n",
       "      <td>-14</td>\n",
       "      <td>529.5</td>\n",
       "    </tr>\n",
       "    <tr>\n",
       "      <th>3</th>\n",
       "      <td>1.736</td>\n",
       "      <td>2025-01-02</td>\n",
       "      <td>[[261, 1], [1, 6]]</td>\n",
       "      <td>[[798, 1]]</td>\n",
       "      <td>529.5</td>\n",
       "      <td>NaN</td>\n",
       "      <td>NaN</td>\n",
       "      <td>423.744929</td>\n",
       "      <td>405.503046</td>\n",
       "      <td>NaN</td>\n",
       "      <td>NaN</td>\n",
       "      <td>NaN</td>\n",
       "      <td>8</td>\n",
       "      <td>-6</td>\n",
       "      <td>529.0</td>\n",
       "    </tr>\n",
       "    <tr>\n",
       "      <th>4</th>\n",
       "      <td>1.984</td>\n",
       "      <td>2025-01-02</td>\n",
       "      <td>[[261, 1], [1, 6]]</td>\n",
       "      <td>[[797, 1]]</td>\n",
       "      <td>529.0</td>\n",
       "      <td>NaN</td>\n",
       "      <td>NaN</td>\n",
       "      <td>442.882214</td>\n",
       "      <td>410.346063</td>\n",
       "      <td>NaN</td>\n",
       "      <td>NaN</td>\n",
       "      <td>NaN</td>\n",
       "      <td>8</td>\n",
       "      <td>-14</td>\n",
       "      <td>299.5</td>\n",
       "    </tr>\n",
       "  </tbody>\n",
       "</table>\n",
       "</div>"
      ],
      "text/plain": [
       "   Timestamp        Date                 Bid         Ask  Mid_Price  \\\n",
       "0      1.333  2025-01-02            [[1, 6]]  [[800, 1]]      400.5   \n",
       "1      1.581  2025-01-02            [[1, 6]]  [[799, 1]]      400.0   \n",
       "2      1.643  2025-01-02            [[1, 6]]  [[798, 1]]      399.5   \n",
       "3      1.736  2025-01-02  [[261, 1], [1, 6]]  [[798, 1]]      529.5   \n",
       "4      1.984  2025-01-02  [[261, 1], [1, 6]]  [[797, 1]]      529.0   \n",
       "\n",
       "   SMA_Short  SMA_Long   EMA_Short    EMA_Long  RSI  Upper_BB  Lower_BB  \\\n",
       "0        NaN       NaN  400.500000  400.500000  NaN       NaN       NaN   \n",
       "1        NaN       NaN  400.409091  400.480392  NaN       NaN       NaN   \n",
       "2        NaN       NaN  400.243802  400.441945  NaN       NaN       NaN   \n",
       "3        NaN       NaN  423.744929  405.503046  NaN       NaN       NaN   \n",
       "4        NaN       NaN  442.882214  410.346063  NaN       NaN       NaN   \n",
       "\n",
       "   Volume  OBV  Mid_Price_Future  \n",
       "0       7    0             400.0  \n",
       "1       7   -7             399.5  \n",
       "2       7  -14             529.5  \n",
       "3       8   -6             529.0  \n",
       "4       8  -14             299.5  "
      ]
     },
     "execution_count": 11,
     "metadata": {},
     "output_type": "execute_result"
    }
   ],
   "source": [
    "lob.head()"
   ]
  },
  {
   "cell_type": "code",
   "execution_count": 26,
   "id": "18a76ce5",
   "metadata": {},
   "outputs": [],
   "source": [
    "#nulls?\n",
    "\n",
    "#null_counts = lob.isnull().sum()\n",
    "#print(null_counts)\n",
    "\n",
    "#total_nulls = lob.isnull().sum().sum()\n",
    "#print(f\"Total null values in the DataFrame: {total_nulls}\")"
   ]
  },
  {
   "cell_type": "code",
   "execution_count": 16,
   "id": "a207c561",
   "metadata": {},
   "outputs": [],
   "source": [
    "#interpolate RSI nulls\n",
    "lob['RSI'] = lob['RSI'].interpolate(method='linear')"
   ]
  },
  {
   "cell_type": "code",
   "execution_count": 20,
   "id": "c62567e9",
   "metadata": {},
   "outputs": [],
   "source": [
    "#interpolate SMA nulls\n",
    "lob['SMA_Short'] = lob['SMA_Short'].interpolate(method='linear')\n",
    "lob['SMA_Long'] = lob['SMA_Long'].interpolate(method='linear')"
   ]
  },
  {
   "cell_type": "code",
   "execution_count": 22,
   "id": "2124b738",
   "metadata": {},
   "outputs": [],
   "source": [
    "#intepolate BB nulls\n",
    "lob['Upper_BB'] = lob['Upper_BB'].interpolate(method='linear')\n",
    "lob['Lower_BB'] = lob['Lower_BB'].interpolate(method='linear')"
   ]
  },
  {
   "cell_type": "code",
   "execution_count": 24,
   "id": "19eb038d",
   "metadata": {},
   "outputs": [],
   "source": [
    "#drop any remaining rows with nulls\n",
    "lob = lob.dropna()"
   ]
  },
  {
   "cell_type": "code",
   "execution_count": 29,
   "id": "55c5de0e",
   "metadata": {},
   "outputs": [],
   "source": [
    "#parsing highest bid, lowest ask, and calc the spread from bid ask \n",
    "import ast \n",
    "\n",
    "#convert string to lists\n",
    "lob['Bid'] = lob['Bid'].apply(ast.literal_eval)\n",
    "lob['Ask'] = lob['Ask'].apply(ast.literal_eval)\n",
    "\n",
    "#extract features\n",
    "lob['Highest_Bid'] = lob['Bid'].apply(lambda x: max([b[0] for b in x]))\n",
    "lob['Lowest_Ask'] = lob['Ask'].apply(lambda x: min([a[0] for a in x]))\n",
    "lob['Spread'] = lob['Lowest_Ask'] - lob['Highest_Bid']"
   ]
  },
  {
   "cell_type": "code",
   "execution_count": 30,
   "id": "6ade3a12",
   "metadata": {},
   "outputs": [
    {
     "data": {
      "text/plain": [
       "Index(['Timestamp', 'Date', 'Bid', 'Ask', 'Mid_Price', 'SMA_Short', 'SMA_Long',\n",
       "       'EMA_Short', 'EMA_Long', 'RSI', 'Upper_BB', 'Lower_BB', 'Volume', 'OBV',\n",
       "       'Mid_Price_Future', 'Highest_Bid', 'Lowest_Ask', 'Spread'],\n",
       "      dtype='object')"
      ]
     },
     "execution_count": 30,
     "metadata": {},
     "output_type": "execute_result"
    }
   ],
   "source": [
    "lob.columns"
   ]
  },
  {
   "cell_type": "code",
   "execution_count": 31,
   "id": "4d88112d",
   "metadata": {},
   "outputs": [],
   "source": [
    "#scale\n",
    "from sklearn.preprocessing import StandardScaler\n",
    "\n",
    "features_to_scale = ['Highest_Bid', 'Lowest_Ask', 'Spread', 'Mid_Price', 'SMA_Short', 'SMA_Long',\n",
    "                     'EMA_Short', 'EMA_Long', 'RSI', 'Upper_BB', 'Lower_BB', 'Volume', 'OBV',\n",
    "                     'Mid_Price_Future']\n",
    "\n",
    "#initialize\n",
    "scaler = StandardScaler()\n",
    "\n",
    "#scale\n",
    "lob[features_to_scale] = scaler.fit_transform(lob[features_to_scale])"
   ]
  },
  {
   "cell_type": "code",
   "execution_count": 32,
   "id": "b02b8b63",
   "metadata": {},
   "outputs": [],
   "source": [
    "#convert to datetime\n",
    "lob['Date'] = pd.to_datetime(lob['Date'])\n",
    "\n",
    "#extract dow (0=monday, 6=sunday)\n",
    "lob['Day_of_Week'] = lob['Date'].dt.dayofweek"
   ]
  },
  {
   "cell_type": "code",
   "execution_count": 33,
   "id": "d3ab3864",
   "metadata": {},
   "outputs": [
    {
     "data": {
      "text/html": [
       "<div>\n",
       "<style scoped>\n",
       "    .dataframe tbody tr th:only-of-type {\n",
       "        vertical-align: middle;\n",
       "    }\n",
       "\n",
       "    .dataframe tbody tr th {\n",
       "        vertical-align: top;\n",
       "    }\n",
       "\n",
       "    .dataframe thead th {\n",
       "        text-align: right;\n",
       "    }\n",
       "</style>\n",
       "<table border=\"1\" class=\"dataframe\">\n",
       "  <thead>\n",
       "    <tr style=\"text-align: right;\">\n",
       "      <th></th>\n",
       "      <th>Timestamp</th>\n",
       "      <th>Date</th>\n",
       "      <th>Bid</th>\n",
       "      <th>Ask</th>\n",
       "      <th>Mid_Price</th>\n",
       "      <th>SMA_Short</th>\n",
       "      <th>SMA_Long</th>\n",
       "      <th>EMA_Short</th>\n",
       "      <th>EMA_Long</th>\n",
       "      <th>RSI</th>\n",
       "      <th>Upper_BB</th>\n",
       "      <th>Lower_BB</th>\n",
       "      <th>Volume</th>\n",
       "      <th>OBV</th>\n",
       "      <th>Mid_Price_Future</th>\n",
       "      <th>Highest_Bid</th>\n",
       "      <th>Lowest_Ask</th>\n",
       "      <th>Spread</th>\n",
       "      <th>Day_of_Week</th>\n",
       "    </tr>\n",
       "  </thead>\n",
       "  <tbody>\n",
       "    <tr>\n",
       "      <th>49</th>\n",
       "      <td>9.393</td>\n",
       "      <td>2025-01-02</td>\n",
       "      <td>[[266, 6], [261, 1], [260, 11], [178, 15]]</td>\n",
       "      <td>[[273, 1], [274, 1], [276, 3], [277, 10], [282...</td>\n",
       "      <td>-1.236126</td>\n",
       "      <td>-1.252057</td>\n",
       "      <td>-0.455227</td>\n",
       "      <td>-1.271119</td>\n",
       "      <td>-0.315911</td>\n",
       "      <td>-1.034173</td>\n",
       "      <td>-0.931881</td>\n",
       "      <td>-1.047618</td>\n",
       "      <td>-0.044525</td>\n",
       "      <td>1.532773</td>\n",
       "      <td>-1.254595</td>\n",
       "      <td>-1.365428</td>\n",
       "      <td>-0.893067</td>\n",
       "      <td>-0.251272</td>\n",
       "      <td>3</td>\n",
       "    </tr>\n",
       "    <tr>\n",
       "      <th>50</th>\n",
       "      <td>9.424</td>\n",
       "      <td>2025-01-02</td>\n",
       "      <td>[[266, 6], [261, 1], [260, 11], [178, 15]]</td>\n",
       "      <td>[[272, 1], [273, 1], [276, 3], [277, 10], [282...</td>\n",
       "      <td>-1.254592</td>\n",
       "      <td>-1.263752</td>\n",
       "      <td>-0.568838</td>\n",
       "      <td>-1.284128</td>\n",
       "      <td>-0.362478</td>\n",
       "      <td>-1.034173</td>\n",
       "      <td>-0.932164</td>\n",
       "      <td>-1.065418</td>\n",
       "      <td>-0.044525</td>\n",
       "      <td>1.532712</td>\n",
       "      <td>-1.273061</td>\n",
       "      <td>-1.365428</td>\n",
       "      <td>-0.916206</td>\n",
       "      <td>-0.275782</td>\n",
       "      <td>3</td>\n",
       "    </tr>\n",
       "    <tr>\n",
       "      <th>51</th>\n",
       "      <td>9.517</td>\n",
       "      <td>2025-01-02</td>\n",
       "      <td>[[266, 6], [261, 1], [260, 11], [178, 15]]</td>\n",
       "      <td>[[271, 5], [272, 1], [273, 1], [276, 3], [277,...</td>\n",
       "      <td>-1.273059</td>\n",
       "      <td>-1.277395</td>\n",
       "      <td>-0.682448</td>\n",
       "      <td>-1.298365</td>\n",
       "      <td>-0.408086</td>\n",
       "      <td>-1.034173</td>\n",
       "      <td>-0.935406</td>\n",
       "      <td>-1.082625</td>\n",
       "      <td>-0.044525</td>\n",
       "      <td>1.532651</td>\n",
       "      <td>-1.273061</td>\n",
       "      <td>-1.365428</td>\n",
       "      <td>-0.939345</td>\n",
       "      <td>-0.300291</td>\n",
       "      <td>3</td>\n",
       "    </tr>\n",
       "    <tr>\n",
       "      <th>52</th>\n",
       "      <td>9.641</td>\n",
       "      <td>2025-01-02</td>\n",
       "      <td>[[266, 6], [261, 1], [260, 11], [259, 1], [178...</td>\n",
       "      <td>[[271, 5], [272, 1], [273, 1], [276, 3], [277,...</td>\n",
       "      <td>-1.273059</td>\n",
       "      <td>-1.289090</td>\n",
       "      <td>-0.795626</td>\n",
       "      <td>-1.310014</td>\n",
       "      <td>-0.451906</td>\n",
       "      <td>-1.034173</td>\n",
       "      <td>-0.938615</td>\n",
       "      <td>-1.097857</td>\n",
       "      <td>0.019066</td>\n",
       "      <td>1.532651</td>\n",
       "      <td>-1.273061</td>\n",
       "      <td>-1.365428</td>\n",
       "      <td>-0.939345</td>\n",
       "      <td>-0.300291</td>\n",
       "      <td>3</td>\n",
       "    </tr>\n",
       "    <tr>\n",
       "      <th>53</th>\n",
       "      <td>9.672</td>\n",
       "      <td>2025-01-02</td>\n",
       "      <td>[[266, 6], [261, 1], [260, 11], [259, 1], [178...</td>\n",
       "      <td>[[271, 5], [272, 1], [273, 1], [276, 3], [277,...</td>\n",
       "      <td>-1.273059</td>\n",
       "      <td>-1.298835</td>\n",
       "      <td>-1.021119</td>\n",
       "      <td>-1.319544</td>\n",
       "      <td>-0.494008</td>\n",
       "      <td>-1.034173</td>\n",
       "      <td>-0.944015</td>\n",
       "      <td>-1.109647</td>\n",
       "      <td>0.019066</td>\n",
       "      <td>1.532651</td>\n",
       "      <td>-1.291528</td>\n",
       "      <td>-1.365428</td>\n",
       "      <td>-0.939345</td>\n",
       "      <td>-0.300291</td>\n",
       "      <td>3</td>\n",
       "    </tr>\n",
       "  </tbody>\n",
       "</table>\n",
       "</div>"
      ],
      "text/plain": [
       "    Timestamp       Date                                                Bid  \\\n",
       "49      9.393 2025-01-02         [[266, 6], [261, 1], [260, 11], [178, 15]]   \n",
       "50      9.424 2025-01-02         [[266, 6], [261, 1], [260, 11], [178, 15]]   \n",
       "51      9.517 2025-01-02         [[266, 6], [261, 1], [260, 11], [178, 15]]   \n",
       "52      9.641 2025-01-02  [[266, 6], [261, 1], [260, 11], [259, 1], [178...   \n",
       "53      9.672 2025-01-02  [[266, 6], [261, 1], [260, 11], [259, 1], [178...   \n",
       "\n",
       "                                                  Ask  Mid_Price  SMA_Short  \\\n",
       "49  [[273, 1], [274, 1], [276, 3], [277, 10], [282...  -1.236126  -1.252057   \n",
       "50  [[272, 1], [273, 1], [276, 3], [277, 10], [282...  -1.254592  -1.263752   \n",
       "51  [[271, 5], [272, 1], [273, 1], [276, 3], [277,...  -1.273059  -1.277395   \n",
       "52  [[271, 5], [272, 1], [273, 1], [276, 3], [277,...  -1.273059  -1.289090   \n",
       "53  [[271, 5], [272, 1], [273, 1], [276, 3], [277,...  -1.273059  -1.298835   \n",
       "\n",
       "    SMA_Long  EMA_Short  EMA_Long       RSI  Upper_BB  Lower_BB    Volume  \\\n",
       "49 -0.455227  -1.271119 -0.315911 -1.034173 -0.931881 -1.047618 -0.044525   \n",
       "50 -0.568838  -1.284128 -0.362478 -1.034173 -0.932164 -1.065418 -0.044525   \n",
       "51 -0.682448  -1.298365 -0.408086 -1.034173 -0.935406 -1.082625 -0.044525   \n",
       "52 -0.795626  -1.310014 -0.451906 -1.034173 -0.938615 -1.097857  0.019066   \n",
       "53 -1.021119  -1.319544 -0.494008 -1.034173 -0.944015 -1.109647  0.019066   \n",
       "\n",
       "         OBV  Mid_Price_Future  Highest_Bid  Lowest_Ask    Spread  Day_of_Week  \n",
       "49  1.532773         -1.254595    -1.365428   -0.893067 -0.251272            3  \n",
       "50  1.532712         -1.273061    -1.365428   -0.916206 -0.275782            3  \n",
       "51  1.532651         -1.273061    -1.365428   -0.939345 -0.300291            3  \n",
       "52  1.532651         -1.273061    -1.365428   -0.939345 -0.300291            3  \n",
       "53  1.532651         -1.291528    -1.365428   -0.939345 -0.300291            3  "
      ]
     },
     "execution_count": 33,
     "metadata": {},
     "output_type": "execute_result"
    }
   ],
   "source": [
    "lob.head()"
   ]
  },
  {
   "cell_type": "code",
   "execution_count": 34,
   "id": "bbaaff9f",
   "metadata": {},
   "outputs": [],
   "source": [
    "#mid price future outliers\n",
    "#calc Q1, Q3, and IQR\n",
    "Q1 = lob['Mid_Price_Future'].quantile(0.25)\n",
    "Q3 = lob['Mid_Price_Future'].quantile(0.75)\n",
    "IQR = Q3 - Q1\n",
    "\n",
    "#outlier critieria\n",
    "outliers_criteria = ((lob['Mid_Price_Future'] < (Q1 - 1.5 * IQR)) | (lob['Mid_Price_Future'] > (Q3 + 1.5 * IQR)))\n",
    "\n",
    "#filter \n",
    "outliers = lob[outliers_criteria]\n",
    "\n",
    "#print(\"Number of mid_price outliers detected-\", outliers.shape[0])\n",
    "#print(\"Percentage of dataset:\", (outliers.shape[0]/len(lob)))"
   ]
  },
  {
   "cell_type": "code",
   "execution_count": 35,
   "id": "b2a64662",
   "metadata": {},
   "outputs": [],
   "source": [
    "#remove outliers\n",
    "lob = lob[~outliers_criteria]"
   ]
  },
  {
   "cell_type": "code",
   "execution_count": 36,
   "id": "7ab96ad5",
   "metadata": {
    "scrolled": false
   },
   "outputs": [
    {
     "data": {
      "text/html": [
       "<div>\n",
       "<style scoped>\n",
       "    .dataframe tbody tr th:only-of-type {\n",
       "        vertical-align: middle;\n",
       "    }\n",
       "\n",
       "    .dataframe tbody tr th {\n",
       "        vertical-align: top;\n",
       "    }\n",
       "\n",
       "    .dataframe thead th {\n",
       "        text-align: right;\n",
       "    }\n",
       "</style>\n",
       "<table border=\"1\" class=\"dataframe\">\n",
       "  <thead>\n",
       "    <tr style=\"text-align: right;\">\n",
       "      <th></th>\n",
       "      <th>Timestamp</th>\n",
       "      <th>Date</th>\n",
       "      <th>Bid</th>\n",
       "      <th>Ask</th>\n",
       "      <th>Mid_Price</th>\n",
       "      <th>SMA_Short</th>\n",
       "      <th>SMA_Long</th>\n",
       "      <th>EMA_Short</th>\n",
       "      <th>EMA_Long</th>\n",
       "      <th>RSI</th>\n",
       "      <th>Upper_BB</th>\n",
       "      <th>Lower_BB</th>\n",
       "      <th>Volume</th>\n",
       "      <th>OBV</th>\n",
       "      <th>Mid_Price_Future</th>\n",
       "      <th>Highest_Bid</th>\n",
       "      <th>Lowest_Ask</th>\n",
       "      <th>Spread</th>\n",
       "      <th>Day_of_Week</th>\n",
       "    </tr>\n",
       "  </thead>\n",
       "  <tbody>\n",
       "    <tr>\n",
       "      <th>49</th>\n",
       "      <td>9.393</td>\n",
       "      <td>2025-01-02</td>\n",
       "      <td>[[266, 6], [261, 1], [260, 11], [178, 15]]</td>\n",
       "      <td>[[273, 1], [274, 1], [276, 3], [277, 10], [282...</td>\n",
       "      <td>-1.236126</td>\n",
       "      <td>-1.252057</td>\n",
       "      <td>-0.455227</td>\n",
       "      <td>-1.271119</td>\n",
       "      <td>-0.315911</td>\n",
       "      <td>-1.034173</td>\n",
       "      <td>-0.931881</td>\n",
       "      <td>-1.047618</td>\n",
       "      <td>-0.044525</td>\n",
       "      <td>1.532773</td>\n",
       "      <td>-1.254595</td>\n",
       "      <td>-1.365428</td>\n",
       "      <td>-0.893067</td>\n",
       "      <td>-0.251272</td>\n",
       "      <td>3</td>\n",
       "    </tr>\n",
       "    <tr>\n",
       "      <th>50</th>\n",
       "      <td>9.424</td>\n",
       "      <td>2025-01-02</td>\n",
       "      <td>[[266, 6], [261, 1], [260, 11], [178, 15]]</td>\n",
       "      <td>[[272, 1], [273, 1], [276, 3], [277, 10], [282...</td>\n",
       "      <td>-1.254592</td>\n",
       "      <td>-1.263752</td>\n",
       "      <td>-0.568838</td>\n",
       "      <td>-1.284128</td>\n",
       "      <td>-0.362478</td>\n",
       "      <td>-1.034173</td>\n",
       "      <td>-0.932164</td>\n",
       "      <td>-1.065418</td>\n",
       "      <td>-0.044525</td>\n",
       "      <td>1.532712</td>\n",
       "      <td>-1.273061</td>\n",
       "      <td>-1.365428</td>\n",
       "      <td>-0.916206</td>\n",
       "      <td>-0.275782</td>\n",
       "      <td>3</td>\n",
       "    </tr>\n",
       "    <tr>\n",
       "      <th>51</th>\n",
       "      <td>9.517</td>\n",
       "      <td>2025-01-02</td>\n",
       "      <td>[[266, 6], [261, 1], [260, 11], [178, 15]]</td>\n",
       "      <td>[[271, 5], [272, 1], [273, 1], [276, 3], [277,...</td>\n",
       "      <td>-1.273059</td>\n",
       "      <td>-1.277395</td>\n",
       "      <td>-0.682448</td>\n",
       "      <td>-1.298365</td>\n",
       "      <td>-0.408086</td>\n",
       "      <td>-1.034173</td>\n",
       "      <td>-0.935406</td>\n",
       "      <td>-1.082625</td>\n",
       "      <td>-0.044525</td>\n",
       "      <td>1.532651</td>\n",
       "      <td>-1.273061</td>\n",
       "      <td>-1.365428</td>\n",
       "      <td>-0.939345</td>\n",
       "      <td>-0.300291</td>\n",
       "      <td>3</td>\n",
       "    </tr>\n",
       "    <tr>\n",
       "      <th>52</th>\n",
       "      <td>9.641</td>\n",
       "      <td>2025-01-02</td>\n",
       "      <td>[[266, 6], [261, 1], [260, 11], [259, 1], [178...</td>\n",
       "      <td>[[271, 5], [272, 1], [273, 1], [276, 3], [277,...</td>\n",
       "      <td>-1.273059</td>\n",
       "      <td>-1.289090</td>\n",
       "      <td>-0.795626</td>\n",
       "      <td>-1.310014</td>\n",
       "      <td>-0.451906</td>\n",
       "      <td>-1.034173</td>\n",
       "      <td>-0.938615</td>\n",
       "      <td>-1.097857</td>\n",
       "      <td>0.019066</td>\n",
       "      <td>1.532651</td>\n",
       "      <td>-1.273061</td>\n",
       "      <td>-1.365428</td>\n",
       "      <td>-0.939345</td>\n",
       "      <td>-0.300291</td>\n",
       "      <td>3</td>\n",
       "    </tr>\n",
       "    <tr>\n",
       "      <th>53</th>\n",
       "      <td>9.672</td>\n",
       "      <td>2025-01-02</td>\n",
       "      <td>[[266, 6], [261, 1], [260, 11], [259, 1], [178...</td>\n",
       "      <td>[[271, 5], [272, 1], [273, 1], [276, 3], [277,...</td>\n",
       "      <td>-1.273059</td>\n",
       "      <td>-1.298835</td>\n",
       "      <td>-1.021119</td>\n",
       "      <td>-1.319544</td>\n",
       "      <td>-0.494008</td>\n",
       "      <td>-1.034173</td>\n",
       "      <td>-0.944015</td>\n",
       "      <td>-1.109647</td>\n",
       "      <td>0.019066</td>\n",
       "      <td>1.532651</td>\n",
       "      <td>-1.291528</td>\n",
       "      <td>-1.365428</td>\n",
       "      <td>-0.939345</td>\n",
       "      <td>-0.300291</td>\n",
       "      <td>3</td>\n",
       "    </tr>\n",
       "  </tbody>\n",
       "</table>\n",
       "</div>"
      ],
      "text/plain": [
       "    Timestamp       Date                                                Bid  \\\n",
       "49      9.393 2025-01-02         [[266, 6], [261, 1], [260, 11], [178, 15]]   \n",
       "50      9.424 2025-01-02         [[266, 6], [261, 1], [260, 11], [178, 15]]   \n",
       "51      9.517 2025-01-02         [[266, 6], [261, 1], [260, 11], [178, 15]]   \n",
       "52      9.641 2025-01-02  [[266, 6], [261, 1], [260, 11], [259, 1], [178...   \n",
       "53      9.672 2025-01-02  [[266, 6], [261, 1], [260, 11], [259, 1], [178...   \n",
       "\n",
       "                                                  Ask  Mid_Price  SMA_Short  \\\n",
       "49  [[273, 1], [274, 1], [276, 3], [277, 10], [282...  -1.236126  -1.252057   \n",
       "50  [[272, 1], [273, 1], [276, 3], [277, 10], [282...  -1.254592  -1.263752   \n",
       "51  [[271, 5], [272, 1], [273, 1], [276, 3], [277,...  -1.273059  -1.277395   \n",
       "52  [[271, 5], [272, 1], [273, 1], [276, 3], [277,...  -1.273059  -1.289090   \n",
       "53  [[271, 5], [272, 1], [273, 1], [276, 3], [277,...  -1.273059  -1.298835   \n",
       "\n",
       "    SMA_Long  EMA_Short  EMA_Long       RSI  Upper_BB  Lower_BB    Volume  \\\n",
       "49 -0.455227  -1.271119 -0.315911 -1.034173 -0.931881 -1.047618 -0.044525   \n",
       "50 -0.568838  -1.284128 -0.362478 -1.034173 -0.932164 -1.065418 -0.044525   \n",
       "51 -0.682448  -1.298365 -0.408086 -1.034173 -0.935406 -1.082625 -0.044525   \n",
       "52 -0.795626  -1.310014 -0.451906 -1.034173 -0.938615 -1.097857  0.019066   \n",
       "53 -1.021119  -1.319544 -0.494008 -1.034173 -0.944015 -1.109647  0.019066   \n",
       "\n",
       "         OBV  Mid_Price_Future  Highest_Bid  Lowest_Ask    Spread  Day_of_Week  \n",
       "49  1.532773         -1.254595    -1.365428   -0.893067 -0.251272            3  \n",
       "50  1.532712         -1.273061    -1.365428   -0.916206 -0.275782            3  \n",
       "51  1.532651         -1.273061    -1.365428   -0.939345 -0.300291            3  \n",
       "52  1.532651         -1.273061    -1.365428   -0.939345 -0.300291            3  \n",
       "53  1.532651         -1.291528    -1.365428   -0.939345 -0.300291            3  "
      ]
     },
     "execution_count": 36,
     "metadata": {},
     "output_type": "execute_result"
    }
   ],
   "source": [
    "lob.head()"
   ]
  },
  {
   "cell_type": "markdown",
   "id": "fe61a387",
   "metadata": {},
   "source": [
    "## Train Test Split"
   ]
  },
  {
   "cell_type": "code",
   "execution_count": 37,
   "id": "3c1b4140",
   "metadata": {},
   "outputs": [],
   "source": [
    "#set split point (as timeseries)\n",
    "split_point = int(len(lob) * 0.8) \n",
    "\n",
    "#split \n",
    "train = lob.iloc[:split_point]\n",
    "test = lob.iloc[split_point:]\n",
    "\n",
    "X_train = train.drop(['Mid_Price_Future', 'Date', 'Bid', 'Ask'], axis=1)  # Drop non-feature columns\n",
    "y_train = train['Mid_Price_Future']\n",
    "\n",
    "X_test = test.drop(['Mid_Price_Future', 'Date', 'Bid', 'Ask'], axis=1)  # Drop non-feature columns\n",
    "y_test = test['Mid_Price_Future']"
   ]
  },
  {
   "cell_type": "markdown",
   "id": "872ef940",
   "metadata": {},
   "source": [
    "## XGBoost"
   ]
  },
  {
   "cell_type": "code",
   "execution_count": 40,
   "id": "87f19b06",
   "metadata": {},
   "outputs": [
    {
     "name": "stdout",
     "output_type": "stream",
     "text": [
      "MSE: 0.12514040060514497, R-squared: 0.14859841523988682\n"
     ]
    }
   ],
   "source": [
    "import xgboost as xgb\n",
    "from sklearn.metrics import mean_squared_error, r2_score\n",
    "\n",
    "#initialize and train\n",
    "model = xgb.XGBRegressor(objective ='reg:squarederror', colsample_bytree = 0.3, learning_rate = 0.1,\n",
    "                max_depth = 5, alpha = 10, n_estimators = 10)\n",
    "model.fit(X_train, y_train)\n",
    "\n",
    "#predict\n",
    "y_pred = model.predict(X_test)\n",
    "\n",
    "#initial evaluation for comparison to baseline\n",
    "mse = mean_squared_error(y_test, y_pred)\n",
    "r2 = r2_score(y_test, y_pred)\n",
    "print(f'MSE: {mse}, R-squared: {r2}')"
   ]
  },
  {
   "attachments": {
    "image.png": {
     "image/png": "[encoded data removed]"
    }
   },
   "cell_type": "markdown",
   "id": "248ff971",
   "metadata": {},
   "source": [
    "![image.png](attachment:image.png)"
   ]
  },
  {
   "cell_type": "markdown",
   "id": "22214d16",
   "metadata": {},
   "source": [
    "The xgb MSE is much lower than the MSE in the baseline model, which means the predictions from the xgbresults are much closer to the actual values on average.\n",
    "However, the xgb R² is much lower than the R² in the baseline model, indicating that the baseline model explains a much larger proportion of the variance in the dependent variable."
   ]
  },
  {
   "cell_type": "markdown",
   "id": "82393283",
   "metadata": {},
   "source": [
    "## Evaluation"
   ]
  },
  {
   "cell_type": "code",
   "execution_count": 45,
   "id": "852fd5aa",
   "metadata": {},
   "outputs": [],
   "source": [
    "from sklearn.metrics import mean_absolute_error\n",
    "mae = mean_absolute_error(y_test, y_pred)"
   ]
  },
  {
   "cell_type": "code",
   "execution_count": 46,
   "id": "f8aefacc",
   "metadata": {},
   "outputs": [],
   "source": [
    "from math import sqrt\n",
    "rmse = sqrt(mean_squared_error(y_test, y_pred))"
   ]
  },
  {
   "cell_type": "code",
   "execution_count": 48,
   "id": "83a65132",
   "metadata": {},
   "outputs": [],
   "source": [
    "import numpy as np\n",
    "mape = np.mean(np.abs((y_test - y_pred) / y_test)) * 100"
   ]
  },
  {
   "cell_type": "code",
   "execution_count": 49,
   "id": "3fe1ea17",
   "metadata": {},
   "outputs": [],
   "source": [
    "adjusted_r2 = 1 - (1-r2_score(y_test, y_pred)) * (len(y_test)-1)/(len(y_test)-X_test.shape[1]-1)"
   ]
  },
  {
   "cell_type": "code",
   "execution_count": 50,
   "id": "3903774c",
   "metadata": {},
   "outputs": [],
   "source": [
    "from sklearn.metrics import explained_variance_score\n",
    "explained_variance = explained_variance_score(y_test, y_pred)"
   ]
  },
  {
   "cell_type": "code",
   "execution_count": 51,
   "id": "1de6e181",
   "metadata": {},
   "outputs": [],
   "source": [
    "from sklearn.metrics import max_error\n",
    "max_error = max_error(y_test, y_pred)"
   ]
  },
  {
   "cell_type": "code",
   "execution_count": 53,
   "id": "437029d7",
   "metadata": {},
   "outputs": [
    {
     "name": "stdout",
     "output_type": "stream",
     "text": [
      "MAE: 0.2844078704362013\n",
      "RMSE: 0.35375189130963663\n",
      "MAPE: 86.83060883802824\n",
      "Adjusted R2: 0.14853379828715707\n",
      "Explained variance: 0.550757834344854\n",
      "Max error: 2.485425181066331\n"
     ]
    }
   ],
   "source": [
    "print(f'MAE: {mae}')\n",
    "print(f'RMSE: {rmse}')\n",
    "print(f'MAPE: {mape}')\n",
    "print(f'Adjusted R2: {adjusted_r2}')\n",
    "print(f'Explained variance: {explained_variance}')\n",
    "print(f'Max error: {max_error}')"
   ]
  },
  {
   "cell_type": "markdown",
   "id": "bc61fdbb",
   "metadata": {},
   "source": [
    "Given the range of Mid_Price_Future from 133.5 to 557:\n",
    "\n",
    "MAE (Mean Absolute Error) of 0.284: This is relatively small compared to the range of the target variable. So on average, the predictions are off by less than one unit.\n",
    "\n",
    "RMSE (Root Mean Squared Error) of 0.354: Like MAE, this value is small relative to the range of the data, suggesting that the model's predictions are generally close to the actual values. However, RMSE being higher than MAE suggests the presence of some larger errors. \n",
    "\n",
    "MAPE (Mean Absolute Percentage Error) of 86.83%: This seems quite high and could indicate that for some predictions, the error is large relative to the actual value. Given the wide range of the Mid_Price_Future, this high percentage could be influenced by actual values that are low relative to the range (as percentage errors are inflated when the actual values are small).\n",
    "\n",
    "Adjusted R² of 0.1485: This suggests that only about 14.85% of the variance in the future mid-price is explained by the model, which is not very high. \n",
    "\n",
    "Explained Variance of 0.551: This tells us that the model explains a bit more than half of the variance of the target variable, which is ok but definitely room for improvement.\n",
    "\n",
    "Max Error of 2.485: The largest individual error is approximately 2.5 units, which is minor compared to the range of the target variable.\n",
    "\n",
    "Considering these metrics and the range of the target variable, it seems the model has a relatively low error in terms of absolute units. However, the high MAPE and the relatively low R² suggest there are instances where the model is not predicting as accurately as desired, or there are predictions that are significantly off as a percentage of the actual values.\n",
    "\n",
    "We need to consider the distribution of errors- I think within the financial world consistent errors across the range of predictions would be generally more acceptable than a model that performs well on average but has occasional but significant mispredictions.(? I think)"
   ]
  },
  {
   "cell_type": "code",
   "execution_count": 43,
   "id": "19456e17",
   "metadata": {},
   "outputs": [],
   "source": [
    "#pip install shap"
   ]
  },
  {
   "cell_type": "code",
   "execution_count": 44,
   "id": "d96b580b",
   "metadata": {},
   "outputs": [
    {
     "data": {
      "image/png": "[encoded data removed]",
      "text/plain": [
       "<Figure size 640x480 with 1 Axes>"
      ]
     },
     "metadata": {},
     "output_type": "display_data"
    },
    {
     "ename": "OSError",
     "evalue": "[WinError 127] The specified procedure could not be found. Error loading \"C:\\Users\\s_sta\\anaconda3\\lib\\site-packages\\torch\\lib\\c10_cuda.dll\" or one of its dependencies.",
     "output_type": "error",
     "traceback": [
      "\u001b[1;31m---------------------------------------------------------------------------\u001b[0m",
      "\u001b[1;31mOSError\u001b[0m                                   Traceback (most recent call last)",
      "Input \u001b[1;32mIn [44]\u001b[0m, in \u001b[0;36m<cell line: 9>\u001b[1;34m()\u001b[0m\n\u001b[0;32m      6\u001b[0m plt\u001b[38;5;241m.\u001b[39mshow()\n\u001b[0;32m      8\u001b[0m \u001b[38;5;66;03m# For more advanced explainability, consider using SHAP values\u001b[39;00m\n\u001b[1;32m----> 9\u001b[0m \u001b[38;5;28;01mimport\u001b[39;00m \u001b[38;5;21;01mshap\u001b[39;00m\n\u001b[0;32m     11\u001b[0m \u001b[38;5;66;03m# Calculate SHAP values\u001b[39;00m\n\u001b[0;32m     12\u001b[0m explainer \u001b[38;5;241m=\u001b[39m shap\u001b[38;5;241m.\u001b[39mTreeExplainer(model)\n",
      "File \u001b[1;32m~\\anaconda3\\lib\\site-packages\\shap\\__init__.py:4\u001b[0m, in \u001b[0;36m<module>\u001b[1;34m\u001b[0m\n\u001b[0;32m      1\u001b[0m \u001b[38;5;28;01mfrom\u001b[39;00m \u001b[38;5;21;01m.\u001b[39;00m\u001b[38;5;21;01m_explanation\u001b[39;00m \u001b[38;5;28;01mimport\u001b[39;00m Cohorts, Explanation\n\u001b[0;32m      3\u001b[0m \u001b[38;5;66;03m# explainers\u001b[39;00m\n\u001b[1;32m----> 4\u001b[0m \u001b[38;5;28;01mfrom\u001b[39;00m \u001b[38;5;21;01m.\u001b[39;00m\u001b[38;5;21;01mexplainers\u001b[39;00m \u001b[38;5;28;01mimport\u001b[39;00m other\n\u001b[0;32m      5\u001b[0m \u001b[38;5;28;01mfrom\u001b[39;00m \u001b[38;5;21;01m.\u001b[39;00m\u001b[38;5;21;01mexplainers\u001b[39;00m\u001b[38;5;21;01m.\u001b[39;00m\u001b[38;5;21;01m_additive\u001b[39;00m \u001b[38;5;28;01mimport\u001b[39;00m AdditiveExplainer\n\u001b[0;32m      6\u001b[0m \u001b[38;5;28;01mfrom\u001b[39;00m \u001b[38;5;21;01m.\u001b[39;00m\u001b[38;5;21;01mexplainers\u001b[39;00m\u001b[38;5;21;01m.\u001b[39;00m\u001b[38;5;21;01m_deep\u001b[39;00m \u001b[38;5;28;01mimport\u001b[39;00m DeepExplainer\n",
      "File \u001b[1;32m~\\anaconda3\\lib\\site-packages\\shap\\explainers\\__init__.py:1\u001b[0m, in \u001b[0;36m<module>\u001b[1;34m\u001b[0m\n\u001b[1;32m----> 1\u001b[0m \u001b[38;5;28;01mfrom\u001b[39;00m \u001b[38;5;21;01m.\u001b[39;00m\u001b[38;5;21;01m_additive\u001b[39;00m \u001b[38;5;28;01mimport\u001b[39;00m AdditiveExplainer\n\u001b[0;32m      2\u001b[0m \u001b[38;5;28;01mfrom\u001b[39;00m \u001b[38;5;21;01m.\u001b[39;00m\u001b[38;5;21;01m_deep\u001b[39;00m \u001b[38;5;28;01mimport\u001b[39;00m DeepExplainer\n\u001b[0;32m      3\u001b[0m \u001b[38;5;28;01mfrom\u001b[39;00m \u001b[38;5;21;01m.\u001b[39;00m\u001b[38;5;21;01m_exact\u001b[39;00m \u001b[38;5;28;01mimport\u001b[39;00m ExactExplainer\n",
      "File \u001b[1;32m~\\anaconda3\\lib\\site-packages\\shap\\explainers\\_additive.py:4\u001b[0m, in \u001b[0;36m<module>\u001b[1;34m\u001b[0m\n\u001b[0;32m      1\u001b[0m \u001b[38;5;28;01mimport\u001b[39;00m \u001b[38;5;21;01mnumpy\u001b[39;00m \u001b[38;5;28;01mas\u001b[39;00m \u001b[38;5;21;01mnp\u001b[39;00m\n\u001b[0;32m      3\u001b[0m \u001b[38;5;28;01mfrom\u001b[39;00m \u001b[38;5;21;01m.\u001b[39;00m\u001b[38;5;21;01m.\u001b[39;00m\u001b[38;5;21;01mutils\u001b[39;00m \u001b[38;5;28;01mimport\u001b[39;00m MaskedModel, safe_isinstance\n\u001b[1;32m----> 4\u001b[0m \u001b[38;5;28;01mfrom\u001b[39;00m \u001b[38;5;21;01m.\u001b[39;00m\u001b[38;5;21;01m_explainer\u001b[39;00m \u001b[38;5;28;01mimport\u001b[39;00m Explainer\n\u001b[0;32m      7\u001b[0m \u001b[38;5;28;01mclass\u001b[39;00m \u001b[38;5;21;01mAdditiveExplainer\u001b[39;00m(Explainer):\n\u001b[0;32m      8\u001b[0m     \u001b[38;5;124;03m\"\"\" Computes SHAP values for generalized additive models.\u001b[39;00m\n\u001b[0;32m      9\u001b[0m \n\u001b[0;32m     10\u001b[0m \u001b[38;5;124;03m    This assumes that the model only has first-order effects. Extending this to\u001b[39;00m\n\u001b[0;32m     11\u001b[0m \u001b[38;5;124;03m    second- and third-order effects is future work (if you apply this to those models right now\u001b[39;00m\n\u001b[0;32m     12\u001b[0m \u001b[38;5;124;03m    you will get incorrect answers that fail additivity).\u001b[39;00m\n\u001b[0;32m     13\u001b[0m \u001b[38;5;124;03m    \"\"\"\u001b[39;00m\n",
      "File \u001b[1;32m~\\anaconda3\\lib\\site-packages\\shap\\explainers\\_explainer.py:8\u001b[0m, in \u001b[0;36m<module>\u001b[1;34m\u001b[0m\n\u001b[0;32m      5\u001b[0m \u001b[38;5;28;01mimport\u001b[39;00m \u001b[38;5;21;01mpandas\u001b[39;00m \u001b[38;5;28;01mas\u001b[39;00m \u001b[38;5;21;01mpd\u001b[39;00m\n\u001b[0;32m      6\u001b[0m \u001b[38;5;28;01mimport\u001b[39;00m \u001b[38;5;21;01mscipy\u001b[39;00m\u001b[38;5;21;01m.\u001b[39;00m\u001b[38;5;21;01msparse\u001b[39;00m\n\u001b[1;32m----> 8\u001b[0m \u001b[38;5;28;01mfrom\u001b[39;00m \u001b[38;5;21;01m.\u001b[39;00m\u001b[38;5;21;01m.\u001b[39;00m \u001b[38;5;28;01mimport\u001b[39;00m explainers, links, maskers, models\n\u001b[0;32m      9\u001b[0m \u001b[38;5;28;01mfrom\u001b[39;00m \u001b[38;5;21;01m.\u001b[39;00m\u001b[38;5;21;01m.\u001b[39;00m\u001b[38;5;21;01m_explanation\u001b[39;00m \u001b[38;5;28;01mimport\u001b[39;00m Explanation\n\u001b[0;32m     10\u001b[0m \u001b[38;5;28;01mfrom\u001b[39;00m \u001b[38;5;21;01m.\u001b[39;00m\u001b[38;5;21;01m.\u001b[39;00m\u001b[38;5;21;01m_serializable\u001b[39;00m \u001b[38;5;28;01mimport\u001b[39;00m Deserializer, Serializable, Serializer\n",
      "File \u001b[1;32m~\\anaconda3\\lib\\site-packages\\shap\\maskers\\__init__.py:4\u001b[0m, in \u001b[0;36m<module>\u001b[1;34m\u001b[0m\n\u001b[0;32m      2\u001b[0m \u001b[38;5;28;01mfrom\u001b[39;00m \u001b[38;5;21;01m.\u001b[39;00m\u001b[38;5;21;01m_fixed\u001b[39;00m \u001b[38;5;28;01mimport\u001b[39;00m Fixed\n\u001b[0;32m      3\u001b[0m \u001b[38;5;28;01mfrom\u001b[39;00m \u001b[38;5;21;01m.\u001b[39;00m\u001b[38;5;21;01m_fixed_composite\u001b[39;00m \u001b[38;5;28;01mimport\u001b[39;00m FixedComposite\n\u001b[1;32m----> 4\u001b[0m \u001b[38;5;28;01mfrom\u001b[39;00m \u001b[38;5;21;01m.\u001b[39;00m\u001b[38;5;21;01m_image\u001b[39;00m \u001b[38;5;28;01mimport\u001b[39;00m Image\n\u001b[0;32m      5\u001b[0m \u001b[38;5;28;01mfrom\u001b[39;00m \u001b[38;5;21;01m.\u001b[39;00m\u001b[38;5;21;01m_masker\u001b[39;00m \u001b[38;5;28;01mimport\u001b[39;00m Masker\n\u001b[0;32m      6\u001b[0m \u001b[38;5;28;01mfrom\u001b[39;00m \u001b[38;5;21;01m.\u001b[39;00m\u001b[38;5;21;01m_output_composite\u001b[39;00m \u001b[38;5;28;01mimport\u001b[39;00m OutputComposite\n",
      "File \u001b[1;32m~\\anaconda3\\lib\\site-packages\\shap\\maskers\\_image.py:16\u001b[0m, in \u001b[0;36m<module>\u001b[1;34m\u001b[0m\n\u001b[0;32m     13\u001b[0m \u001b[38;5;28;01mfrom\u001b[39;00m \u001b[38;5;21;01m.\u001b[39;00m\u001b[38;5;21;01m_masker\u001b[39;00m \u001b[38;5;28;01mimport\u001b[39;00m Masker\n\u001b[0;32m     15\u001b[0m \u001b[38;5;28;01mtry\u001b[39;00m:\n\u001b[1;32m---> 16\u001b[0m     \u001b[38;5;28;01mimport\u001b[39;00m \u001b[38;5;21;01mtorch\u001b[39;00m  \u001b[38;5;66;03m# noqa: F401\u001b[39;00m\n\u001b[0;32m     17\u001b[0m \u001b[38;5;28;01mexcept\u001b[39;00m \u001b[38;5;167;01mImportError\u001b[39;00m \u001b[38;5;28;01mas\u001b[39;00m e:\n\u001b[0;32m     18\u001b[0m     record_import_error(\u001b[38;5;124m\"\u001b[39m\u001b[38;5;124mtorch\u001b[39m\u001b[38;5;124m\"\u001b[39m, \u001b[38;5;124m\"\u001b[39m\u001b[38;5;124mtorch could not be imported!\u001b[39m\u001b[38;5;124m\"\u001b[39m, e)\n",
      "File \u001b[1;32m~\\anaconda3\\lib\\site-packages\\torch\\__init__.py:130\u001b[0m, in \u001b[0;36m<module>\u001b[1;34m\u001b[0m\n\u001b[0;32m    128\u001b[0m     err \u001b[38;5;241m=\u001b[39m ctypes\u001b[38;5;241m.\u001b[39mWinError(last_error)\n\u001b[0;32m    129\u001b[0m     err\u001b[38;5;241m.\u001b[39mstrerror \u001b[38;5;241m+\u001b[39m\u001b[38;5;241m=\u001b[39m \u001b[38;5;124mf\u001b[39m\u001b[38;5;124m'\u001b[39m\u001b[38;5;124m Error loading \u001b[39m\u001b[38;5;124m\"\u001b[39m\u001b[38;5;132;01m{\u001b[39;00mdll\u001b[38;5;132;01m}\u001b[39;00m\u001b[38;5;124m\"\u001b[39m\u001b[38;5;124m or one of its dependencies.\u001b[39m\u001b[38;5;124m'\u001b[39m\n\u001b[1;32m--> 130\u001b[0m     \u001b[38;5;28;01mraise\u001b[39;00m err\n\u001b[0;32m    131\u001b[0m \u001b[38;5;28;01melif\u001b[39;00m res \u001b[38;5;129;01mis\u001b[39;00m \u001b[38;5;129;01mnot\u001b[39;00m \u001b[38;5;28;01mNone\u001b[39;00m:\n\u001b[0;32m    132\u001b[0m     is_loaded \u001b[38;5;241m=\u001b[39m \u001b[38;5;28;01mTrue\u001b[39;00m\n",
      "\u001b[1;31mOSError\u001b[0m: [WinError 127] The specified procedure could not be found. Error loading \"C:\\Users\\s_sta\\anaconda3\\lib\\site-packages\\torch\\lib\\c10_cuda.dll\" or one of its dependencies."
     ]
    }
   ],
   "source": [
    "import matplotlib.pyplot as plt\n",
    "\n",
    "#feature importances\n",
    "xgb.plot_importance(model)\n",
    "plt.title('Feature Importance')\n",
    "plt.show()\n",
    "\n",
    "import shap\n",
    "\n",
    "explainer = shap.TreeExplainer(model)\n",
    "shap_values = explainer.shap_values(X_test)\n",
    "\n",
    "shap.force_plot(explainer.expected_value, shap_values[0,:], X_test.iloc[0,:])"
   ]
  },
  {
   "cell_type": "code",
   "execution_count": null,
   "id": "6ab4a4b3",
   "metadata": {},
   "outputs": [],
   "source": [
    "#think I need to reinstall SHAP"
   ]
  },
  {
   "cell_type": "markdown",
   "id": "c5b2a3f2",
   "metadata": {},
   "source": [
    "'Lowest_Ask' is the most important feature for the model, with the highest F score, so it was used most frequently to make splits when building the trees.\n",
    "\n",
    "'Lower_BB' (Lower Bollinger Band) and 'Upper_BB' (Upper Bollinger Band) also have high importance scores, suggesting that these features are significant in the prediction of the target variable, possibly because they capture the volatility and price bounds well.(?I think)\n",
    "\n",
    "'Spread', 'EMA_Short' (Short-term Exponential Moving Average), and 'SMA_Short' (Short-term Simple Moving Average) are moderately important.\n",
    "\n",
    "'Timestamp' and 'RSI' (Relative Strength Index) have the lowest importance scores,so these features contribute less to the decisions made by the model. The low score for 'Timestamp' aligns with expectations.\n",
    "trust and transparency when putting models into production or making significant decisions based on their output."
   ]
  },
  {
   "cell_type": "markdown",
   "id": "b2cbeb73",
   "metadata": {},
   "source": [
    "So now some more FE and try to improve the performance. "
   ]
  },
  {
   "cell_type": "code",
   "execution_count": null,
   "id": "4c1142f1",
   "metadata": {},
   "outputs": [],
   "source": []
  }
 ],
 "metadata": {
  "kernelspec": {
   "display_name": "Python 3 (ipykernel)",
   "language": "python",
   "name": "python3"
  },
  "language_info": {
   "codemirror_mode": {
    "name": "ipython",
    "version": 3
   },
   "file_extension": ".py",
   "mimetype": "text/x-python",
   "name": "python",
   "nbconvert_exporter": "python",
   "pygments_lexer": "ipython3",
   "version": "3.9.12"
  }
 },
 "nbformat": 4,
 "nbformat_minor": 5
}
