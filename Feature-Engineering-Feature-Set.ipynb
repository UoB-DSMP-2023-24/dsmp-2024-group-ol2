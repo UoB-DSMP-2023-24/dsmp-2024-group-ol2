{
 "cells": [
  {
   "cell_type": "markdown",
   "metadata": {},
   "source": [
    "# Feature Engineering\n",
    "\n",
    "COmbine all of the feature calculations into a single notebook and output a full featue set as a dataframe.\n",
    "\n",
    "### Import Libraries"
   ]
  },
  {
   "cell_type": "code",
   "execution_count": 1,
   "metadata": {},
   "outputs": [],
   "source": [
    "#import required libraries\n",
    "from utils import aws # used to create aws session and load parquet \n",
    "import pandas as pd\n",
    "import numpy as np\n",
    "import ast \n",
    "import dask.dataframe as dd"
   ]
  },
  {
   "cell_type": "markdown",
   "metadata": {},
   "source": [
    "### Load LOB Data\n",
    "\n",
    "Currently this is run using the sample dataset, but going forward will need to be run using the full LOB dataset."
   ]
  },
  {
   "cell_type": "code",
   "execution_count": 2,
   "metadata": {},
   "outputs": [],
   "source": [
    "#load sample lob from s3 to a dask dataframe\n",
    "samp_lob_ddf = aws.load_s3_file_as_ddf(\"s3://dsmp-ol2/processed-data/lob_sample_data.parquet\")"
   ]
  },
  {
   "cell_type": "code",
   "execution_count": 3,
   "metadata": {},
   "outputs": [],
   "source": [
    "#compute the dask datafram to a pandas dataframe\n",
    "df = samp_lob_ddf.compute()"
   ]
  },
  {
   "cell_type": "code",
   "execution_count": 4,
   "metadata": {},
   "outputs": [
    {
     "data": {
      "text/html": [
       "<div>\n",
       "<style scoped>\n",
       "    .dataframe tbody tr th:only-of-type {\n",
       "        vertical-align: middle;\n",
       "    }\n",
       "\n",
       "    .dataframe tbody tr th {\n",
       "        vertical-align: top;\n",
       "    }\n",
       "\n",
       "    .dataframe thead th {\n",
       "        text-align: right;\n",
       "    }\n",
       "</style>\n",
       "<table border=\"1\" class=\"dataframe\">\n",
       "  <thead>\n",
       "    <tr style=\"text-align: right;\">\n",
       "      <th></th>\n",
       "      <th>Timestamp</th>\n",
       "      <th>Exchange</th>\n",
       "      <th>Bid</th>\n",
       "      <th>Ask</th>\n",
       "      <th>Date</th>\n",
       "      <th>Mid_Price</th>\n",
       "    </tr>\n",
       "  </thead>\n",
       "  <tbody>\n",
       "    <tr>\n",
       "      <th>0</th>\n",
       "      <td>0.000</td>\n",
       "      <td>Exch0</td>\n",
       "      <td>[]</td>\n",
       "      <td>[]</td>\n",
       "      <td>2025-01-02</td>\n",
       "      <td>NaN</td>\n",
       "    </tr>\n",
       "    <tr>\n",
       "      <th>1</th>\n",
       "      <td>0.279</td>\n",
       "      <td>Exch0</td>\n",
       "      <td>[[1, 6]]</td>\n",
       "      <td>[]</td>\n",
       "      <td>2025-01-02</td>\n",
       "      <td>NaN</td>\n",
       "    </tr>\n",
       "    <tr>\n",
       "      <th>2</th>\n",
       "      <td>1.333</td>\n",
       "      <td>Exch0</td>\n",
       "      <td>[[1, 6]]</td>\n",
       "      <td>[[800, 1]]</td>\n",
       "      <td>2025-01-02</td>\n",
       "      <td>400.5</td>\n",
       "    </tr>\n",
       "    <tr>\n",
       "      <th>3</th>\n",
       "      <td>1.581</td>\n",
       "      <td>Exch0</td>\n",
       "      <td>[[1, 6]]</td>\n",
       "      <td>[[799, 1]]</td>\n",
       "      <td>2025-01-02</td>\n",
       "      <td>400.0</td>\n",
       "    </tr>\n",
       "    <tr>\n",
       "      <th>4</th>\n",
       "      <td>1.643</td>\n",
       "      <td>Exch0</td>\n",
       "      <td>[[1, 6]]</td>\n",
       "      <td>[[798, 1]]</td>\n",
       "      <td>2025-01-02</td>\n",
       "      <td>399.5</td>\n",
       "    </tr>\n",
       "  </tbody>\n",
       "</table>\n",
       "</div>"
      ],
      "text/plain": [
       "   Timestamp Exchange       Bid         Ask        Date  Mid_Price\n",
       "0      0.000    Exch0        []          []  2025-01-02        NaN\n",
       "1      0.279    Exch0  [[1, 6]]          []  2025-01-02        NaN\n",
       "2      1.333    Exch0  [[1, 6]]  [[800, 1]]  2025-01-02      400.5\n",
       "3      1.581    Exch0  [[1, 6]]  [[799, 1]]  2025-01-02      400.0\n",
       "4      1.643    Exch0  [[1, 6]]  [[798, 1]]  2025-01-02      399.5"
      ]
     },
     "execution_count": 4,
     "metadata": {},
     "output_type": "execute_result"
    }
   ],
   "source": [
    "df.head()"
   ]
  },
  {
   "cell_type": "markdown",
   "metadata": {},
   "source": [
    "### Preprocessing"
   ]
  },
  {
   "cell_type": "code",
   "execution_count": 5,
   "metadata": {},
   "outputs": [],
   "source": [
    "#convert string to lists\n",
    "df['Bid'] = df['Bid'].apply(ast.literal_eval)\n",
    "df['Ask'] = df['Ask'].apply(ast.literal_eval)"
   ]
  },
  {
   "cell_type": "code",
   "execution_count": 6,
   "metadata": {},
   "outputs": [],
   "source": [
    "#drop missing rows in mid price\n",
    "df = df.dropna(subset=['Mid_Price']) # This assumes the number of missing mid prices is small\n",
    "# TODO following EDA determine if this is the correct decision"
   ]
  },
  {
   "cell_type": "markdown",
   "metadata": {},
   "source": [
    "## Feature Engineering\n",
    "\n",
    "### Volume and OBV\n",
    "\n",
    "- OBV -on balance volume- confirm trends by analysing volume changes. Persistnet rising obv suggests accumulation / buying pressure- associated with upward price movement. Persistent falling obv suggests distribution /selling pressure. Theory is that changes in volume preced price movements. Increase in volume often precedes a change in price direction. Use as trend,reversal and breakout confirmation.\n",
    "\n",
    "\n",
    "- If today's close is higher than yesterday's close, then OBV = Previous OBV + today's volume.\n",
    "- If today's close is lower than yesterday's close, then OBV = Previous OBV - today's volume.\n",
    "- If today's close is equal to yesterday's close, then OBV = Previous OBV."
   ]
  },
  {
   "cell_type": "code",
   "execution_count": 7,
   "metadata": {},
   "outputs": [],
   "source": [
    "#calculate order volume at each timestep\n",
    "df['Volume'] = df['Bid'].apply(lambda x: sum([qty for price, qty in x])) + \\\n",
    "               df['Ask'].apply(lambda x: sum([qty for price, qty in x]))\n",
    "\n",
    "#calc obv\n",
    "#should be done using close but we can approximate with mid but might not be as reliable\n",
    "direction = df['Mid_Price'].diff().apply(lambda x: 1 if x > 0 else (-1 if x < 0 else 0))\n",
    "df['OBV'] = (direction * df['Volume']).cumsum()"
   ]
  },
  {
   "cell_type": "markdown",
   "metadata": {},
   "source": [
    "### Order Book Imbalance\n",
    "\n",
    "Order book imbalance reflects the proportion of buy to sell orders and can indicate potential price movements based on supply and demand dynamics.\n",
    "\n",
    "calc as:\n",
    "\n",
    "$$\n",
    "\\text{Imbalance} = \\frac{Q_{\\text{bid}} - Q_{\\text{ask}}}{Q_{\\text{bid}} + Q_{\\text{ask}}}\n",
    "$$\n",
    "\n",
    "where:\n",
    "- $Q_{\\text{bid}}$ is the total quantity of buy orders,\n",
    "- $Q_{\\text{ask}}$ is the total quantity of sell orders.\n",
    "\n",
    "Positive imbalance suggests a predominance of buy orders, which could indicate upward pressure on prices, while a negative imbalance suggests the opposite."
   ]
  },
  {
   "cell_type": "code",
   "execution_count": 8,
   "metadata": {},
   "outputs": [],
   "source": [
    "#calc total quantity\n",
    "def total_quantity(price_qty_list):\n",
    "    if not price_qty_list:\n",
    "        return 0\n",
    "    total_qty = sum(qty for _, qty in price_qty_list)\n",
    "    return total_qty\n",
    "\n",
    "#calc total bid ask quantities\n",
    "df['Total_Bid_Qty'] = df['Bid'].apply(total_quantity)\n",
    "df['Total_Ask_Qty'] = df['Ask'].apply(total_quantity)\n",
    "\n",
    "#calc order book imbalance\n",
    "df['Order_Book_Imbalance'] = (df['Total_Bid_Qty'] - df['Total_Ask_Qty']) / (df['Total_Bid_Qty'] + df['Total_Ask_Qty'])"
   ]
  },
  {
   "cell_type": "code",
   "execution_count": null,
   "metadata": {},
   "outputs": [],
   "source": []
  }
 ],
 "metadata": {
  "kernelspec": {
   "display_name": "dsmp-ol2",
   "language": "python",
   "name": "python3"
  },
  "language_info": {
   "codemirror_mode": {
    "name": "ipython",
    "version": 3
   },
   "file_extension": ".py",
   "mimetype": "text/x-python",
   "name": "python",
   "nbconvert_exporter": "python",
   "pygments_lexer": "ipython3",
   "version": "3.11.8"
  }
 },
 "nbformat": 4,
 "nbformat_minor": 2
}
